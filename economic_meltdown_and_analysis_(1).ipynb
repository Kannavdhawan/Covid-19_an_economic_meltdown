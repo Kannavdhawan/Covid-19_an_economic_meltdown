{
  "nbformat": 4,
  "nbformat_minor": 0,
  "metadata": {
    "kernelspec": {
      "display_name": "Python 3",
      "language": "python",
      "name": "python3"
    },
    "language_info": {
      "codemirror_mode": {
        "name": "ipython",
        "version": 3
      },
      "file_extension": ".py",
      "mimetype": "text/x-python",
      "name": "python",
      "nbconvert_exporter": "python",
      "pygments_lexer": "ipython3",
      "version": "3.6.6"
    },
    "colab": {
      "name": "economic-meltdown-and-analysis (1).ipynb",
      "provenance": [],
      "collapsed_sections": []
    }
  },
  "cells": [
    {
      "cell_type": "code",
      "metadata": {
        "_cell_guid": "b1076dfc-b9ad-4769-8c92-a6c4dae69d19",
        "_uuid": "8f2839f25d086af736a60e9eeb907d3b93b6e0e5",
        "id": "gHNYFDbGiOOO",
        "colab_type": "code",
        "colab": {}
      },
      "source": [
        "import numpy as np # linear algebra\n",
        "import pandas as pd # data processing, CSV file I/O (e.g. pd.read_csv)\n",
        "from matplotlib import pyplot as plt\n",
        "import seaborn as sns; sns.set()\n",
        "# Visualisation\n",
        "import matplotlib as mpl\n",
        "import matplotlib.pyplot as plt\n",
        "import matplotlib.pylab as pylab\n",
        "import seaborn as sns\n",
        "import missingno as msno\n",
        "# Configure visualisations\n",
        "%matplotlib inline\n",
        "mpl.style.use( 'ggplot' )\n",
        "plt.style.use('fivethirtyeight')\n",
        "sns.set(context=\"notebook\", palette=\"dark\", style = 'whitegrid' , color_codes=True)\n",
        "\n",
        "import warnings\n",
        "import datetime\n",
        "warnings.filterwarnings('ignore')"
      ],
      "execution_count": 0,
      "outputs": []
    },
    {
      "cell_type": "code",
      "metadata": {
        "_cell_guid": "79c7e3d0-c299-4dcb-8224-4455121ee9b0",
        "_uuid": "d629ff2d2480ee46fbb7e2d37f6b5fab8052498a",
        "id": "FzhhGN7FiOOZ",
        "colab_type": "code",
        "outputId": "70a28fb3-a06f-4d2f-eac1-df402dbb3af3",
        "colab": {}
      },
      "source": [
        "filename = \"/kaggle/input/ece657aw20asg4coronavirus/time_series_covid19_confirmed_global.csv\"\n",
        "df = pd.read_csv(filename)\n",
        "df"
      ],
      "execution_count": 0,
      "outputs": [
        {
          "output_type": "execute_result",
          "data": {
            "text/html": [
              "<div>\n",
              "<style scoped>\n",
              "    .dataframe tbody tr th:only-of-type {\n",
              "        vertical-align: middle;\n",
              "    }\n",
              "\n",
              "    .dataframe tbody tr th {\n",
              "        vertical-align: top;\n",
              "    }\n",
              "\n",
              "    .dataframe thead th {\n",
              "        text-align: right;\n",
              "    }\n",
              "</style>\n",
              "<table border=\"1\" class=\"dataframe\">\n",
              "  <thead>\n",
              "    <tr style=\"text-align: right;\">\n",
              "      <th></th>\n",
              "      <th>Province/State</th>\n",
              "      <th>Country/Region</th>\n",
              "      <th>Lat</th>\n",
              "      <th>Long</th>\n",
              "      <th>1/22/20</th>\n",
              "      <th>1/23/20</th>\n",
              "      <th>1/24/20</th>\n",
              "      <th>1/25/20</th>\n",
              "      <th>1/26/20</th>\n",
              "      <th>1/27/20</th>\n",
              "      <th>...</th>\n",
              "      <th>4/8/20</th>\n",
              "      <th>4/9/20</th>\n",
              "      <th>4/10/20</th>\n",
              "      <th>4/11/20</th>\n",
              "      <th>4/12/20</th>\n",
              "      <th>4/13/20</th>\n",
              "      <th>4/14/20</th>\n",
              "      <th>4/15/20</th>\n",
              "      <th>4/16/20</th>\n",
              "      <th>4/17/20</th>\n",
              "    </tr>\n",
              "  </thead>\n",
              "  <tbody>\n",
              "    <tr>\n",
              "      <th>0</th>\n",
              "      <td>NaN</td>\n",
              "      <td>Afghanistan</td>\n",
              "      <td>33.000000</td>\n",
              "      <td>65.000000</td>\n",
              "      <td>0</td>\n",
              "      <td>0</td>\n",
              "      <td>0</td>\n",
              "      <td>0</td>\n",
              "      <td>0</td>\n",
              "      <td>0</td>\n",
              "      <td>...</td>\n",
              "      <td>444</td>\n",
              "      <td>484</td>\n",
              "      <td>521</td>\n",
              "      <td>555</td>\n",
              "      <td>607</td>\n",
              "      <td>665</td>\n",
              "      <td>714</td>\n",
              "      <td>784</td>\n",
              "      <td>840</td>\n",
              "      <td>906</td>\n",
              "    </tr>\n",
              "    <tr>\n",
              "      <th>1</th>\n",
              "      <td>NaN</td>\n",
              "      <td>Albania</td>\n",
              "      <td>41.153300</td>\n",
              "      <td>20.168300</td>\n",
              "      <td>0</td>\n",
              "      <td>0</td>\n",
              "      <td>0</td>\n",
              "      <td>0</td>\n",
              "      <td>0</td>\n",
              "      <td>0</td>\n",
              "      <td>...</td>\n",
              "      <td>400</td>\n",
              "      <td>409</td>\n",
              "      <td>416</td>\n",
              "      <td>433</td>\n",
              "      <td>446</td>\n",
              "      <td>467</td>\n",
              "      <td>475</td>\n",
              "      <td>494</td>\n",
              "      <td>518</td>\n",
              "      <td>539</td>\n",
              "    </tr>\n",
              "    <tr>\n",
              "      <th>2</th>\n",
              "      <td>NaN</td>\n",
              "      <td>Algeria</td>\n",
              "      <td>28.033900</td>\n",
              "      <td>1.659600</td>\n",
              "      <td>0</td>\n",
              "      <td>0</td>\n",
              "      <td>0</td>\n",
              "      <td>0</td>\n",
              "      <td>0</td>\n",
              "      <td>0</td>\n",
              "      <td>...</td>\n",
              "      <td>1572</td>\n",
              "      <td>1666</td>\n",
              "      <td>1761</td>\n",
              "      <td>1825</td>\n",
              "      <td>1914</td>\n",
              "      <td>1983</td>\n",
              "      <td>2070</td>\n",
              "      <td>2160</td>\n",
              "      <td>2268</td>\n",
              "      <td>2418</td>\n",
              "    </tr>\n",
              "    <tr>\n",
              "      <th>3</th>\n",
              "      <td>NaN</td>\n",
              "      <td>Andorra</td>\n",
              "      <td>42.506300</td>\n",
              "      <td>1.521800</td>\n",
              "      <td>0</td>\n",
              "      <td>0</td>\n",
              "      <td>0</td>\n",
              "      <td>0</td>\n",
              "      <td>0</td>\n",
              "      <td>0</td>\n",
              "      <td>...</td>\n",
              "      <td>564</td>\n",
              "      <td>583</td>\n",
              "      <td>601</td>\n",
              "      <td>601</td>\n",
              "      <td>638</td>\n",
              "      <td>646</td>\n",
              "      <td>659</td>\n",
              "      <td>673</td>\n",
              "      <td>673</td>\n",
              "      <td>696</td>\n",
              "    </tr>\n",
              "    <tr>\n",
              "      <th>4</th>\n",
              "      <td>NaN</td>\n",
              "      <td>Angola</td>\n",
              "      <td>-11.202700</td>\n",
              "      <td>17.873900</td>\n",
              "      <td>0</td>\n",
              "      <td>0</td>\n",
              "      <td>0</td>\n",
              "      <td>0</td>\n",
              "      <td>0</td>\n",
              "      <td>0</td>\n",
              "      <td>...</td>\n",
              "      <td>19</td>\n",
              "      <td>19</td>\n",
              "      <td>19</td>\n",
              "      <td>19</td>\n",
              "      <td>19</td>\n",
              "      <td>19</td>\n",
              "      <td>19</td>\n",
              "      <td>19</td>\n",
              "      <td>19</td>\n",
              "      <td>19</td>\n",
              "    </tr>\n",
              "    <tr>\n",
              "      <th>...</th>\n",
              "      <td>...</td>\n",
              "      <td>...</td>\n",
              "      <td>...</td>\n",
              "      <td>...</td>\n",
              "      <td>...</td>\n",
              "      <td>...</td>\n",
              "      <td>...</td>\n",
              "      <td>...</td>\n",
              "      <td>...</td>\n",
              "      <td>...</td>\n",
              "      <td>...</td>\n",
              "      <td>...</td>\n",
              "      <td>...</td>\n",
              "      <td>...</td>\n",
              "      <td>...</td>\n",
              "      <td>...</td>\n",
              "      <td>...</td>\n",
              "      <td>...</td>\n",
              "      <td>...</td>\n",
              "      <td>...</td>\n",
              "      <td>...</td>\n",
              "    </tr>\n",
              "    <tr>\n",
              "      <th>259</th>\n",
              "      <td>Saint Pierre and Miquelon</td>\n",
              "      <td>France</td>\n",
              "      <td>46.885200</td>\n",
              "      <td>-56.315900</td>\n",
              "      <td>0</td>\n",
              "      <td>0</td>\n",
              "      <td>0</td>\n",
              "      <td>0</td>\n",
              "      <td>0</td>\n",
              "      <td>0</td>\n",
              "      <td>...</td>\n",
              "      <td>1</td>\n",
              "      <td>1</td>\n",
              "      <td>1</td>\n",
              "      <td>1</td>\n",
              "      <td>1</td>\n",
              "      <td>1</td>\n",
              "      <td>1</td>\n",
              "      <td>1</td>\n",
              "      <td>1</td>\n",
              "      <td>1</td>\n",
              "    </tr>\n",
              "    <tr>\n",
              "      <th>260</th>\n",
              "      <td>NaN</td>\n",
              "      <td>South Sudan</td>\n",
              "      <td>6.877000</td>\n",
              "      <td>31.307000</td>\n",
              "      <td>0</td>\n",
              "      <td>0</td>\n",
              "      <td>0</td>\n",
              "      <td>0</td>\n",
              "      <td>0</td>\n",
              "      <td>0</td>\n",
              "      <td>...</td>\n",
              "      <td>2</td>\n",
              "      <td>3</td>\n",
              "      <td>4</td>\n",
              "      <td>4</td>\n",
              "      <td>4</td>\n",
              "      <td>4</td>\n",
              "      <td>4</td>\n",
              "      <td>4</td>\n",
              "      <td>4</td>\n",
              "      <td>4</td>\n",
              "    </tr>\n",
              "    <tr>\n",
              "      <th>261</th>\n",
              "      <td>NaN</td>\n",
              "      <td>Western Sahara</td>\n",
              "      <td>24.215500</td>\n",
              "      <td>-12.885800</td>\n",
              "      <td>0</td>\n",
              "      <td>0</td>\n",
              "      <td>0</td>\n",
              "      <td>0</td>\n",
              "      <td>0</td>\n",
              "      <td>0</td>\n",
              "      <td>...</td>\n",
              "      <td>4</td>\n",
              "      <td>4</td>\n",
              "      <td>4</td>\n",
              "      <td>4</td>\n",
              "      <td>6</td>\n",
              "      <td>6</td>\n",
              "      <td>6</td>\n",
              "      <td>6</td>\n",
              "      <td>6</td>\n",
              "      <td>6</td>\n",
              "    </tr>\n",
              "    <tr>\n",
              "      <th>262</th>\n",
              "      <td>NaN</td>\n",
              "      <td>Sao Tome and Principe</td>\n",
              "      <td>0.186360</td>\n",
              "      <td>6.613081</td>\n",
              "      <td>0</td>\n",
              "      <td>0</td>\n",
              "      <td>0</td>\n",
              "      <td>0</td>\n",
              "      <td>0</td>\n",
              "      <td>0</td>\n",
              "      <td>...</td>\n",
              "      <td>4</td>\n",
              "      <td>4</td>\n",
              "      <td>4</td>\n",
              "      <td>4</td>\n",
              "      <td>4</td>\n",
              "      <td>4</td>\n",
              "      <td>4</td>\n",
              "      <td>4</td>\n",
              "      <td>4</td>\n",
              "      <td>4</td>\n",
              "    </tr>\n",
              "    <tr>\n",
              "      <th>263</th>\n",
              "      <td>NaN</td>\n",
              "      <td>Yemen</td>\n",
              "      <td>15.552727</td>\n",
              "      <td>48.516388</td>\n",
              "      <td>0</td>\n",
              "      <td>0</td>\n",
              "      <td>0</td>\n",
              "      <td>0</td>\n",
              "      <td>0</td>\n",
              "      <td>0</td>\n",
              "      <td>...</td>\n",
              "      <td>0</td>\n",
              "      <td>0</td>\n",
              "      <td>1</td>\n",
              "      <td>1</td>\n",
              "      <td>1</td>\n",
              "      <td>1</td>\n",
              "      <td>1</td>\n",
              "      <td>1</td>\n",
              "      <td>1</td>\n",
              "      <td>1</td>\n",
              "    </tr>\n",
              "  </tbody>\n",
              "</table>\n",
              "<p>264 rows × 91 columns</p>\n",
              "</div>"
            ],
            "text/plain": [
              "                Province/State         Country/Region        Lat       Long  \\\n",
              "0                          NaN            Afghanistan  33.000000  65.000000   \n",
              "1                          NaN                Albania  41.153300  20.168300   \n",
              "2                          NaN                Algeria  28.033900   1.659600   \n",
              "3                          NaN                Andorra  42.506300   1.521800   \n",
              "4                          NaN                 Angola -11.202700  17.873900   \n",
              "..                         ...                    ...        ...        ...   \n",
              "259  Saint Pierre and Miquelon                 France  46.885200 -56.315900   \n",
              "260                        NaN            South Sudan   6.877000  31.307000   \n",
              "261                        NaN         Western Sahara  24.215500 -12.885800   \n",
              "262                        NaN  Sao Tome and Principe   0.186360   6.613081   \n",
              "263                        NaN                  Yemen  15.552727  48.516388   \n",
              "\n",
              "     1/22/20  1/23/20  1/24/20  1/25/20  1/26/20  1/27/20  ...  4/8/20  \\\n",
              "0          0        0        0        0        0        0  ...     444   \n",
              "1          0        0        0        0        0        0  ...     400   \n",
              "2          0        0        0        0        0        0  ...    1572   \n",
              "3          0        0        0        0        0        0  ...     564   \n",
              "4          0        0        0        0        0        0  ...      19   \n",
              "..       ...      ...      ...      ...      ...      ...  ...     ...   \n",
              "259        0        0        0        0        0        0  ...       1   \n",
              "260        0        0        0        0        0        0  ...       2   \n",
              "261        0        0        0        0        0        0  ...       4   \n",
              "262        0        0        0        0        0        0  ...       4   \n",
              "263        0        0        0        0        0        0  ...       0   \n",
              "\n",
              "     4/9/20  4/10/20  4/11/20  4/12/20  4/13/20  4/14/20  4/15/20  4/16/20  \\\n",
              "0       484      521      555      607      665      714      784      840   \n",
              "1       409      416      433      446      467      475      494      518   \n",
              "2      1666     1761     1825     1914     1983     2070     2160     2268   \n",
              "3       583      601      601      638      646      659      673      673   \n",
              "4        19       19       19       19       19       19       19       19   \n",
              "..      ...      ...      ...      ...      ...      ...      ...      ...   \n",
              "259       1        1        1        1        1        1        1        1   \n",
              "260       3        4        4        4        4        4        4        4   \n",
              "261       4        4        4        6        6        6        6        6   \n",
              "262       4        4        4        4        4        4        4        4   \n",
              "263       0        1        1        1        1        1        1        1   \n",
              "\n",
              "     4/17/20  \n",
              "0        906  \n",
              "1        539  \n",
              "2       2418  \n",
              "3        696  \n",
              "4         19  \n",
              "..       ...  \n",
              "259        1  \n",
              "260        4  \n",
              "261        6  \n",
              "262        4  \n",
              "263        1  \n",
              "\n",
              "[264 rows x 91 columns]"
            ]
          },
          "metadata": {
            "tags": []
          },
          "execution_count": 2
        }
      ]
    },
    {
      "cell_type": "code",
      "metadata": {
        "id": "HDekESUniOOj",
        "colab_type": "code",
        "outputId": "9c3b18fb-b06e-492c-ebdc-c1a0487e3d8a",
        "colab": {}
      },
      "source": [
        "df.info()"
      ],
      "execution_count": 0,
      "outputs": [
        {
          "output_type": "stream",
          "text": [
            "<class 'pandas.core.frame.DataFrame'>\n",
            "RangeIndex: 264 entries, 0 to 263\n",
            "Data columns (total 91 columns):\n",
            "Province/State    82 non-null object\n",
            "Country/Region    264 non-null object\n",
            "Lat               264 non-null float64\n",
            "Long              264 non-null float64\n",
            "1/22/20           264 non-null int64\n",
            "1/23/20           264 non-null int64\n",
            "1/24/20           264 non-null int64\n",
            "1/25/20           264 non-null int64\n",
            "1/26/20           264 non-null int64\n",
            "1/27/20           264 non-null int64\n",
            "1/28/20           264 non-null int64\n",
            "1/29/20           264 non-null int64\n",
            "1/30/20           264 non-null int64\n",
            "1/31/20           264 non-null int64\n",
            "2/1/20            264 non-null int64\n",
            "2/2/20            264 non-null int64\n",
            "2/3/20            264 non-null int64\n",
            "2/4/20            264 non-null int64\n",
            "2/5/20            264 non-null int64\n",
            "2/6/20            264 non-null int64\n",
            "2/7/20            264 non-null int64\n",
            "2/8/20            264 non-null int64\n",
            "2/9/20            264 non-null int64\n",
            "2/10/20           264 non-null int64\n",
            "2/11/20           264 non-null int64\n",
            "2/12/20           264 non-null int64\n",
            "2/13/20           264 non-null int64\n",
            "2/14/20           264 non-null int64\n",
            "2/15/20           264 non-null int64\n",
            "2/16/20           264 non-null int64\n",
            "2/17/20           264 non-null int64\n",
            "2/18/20           264 non-null int64\n",
            "2/19/20           264 non-null int64\n",
            "2/20/20           264 non-null int64\n",
            "2/21/20           264 non-null int64\n",
            "2/22/20           264 non-null int64\n",
            "2/23/20           264 non-null int64\n",
            "2/24/20           264 non-null int64\n",
            "2/25/20           264 non-null int64\n",
            "2/26/20           264 non-null int64\n",
            "2/27/20           264 non-null int64\n",
            "2/28/20           264 non-null int64\n",
            "2/29/20           264 non-null int64\n",
            "3/1/20            264 non-null int64\n",
            "3/2/20            264 non-null int64\n",
            "3/3/20            264 non-null int64\n",
            "3/4/20            264 non-null int64\n",
            "3/5/20            264 non-null int64\n",
            "3/6/20            264 non-null int64\n",
            "3/7/20            264 non-null int64\n",
            "3/8/20            264 non-null int64\n",
            "3/9/20            264 non-null int64\n",
            "3/10/20           264 non-null int64\n",
            "3/11/20           264 non-null int64\n",
            "3/12/20           264 non-null int64\n",
            "3/13/20           264 non-null int64\n",
            "3/14/20           264 non-null int64\n",
            "3/15/20           264 non-null int64\n",
            "3/16/20           264 non-null int64\n",
            "3/17/20           264 non-null int64\n",
            "3/18/20           264 non-null int64\n",
            "3/19/20           264 non-null int64\n",
            "3/20/20           264 non-null int64\n",
            "3/21/20           264 non-null int64\n",
            "3/22/20           264 non-null int64\n",
            "3/23/20           264 non-null int64\n",
            "3/24/20           264 non-null int64\n",
            "3/25/20           264 non-null int64\n",
            "3/26/20           264 non-null int64\n",
            "3/27/20           264 non-null int64\n",
            "3/28/20           264 non-null int64\n",
            "3/29/20           264 non-null int64\n",
            "3/30/20           264 non-null int64\n",
            "3/31/20           264 non-null int64\n",
            "4/1/20            264 non-null int64\n",
            "4/2/20            264 non-null int64\n",
            "4/3/20            264 non-null int64\n",
            "4/4/20            264 non-null int64\n",
            "4/5/20            264 non-null int64\n",
            "4/6/20            264 non-null int64\n",
            "4/7/20            264 non-null int64\n",
            "4/8/20            264 non-null int64\n",
            "4/9/20            264 non-null int64\n",
            "4/10/20           264 non-null int64\n",
            "4/11/20           264 non-null int64\n",
            "4/12/20           264 non-null int64\n",
            "4/13/20           264 non-null int64\n",
            "4/14/20           264 non-null int64\n",
            "4/15/20           264 non-null int64\n",
            "4/16/20           264 non-null int64\n",
            "4/17/20           264 non-null int64\n",
            "dtypes: float64(2), int64(87), object(2)\n",
            "memory usage: 187.8+ KB\n"
          ],
          "name": "stdout"
        }
      ]
    },
    {
      "cell_type": "code",
      "metadata": {
        "id": "7MRyBdeTiOOo",
        "colab_type": "code",
        "outputId": "b7514e81-6d84-4334-e40c-3cf1a8739cc9",
        "colab": {}
      },
      "source": [
        "df.columns"
      ],
      "execution_count": 0,
      "outputs": [
        {
          "output_type": "execute_result",
          "data": {
            "text/plain": [
              "Index(['Province/State', 'Country/Region', 'Lat', 'Long', '1/22/20', '1/23/20',\n",
              "       '1/24/20', '1/25/20', '1/26/20', '1/27/20', '1/28/20', '1/29/20',\n",
              "       '1/30/20', '1/31/20', '2/1/20', '2/2/20', '2/3/20', '2/4/20', '2/5/20',\n",
              "       '2/6/20', '2/7/20', '2/8/20', '2/9/20', '2/10/20', '2/11/20', '2/12/20',\n",
              "       '2/13/20', '2/14/20', '2/15/20', '2/16/20', '2/17/20', '2/18/20',\n",
              "       '2/19/20', '2/20/20', '2/21/20', '2/22/20', '2/23/20', '2/24/20',\n",
              "       '2/25/20', '2/26/20', '2/27/20', '2/28/20', '2/29/20', '3/1/20',\n",
              "       '3/2/20', '3/3/20', '3/4/20', '3/5/20', '3/6/20', '3/7/20', '3/8/20',\n",
              "       '3/9/20', '3/10/20', '3/11/20', '3/12/20', '3/13/20', '3/14/20',\n",
              "       '3/15/20', '3/16/20', '3/17/20', '3/18/20', '3/19/20', '3/20/20',\n",
              "       '3/21/20', '3/22/20', '3/23/20', '3/24/20', '3/25/20', '3/26/20',\n",
              "       '3/27/20', '3/28/20', '3/29/20', '3/30/20', '3/31/20', '4/1/20',\n",
              "       '4/2/20', '4/3/20', '4/4/20', '4/5/20', '4/6/20', '4/7/20', '4/8/20',\n",
              "       '4/9/20', '4/10/20', '4/11/20', '4/12/20', '4/13/20', '4/14/20',\n",
              "       '4/15/20', '4/16/20', '4/17/20'],\n",
              "      dtype='object')"
            ]
          },
          "metadata": {
            "tags": []
          },
          "execution_count": 4
        }
      ]
    },
    {
      "cell_type": "code",
      "metadata": {
        "id": "kwC5HIh6iOOs",
        "colab_type": "code",
        "outputId": "2ec9895e-2d29-4970-f511-ff3ddedd75c2",
        "colab": {}
      },
      "source": [
        "countries=['China', 'India', 'US']\n",
        "y=df.loc[df['Country/Region']=='Italy'].iloc[0,4:]\n",
        "s = pd.DataFrame({'Italy':y})\n",
        "for c in countries:    \n",
        "    #pyplot.plot(range(y.shape[0]),y,'r--')\n",
        "    s[c] = df.loc[df['Country/Region']==c].iloc[0,4:]\n",
        "#pyplot.plot(range(y.shape[0]),y,'g-')\n",
        "plt.plot(range(y.shape[0]), s)"
      ],
      "execution_count": 0,
      "outputs": [
        {
          "output_type": "execute_result",
          "data": {
            "text/plain": [
              "[<matplotlib.lines.Line2D at 0x7fa373af85f8>,\n",
              " <matplotlib.lines.Line2D at 0x7fa373af8748>,\n",
              " <matplotlib.lines.Line2D at 0x7fa373af88d0>,\n",
              " <matplotlib.lines.Line2D at 0x7fa373af8a58>]"
            ]
          },
          "metadata": {
            "tags": []
          },
          "execution_count": 5
        },
        {
          "output_type": "display_data",
          "data": {
            "image/png": "[encoded data removed]",
            "text/plain": [
              "<Figure size 432x288 with 1 Axes>"
            ]
          },
          "metadata": {
            "tags": []
          }
        }
      ]
    },
    {
      "cell_type": "code",
      "metadata": {
        "id": "sQQZWRlsiOOy",
        "colab_type": "code",
        "outputId": "247a27b7-a1f6-4939-a4c5-348bb9db8850",
        "colab": {}
      },
      "source": [
        "s"
      ],
      "execution_count": 0,
      "outputs": [
        {
          "output_type": "execute_result",
          "data": {
            "text/html": [
              "<div>\n",
              "<style scoped>\n",
              "    .dataframe tbody tr th:only-of-type {\n",
              "        vertical-align: middle;\n",
              "    }\n",
              "\n",
              "    .dataframe tbody tr th {\n",
              "        vertical-align: top;\n",
              "    }\n",
              "\n",
              "    .dataframe thead th {\n",
              "        text-align: right;\n",
              "    }\n",
              "</style>\n",
              "<table border=\"1\" class=\"dataframe\">\n",
              "  <thead>\n",
              "    <tr style=\"text-align: right;\">\n",
              "      <th></th>\n",
              "      <th>Italy</th>\n",
              "      <th>China</th>\n",
              "      <th>India</th>\n",
              "      <th>US</th>\n",
              "    </tr>\n",
              "  </thead>\n",
              "  <tbody>\n",
              "    <tr>\n",
              "      <th>1/22/20</th>\n",
              "      <td>0</td>\n",
              "      <td>1</td>\n",
              "      <td>0</td>\n",
              "      <td>1</td>\n",
              "    </tr>\n",
              "    <tr>\n",
              "      <th>1/23/20</th>\n",
              "      <td>0</td>\n",
              "      <td>9</td>\n",
              "      <td>0</td>\n",
              "      <td>1</td>\n",
              "    </tr>\n",
              "    <tr>\n",
              "      <th>1/24/20</th>\n",
              "      <td>0</td>\n",
              "      <td>15</td>\n",
              "      <td>0</td>\n",
              "      <td>2</td>\n",
              "    </tr>\n",
              "    <tr>\n",
              "      <th>1/25/20</th>\n",
              "      <td>0</td>\n",
              "      <td>39</td>\n",
              "      <td>0</td>\n",
              "      <td>2</td>\n",
              "    </tr>\n",
              "    <tr>\n",
              "      <th>1/26/20</th>\n",
              "      <td>0</td>\n",
              "      <td>60</td>\n",
              "      <td>0</td>\n",
              "      <td>5</td>\n",
              "    </tr>\n",
              "    <tr>\n",
              "      <th>...</th>\n",
              "      <td>...</td>\n",
              "      <td>...</td>\n",
              "      <td>...</td>\n",
              "      <td>...</td>\n",
              "    </tr>\n",
              "    <tr>\n",
              "      <th>4/13/20</th>\n",
              "      <td>159516</td>\n",
              "      <td>991</td>\n",
              "      <td>10453</td>\n",
              "      <td>580619</td>\n",
              "    </tr>\n",
              "    <tr>\n",
              "      <th>4/14/20</th>\n",
              "      <td>162488</td>\n",
              "      <td>991</td>\n",
              "      <td>11487</td>\n",
              "      <td>607670</td>\n",
              "    </tr>\n",
              "    <tr>\n",
              "      <th>4/15/20</th>\n",
              "      <td>165155</td>\n",
              "      <td>991</td>\n",
              "      <td>12322</td>\n",
              "      <td>636350</td>\n",
              "    </tr>\n",
              "    <tr>\n",
              "      <th>4/16/20</th>\n",
              "      <td>168941</td>\n",
              "      <td>991</td>\n",
              "      <td>13430</td>\n",
              "      <td>667801</td>\n",
              "    </tr>\n",
              "    <tr>\n",
              "      <th>4/17/20</th>\n",
              "      <td>172434</td>\n",
              "      <td>991</td>\n",
              "      <td>14352</td>\n",
              "      <td>699706</td>\n",
              "    </tr>\n",
              "  </tbody>\n",
              "</table>\n",
              "<p>87 rows × 4 columns</p>\n",
              "</div>"
            ],
            "text/plain": [
              "          Italy China  India      US\n",
              "1/22/20       0     1      0       1\n",
              "1/23/20       0     9      0       1\n",
              "1/24/20       0    15      0       2\n",
              "1/25/20       0    39      0       2\n",
              "1/26/20       0    60      0       5\n",
              "...         ...   ...    ...     ...\n",
              "4/13/20  159516   991  10453  580619\n",
              "4/14/20  162488   991  11487  607670\n",
              "4/15/20  165155   991  12322  636350\n",
              "4/16/20  168941   991  13430  667801\n",
              "4/17/20  172434   991  14352  699706\n",
              "\n",
              "[87 rows x 4 columns]"
            ]
          },
          "metadata": {
            "tags": []
          },
          "execution_count": 6
        }
      ]
    },
    {
      "cell_type": "code",
      "metadata": {
        "id": "nZIX8czFiOO2",
        "colab_type": "code",
        "outputId": "c47d34af-c34f-438b-d170-cdfe5c637e6e",
        "colab": {}
      },
      "source": [
        "for r in df['Country/Region']:\n",
        "    if r != 'China':\n",
        "        plt.plot(range(len(df.columns)-4), df.loc[df['Country/Region']==r].iloc[0,4:])\n",
        "#         pyplot.legend()"
      ],
      "execution_count": 0,
      "outputs": [
        {
          "output_type": "display_data",
          "data": {
            "image/png": "[encoded data removed]",
            "text/plain": [
              "<Figure size 432x288 with 1 Axes>"
            ]
          },
          "metadata": {
            "tags": []
          }
        }
      ]
    },
    {
      "cell_type": "markdown",
      "metadata": {
        "id": "LVjOfO_niOO7",
        "colab_type": "text"
      },
      "source": [
        "# US"
      ]
    },
    {
      "cell_type": "code",
      "metadata": {
        "id": "2gGURUaiiOO8",
        "colab_type": "code",
        "outputId": "1361f758-ae46-4959-ab64-bbf74d384641",
        "colab": {}
      },
      "source": [
        "df[df['Country/Region'].str.match('US')]"
      ],
      "execution_count": 0,
      "outputs": [
        {
          "output_type": "execute_result",
          "data": {
            "text/html": [
              "<div>\n",
              "<style scoped>\n",
              "    .dataframe tbody tr th:only-of-type {\n",
              "        vertical-align: middle;\n",
              "    }\n",
              "\n",
              "    .dataframe tbody tr th {\n",
              "        vertical-align: top;\n",
              "    }\n",
              "\n",
              "    .dataframe thead th {\n",
              "        text-align: right;\n",
              "    }\n",
              "</style>\n",
              "<table border=\"1\" class=\"dataframe\">\n",
              "  <thead>\n",
              "    <tr style=\"text-align: right;\">\n",
              "      <th></th>\n",
              "      <th>Province/State</th>\n",
              "      <th>Country/Region</th>\n",
              "      <th>Lat</th>\n",
              "      <th>Long</th>\n",
              "      <th>1/22/20</th>\n",
              "      <th>1/23/20</th>\n",
              "      <th>1/24/20</th>\n",
              "      <th>1/25/20</th>\n",
              "      <th>1/26/20</th>\n",
              "      <th>1/27/20</th>\n",
              "      <th>...</th>\n",
              "      <th>4/8/20</th>\n",
              "      <th>4/9/20</th>\n",
              "      <th>4/10/20</th>\n",
              "      <th>4/11/20</th>\n",
              "      <th>4/12/20</th>\n",
              "      <th>4/13/20</th>\n",
              "      <th>4/14/20</th>\n",
              "      <th>4/15/20</th>\n",
              "      <th>4/16/20</th>\n",
              "      <th>4/17/20</th>\n",
              "    </tr>\n",
              "  </thead>\n",
              "  <tbody>\n",
              "    <tr>\n",
              "      <th>225</th>\n",
              "      <td>NaN</td>\n",
              "      <td>US</td>\n",
              "      <td>37.0902</td>\n",
              "      <td>-95.7129</td>\n",
              "      <td>1</td>\n",
              "      <td>1</td>\n",
              "      <td>2</td>\n",
              "      <td>2</td>\n",
              "      <td>5</td>\n",
              "      <td>5</td>\n",
              "      <td>...</td>\n",
              "      <td>429052</td>\n",
              "      <td>461437</td>\n",
              "      <td>496535</td>\n",
              "      <td>526396</td>\n",
              "      <td>555313</td>\n",
              "      <td>580619</td>\n",
              "      <td>607670</td>\n",
              "      <td>636350</td>\n",
              "      <td>667801</td>\n",
              "      <td>699706</td>\n",
              "    </tr>\n",
              "  </tbody>\n",
              "</table>\n",
              "<p>1 rows × 91 columns</p>\n",
              "</div>"
            ],
            "text/plain": [
              "    Province/State Country/Region      Lat     Long  1/22/20  1/23/20  \\\n",
              "225            NaN             US  37.0902 -95.7129        1        1   \n",
              "\n",
              "     1/24/20  1/25/20  1/26/20  1/27/20  ...  4/8/20  4/9/20  4/10/20  \\\n",
              "225        2        2        5        5  ...  429052  461437   496535   \n",
              "\n",
              "     4/11/20  4/12/20  4/13/20  4/14/20  4/15/20  4/16/20  4/17/20  \n",
              "225   526396   555313   580619   607670   636350   667801   699706  \n",
              "\n",
              "[1 rows x 91 columns]"
            ]
          },
          "metadata": {
            "tags": []
          },
          "execution_count": 8
        }
      ]
    },
    {
      "cell_type": "markdown",
      "metadata": {
        "id": "9x_othVDiOPA",
        "colab_type": "text"
      },
      "source": [
        "# China"
      ]
    },
    {
      "cell_type": "code",
      "metadata": {
        "id": "Vn0N5Uz2iOPB",
        "colab_type": "code",
        "outputId": "ac5ce96c-1c0a-43f2-a184-84ca7dbf4750",
        "colab": {}
      },
      "source": [
        "df[df['Country/Region'].str.match('China')]"
      ],
      "execution_count": 0,
      "outputs": [
        {
          "output_type": "execute_result",
          "data": {
            "text/html": [
              "<div>\n",
              "<style scoped>\n",
              "    .dataframe tbody tr th:only-of-type {\n",
              "        vertical-align: middle;\n",
              "    }\n",
              "\n",
              "    .dataframe tbody tr th {\n",
              "        vertical-align: top;\n",
              "    }\n",
              "\n",
              "    .dataframe thead th {\n",
              "        text-align: right;\n",
              "    }\n",
              "</style>\n",
              "<table border=\"1\" class=\"dataframe\">\n",
              "  <thead>\n",
              "    <tr style=\"text-align: right;\">\n",
              "      <th></th>\n",
              "      <th>Province/State</th>\n",
              "      <th>Country/Region</th>\n",
              "      <th>Lat</th>\n",
              "      <th>Long</th>\n",
              "      <th>1/22/20</th>\n",
              "      <th>1/23/20</th>\n",
              "      <th>1/24/20</th>\n",
              "      <th>1/25/20</th>\n",
              "      <th>1/26/20</th>\n",
              "      <th>1/27/20</th>\n",
              "      <th>...</th>\n",
              "      <th>4/8/20</th>\n",
              "      <th>4/9/20</th>\n",
              "      <th>4/10/20</th>\n",
              "      <th>4/11/20</th>\n",
              "      <th>4/12/20</th>\n",
              "      <th>4/13/20</th>\n",
              "      <th>4/14/20</th>\n",
              "      <th>4/15/20</th>\n",
              "      <th>4/16/20</th>\n",
              "      <th>4/17/20</th>\n",
              "    </tr>\n",
              "  </thead>\n",
              "  <tbody>\n",
              "    <tr>\n",
              "      <th>49</th>\n",
              "      <td>Anhui</td>\n",
              "      <td>China</td>\n",
              "      <td>31.8257</td>\n",
              "      <td>117.2264</td>\n",
              "      <td>1</td>\n",
              "      <td>9</td>\n",
              "      <td>15</td>\n",
              "      <td>39</td>\n",
              "      <td>60</td>\n",
              "      <td>70</td>\n",
              "      <td>...</td>\n",
              "      <td>990</td>\n",
              "      <td>991</td>\n",
              "      <td>991</td>\n",
              "      <td>991</td>\n",
              "      <td>991</td>\n",
              "      <td>991</td>\n",
              "      <td>991</td>\n",
              "      <td>991</td>\n",
              "      <td>991</td>\n",
              "      <td>991</td>\n",
              "    </tr>\n",
              "    <tr>\n",
              "      <th>50</th>\n",
              "      <td>Beijing</td>\n",
              "      <td>China</td>\n",
              "      <td>40.1824</td>\n",
              "      <td>116.4142</td>\n",
              "      <td>14</td>\n",
              "      <td>22</td>\n",
              "      <td>36</td>\n",
              "      <td>41</td>\n",
              "      <td>68</td>\n",
              "      <td>80</td>\n",
              "      <td>...</td>\n",
              "      <td>588</td>\n",
              "      <td>588</td>\n",
              "      <td>588</td>\n",
              "      <td>589</td>\n",
              "      <td>589</td>\n",
              "      <td>589</td>\n",
              "      <td>589</td>\n",
              "      <td>590</td>\n",
              "      <td>593</td>\n",
              "      <td>593</td>\n",
              "    </tr>\n",
              "    <tr>\n",
              "      <th>51</th>\n",
              "      <td>Chongqing</td>\n",
              "      <td>China</td>\n",
              "      <td>30.0572</td>\n",
              "      <td>107.8740</td>\n",
              "      <td>6</td>\n",
              "      <td>9</td>\n",
              "      <td>27</td>\n",
              "      <td>57</td>\n",
              "      <td>75</td>\n",
              "      <td>110</td>\n",
              "      <td>...</td>\n",
              "      <td>579</td>\n",
              "      <td>579</td>\n",
              "      <td>579</td>\n",
              "      <td>579</td>\n",
              "      <td>579</td>\n",
              "      <td>579</td>\n",
              "      <td>579</td>\n",
              "      <td>579</td>\n",
              "      <td>579</td>\n",
              "      <td>579</td>\n",
              "    </tr>\n",
              "    <tr>\n",
              "      <th>52</th>\n",
              "      <td>Fujian</td>\n",
              "      <td>China</td>\n",
              "      <td>26.0789</td>\n",
              "      <td>117.9874</td>\n",
              "      <td>1</td>\n",
              "      <td>5</td>\n",
              "      <td>10</td>\n",
              "      <td>18</td>\n",
              "      <td>35</td>\n",
              "      <td>59</td>\n",
              "      <td>...</td>\n",
              "      <td>351</td>\n",
              "      <td>351</td>\n",
              "      <td>351</td>\n",
              "      <td>351</td>\n",
              "      <td>352</td>\n",
              "      <td>352</td>\n",
              "      <td>353</td>\n",
              "      <td>353</td>\n",
              "      <td>353</td>\n",
              "      <td>354</td>\n",
              "    </tr>\n",
              "    <tr>\n",
              "      <th>53</th>\n",
              "      <td>Gansu</td>\n",
              "      <td>China</td>\n",
              "      <td>37.8099</td>\n",
              "      <td>101.0583</td>\n",
              "      <td>0</td>\n",
              "      <td>2</td>\n",
              "      <td>2</td>\n",
              "      <td>4</td>\n",
              "      <td>7</td>\n",
              "      <td>14</td>\n",
              "      <td>...</td>\n",
              "      <td>139</td>\n",
              "      <td>139</td>\n",
              "      <td>139</td>\n",
              "      <td>139</td>\n",
              "      <td>139</td>\n",
              "      <td>139</td>\n",
              "      <td>139</td>\n",
              "      <td>139</td>\n",
              "      <td>139</td>\n",
              "      <td>139</td>\n",
              "    </tr>\n",
              "    <tr>\n",
              "      <th>54</th>\n",
              "      <td>Guangdong</td>\n",
              "      <td>China</td>\n",
              "      <td>23.3417</td>\n",
              "      <td>113.4244</td>\n",
              "      <td>26</td>\n",
              "      <td>32</td>\n",
              "      <td>53</td>\n",
              "      <td>78</td>\n",
              "      <td>111</td>\n",
              "      <td>151</td>\n",
              "      <td>...</td>\n",
              "      <td>1536</td>\n",
              "      <td>1539</td>\n",
              "      <td>1544</td>\n",
              "      <td>1548</td>\n",
              "      <td>1552</td>\n",
              "      <td>1555</td>\n",
              "      <td>1564</td>\n",
              "      <td>1566</td>\n",
              "      <td>1571</td>\n",
              "      <td>1577</td>\n",
              "    </tr>\n",
              "    <tr>\n",
              "      <th>55</th>\n",
              "      <td>Guangxi</td>\n",
              "      <td>China</td>\n",
              "      <td>23.8298</td>\n",
              "      <td>108.7881</td>\n",
              "      <td>2</td>\n",
              "      <td>5</td>\n",
              "      <td>23</td>\n",
              "      <td>23</td>\n",
              "      <td>36</td>\n",
              "      <td>46</td>\n",
              "      <td>...</td>\n",
              "      <td>254</td>\n",
              "      <td>254</td>\n",
              "      <td>254</td>\n",
              "      <td>254</td>\n",
              "      <td>254</td>\n",
              "      <td>254</td>\n",
              "      <td>254</td>\n",
              "      <td>254</td>\n",
              "      <td>254</td>\n",
              "      <td>254</td>\n",
              "    </tr>\n",
              "    <tr>\n",
              "      <th>56</th>\n",
              "      <td>Guizhou</td>\n",
              "      <td>China</td>\n",
              "      <td>26.8154</td>\n",
              "      <td>106.8748</td>\n",
              "      <td>1</td>\n",
              "      <td>3</td>\n",
              "      <td>3</td>\n",
              "      <td>4</td>\n",
              "      <td>5</td>\n",
              "      <td>7</td>\n",
              "      <td>...</td>\n",
              "      <td>146</td>\n",
              "      <td>146</td>\n",
              "      <td>146</td>\n",
              "      <td>146</td>\n",
              "      <td>146</td>\n",
              "      <td>146</td>\n",
              "      <td>146</td>\n",
              "      <td>146</td>\n",
              "      <td>146</td>\n",
              "      <td>146</td>\n",
              "    </tr>\n",
              "    <tr>\n",
              "      <th>57</th>\n",
              "      <td>Hainan</td>\n",
              "      <td>China</td>\n",
              "      <td>19.1959</td>\n",
              "      <td>109.7453</td>\n",
              "      <td>4</td>\n",
              "      <td>5</td>\n",
              "      <td>8</td>\n",
              "      <td>19</td>\n",
              "      <td>22</td>\n",
              "      <td>33</td>\n",
              "      <td>...</td>\n",
              "      <td>168</td>\n",
              "      <td>168</td>\n",
              "      <td>168</td>\n",
              "      <td>168</td>\n",
              "      <td>168</td>\n",
              "      <td>168</td>\n",
              "      <td>168</td>\n",
              "      <td>168</td>\n",
              "      <td>168</td>\n",
              "      <td>168</td>\n",
              "    </tr>\n",
              "    <tr>\n",
              "      <th>58</th>\n",
              "      <td>Hebei</td>\n",
              "      <td>China</td>\n",
              "      <td>39.5490</td>\n",
              "      <td>116.1306</td>\n",
              "      <td>1</td>\n",
              "      <td>1</td>\n",
              "      <td>2</td>\n",
              "      <td>8</td>\n",
              "      <td>13</td>\n",
              "      <td>18</td>\n",
              "      <td>...</td>\n",
              "      <td>327</td>\n",
              "      <td>327</td>\n",
              "      <td>327</td>\n",
              "      <td>327</td>\n",
              "      <td>327</td>\n",
              "      <td>327</td>\n",
              "      <td>327</td>\n",
              "      <td>327</td>\n",
              "      <td>328</td>\n",
              "      <td>328</td>\n",
              "    </tr>\n",
              "    <tr>\n",
              "      <th>59</th>\n",
              "      <td>Heilongjiang</td>\n",
              "      <td>China</td>\n",
              "      <td>47.8620</td>\n",
              "      <td>127.7615</td>\n",
              "      <td>0</td>\n",
              "      <td>2</td>\n",
              "      <td>4</td>\n",
              "      <td>9</td>\n",
              "      <td>15</td>\n",
              "      <td>21</td>\n",
              "      <td>...</td>\n",
              "      <td>569</td>\n",
              "      <td>609</td>\n",
              "      <td>638</td>\n",
              "      <td>661</td>\n",
              "      <td>684</td>\n",
              "      <td>740</td>\n",
              "      <td>819</td>\n",
              "      <td>841</td>\n",
              "      <td>861</td>\n",
              "      <td>872</td>\n",
              "    </tr>\n",
              "    <tr>\n",
              "      <th>60</th>\n",
              "      <td>Henan</td>\n",
              "      <td>China</td>\n",
              "      <td>33.8820</td>\n",
              "      <td>113.6140</td>\n",
              "      <td>5</td>\n",
              "      <td>5</td>\n",
              "      <td>9</td>\n",
              "      <td>32</td>\n",
              "      <td>83</td>\n",
              "      <td>128</td>\n",
              "      <td>...</td>\n",
              "      <td>1276</td>\n",
              "      <td>1276</td>\n",
              "      <td>1276</td>\n",
              "      <td>1276</td>\n",
              "      <td>1276</td>\n",
              "      <td>1276</td>\n",
              "      <td>1276</td>\n",
              "      <td>1276</td>\n",
              "      <td>1276</td>\n",
              "      <td>1276</td>\n",
              "    </tr>\n",
              "    <tr>\n",
              "      <th>61</th>\n",
              "      <td>Hong Kong</td>\n",
              "      <td>China</td>\n",
              "      <td>22.3000</td>\n",
              "      <td>114.2000</td>\n",
              "      <td>0</td>\n",
              "      <td>2</td>\n",
              "      <td>2</td>\n",
              "      <td>5</td>\n",
              "      <td>8</td>\n",
              "      <td>8</td>\n",
              "      <td>...</td>\n",
              "      <td>960</td>\n",
              "      <td>973</td>\n",
              "      <td>989</td>\n",
              "      <td>1000</td>\n",
              "      <td>1004</td>\n",
              "      <td>1009</td>\n",
              "      <td>1012</td>\n",
              "      <td>1017</td>\n",
              "      <td>1017</td>\n",
              "      <td>1021</td>\n",
              "    </tr>\n",
              "    <tr>\n",
              "      <th>62</th>\n",
              "      <td>Hubei</td>\n",
              "      <td>China</td>\n",
              "      <td>30.9756</td>\n",
              "      <td>112.2707</td>\n",
              "      <td>444</td>\n",
              "      <td>444</td>\n",
              "      <td>549</td>\n",
              "      <td>761</td>\n",
              "      <td>1058</td>\n",
              "      <td>1423</td>\n",
              "      <td>...</td>\n",
              "      <td>67803</td>\n",
              "      <td>67803</td>\n",
              "      <td>67803</td>\n",
              "      <td>67803</td>\n",
              "      <td>67803</td>\n",
              "      <td>67803</td>\n",
              "      <td>67803</td>\n",
              "      <td>67803</td>\n",
              "      <td>67803</td>\n",
              "      <td>68128</td>\n",
              "    </tr>\n",
              "    <tr>\n",
              "      <th>63</th>\n",
              "      <td>Hunan</td>\n",
              "      <td>China</td>\n",
              "      <td>27.6104</td>\n",
              "      <td>111.7088</td>\n",
              "      <td>4</td>\n",
              "      <td>9</td>\n",
              "      <td>24</td>\n",
              "      <td>43</td>\n",
              "      <td>69</td>\n",
              "      <td>100</td>\n",
              "      <td>...</td>\n",
              "      <td>1019</td>\n",
              "      <td>1019</td>\n",
              "      <td>1019</td>\n",
              "      <td>1019</td>\n",
              "      <td>1019</td>\n",
              "      <td>1019</td>\n",
              "      <td>1019</td>\n",
              "      <td>1019</td>\n",
              "      <td>1019</td>\n",
              "      <td>1019</td>\n",
              "    </tr>\n",
              "    <tr>\n",
              "      <th>64</th>\n",
              "      <td>Inner Mongolia</td>\n",
              "      <td>China</td>\n",
              "      <td>44.0935</td>\n",
              "      <td>113.9448</td>\n",
              "      <td>0</td>\n",
              "      <td>0</td>\n",
              "      <td>1</td>\n",
              "      <td>7</td>\n",
              "      <td>7</td>\n",
              "      <td>11</td>\n",
              "      <td>...</td>\n",
              "      <td>124</td>\n",
              "      <td>126</td>\n",
              "      <td>128</td>\n",
              "      <td>155</td>\n",
              "      <td>189</td>\n",
              "      <td>190</td>\n",
              "      <td>190</td>\n",
              "      <td>190</td>\n",
              "      <td>193</td>\n",
              "      <td>193</td>\n",
              "    </tr>\n",
              "    <tr>\n",
              "      <th>65</th>\n",
              "      <td>Jiangsu</td>\n",
              "      <td>China</td>\n",
              "      <td>32.9711</td>\n",
              "      <td>119.4550</td>\n",
              "      <td>1</td>\n",
              "      <td>5</td>\n",
              "      <td>9</td>\n",
              "      <td>18</td>\n",
              "      <td>33</td>\n",
              "      <td>47</td>\n",
              "      <td>...</td>\n",
              "      <td>651</td>\n",
              "      <td>651</td>\n",
              "      <td>651</td>\n",
              "      <td>652</td>\n",
              "      <td>653</td>\n",
              "      <td>653</td>\n",
              "      <td>653</td>\n",
              "      <td>653</td>\n",
              "      <td>653</td>\n",
              "      <td>653</td>\n",
              "    </tr>\n",
              "    <tr>\n",
              "      <th>66</th>\n",
              "      <td>Jiangxi</td>\n",
              "      <td>China</td>\n",
              "      <td>27.6140</td>\n",
              "      <td>115.7221</td>\n",
              "      <td>2</td>\n",
              "      <td>7</td>\n",
              "      <td>18</td>\n",
              "      <td>18</td>\n",
              "      <td>36</td>\n",
              "      <td>72</td>\n",
              "      <td>...</td>\n",
              "      <td>937</td>\n",
              "      <td>937</td>\n",
              "      <td>937</td>\n",
              "      <td>937</td>\n",
              "      <td>937</td>\n",
              "      <td>937</td>\n",
              "      <td>937</td>\n",
              "      <td>937</td>\n",
              "      <td>937</td>\n",
              "      <td>937</td>\n",
              "    </tr>\n",
              "    <tr>\n",
              "      <th>67</th>\n",
              "      <td>Jilin</td>\n",
              "      <td>China</td>\n",
              "      <td>43.6661</td>\n",
              "      <td>126.1923</td>\n",
              "      <td>0</td>\n",
              "      <td>1</td>\n",
              "      <td>3</td>\n",
              "      <td>4</td>\n",
              "      <td>4</td>\n",
              "      <td>6</td>\n",
              "      <td>...</td>\n",
              "      <td>98</td>\n",
              "      <td>98</td>\n",
              "      <td>98</td>\n",
              "      <td>98</td>\n",
              "      <td>99</td>\n",
              "      <td>100</td>\n",
              "      <td>100</td>\n",
              "      <td>102</td>\n",
              "      <td>102</td>\n",
              "      <td>102</td>\n",
              "    </tr>\n",
              "    <tr>\n",
              "      <th>68</th>\n",
              "      <td>Liaoning</td>\n",
              "      <td>China</td>\n",
              "      <td>41.2956</td>\n",
              "      <td>122.6085</td>\n",
              "      <td>2</td>\n",
              "      <td>3</td>\n",
              "      <td>4</td>\n",
              "      <td>17</td>\n",
              "      <td>21</td>\n",
              "      <td>27</td>\n",
              "      <td>...</td>\n",
              "      <td>144</td>\n",
              "      <td>144</td>\n",
              "      <td>144</td>\n",
              "      <td>145</td>\n",
              "      <td>145</td>\n",
              "      <td>145</td>\n",
              "      <td>145</td>\n",
              "      <td>145</td>\n",
              "      <td>145</td>\n",
              "      <td>146</td>\n",
              "    </tr>\n",
              "    <tr>\n",
              "      <th>69</th>\n",
              "      <td>Macau</td>\n",
              "      <td>China</td>\n",
              "      <td>22.1667</td>\n",
              "      <td>113.5500</td>\n",
              "      <td>1</td>\n",
              "      <td>2</td>\n",
              "      <td>2</td>\n",
              "      <td>2</td>\n",
              "      <td>5</td>\n",
              "      <td>6</td>\n",
              "      <td>...</td>\n",
              "      <td>45</td>\n",
              "      <td>45</td>\n",
              "      <td>45</td>\n",
              "      <td>45</td>\n",
              "      <td>45</td>\n",
              "      <td>45</td>\n",
              "      <td>45</td>\n",
              "      <td>45</td>\n",
              "      <td>45</td>\n",
              "      <td>45</td>\n",
              "    </tr>\n",
              "    <tr>\n",
              "      <th>70</th>\n",
              "      <td>Ningxia</td>\n",
              "      <td>China</td>\n",
              "      <td>37.2692</td>\n",
              "      <td>106.1655</td>\n",
              "      <td>1</td>\n",
              "      <td>1</td>\n",
              "      <td>2</td>\n",
              "      <td>3</td>\n",
              "      <td>4</td>\n",
              "      <td>7</td>\n",
              "      <td>...</td>\n",
              "      <td>75</td>\n",
              "      <td>75</td>\n",
              "      <td>75</td>\n",
              "      <td>75</td>\n",
              "      <td>75</td>\n",
              "      <td>75</td>\n",
              "      <td>75</td>\n",
              "      <td>75</td>\n",
              "      <td>75</td>\n",
              "      <td>75</td>\n",
              "    </tr>\n",
              "    <tr>\n",
              "      <th>71</th>\n",
              "      <td>Qinghai</td>\n",
              "      <td>China</td>\n",
              "      <td>35.7452</td>\n",
              "      <td>95.9956</td>\n",
              "      <td>0</td>\n",
              "      <td>0</td>\n",
              "      <td>0</td>\n",
              "      <td>1</td>\n",
              "      <td>1</td>\n",
              "      <td>6</td>\n",
              "      <td>...</td>\n",
              "      <td>18</td>\n",
              "      <td>18</td>\n",
              "      <td>18</td>\n",
              "      <td>18</td>\n",
              "      <td>18</td>\n",
              "      <td>18</td>\n",
              "      <td>18</td>\n",
              "      <td>18</td>\n",
              "      <td>18</td>\n",
              "      <td>18</td>\n",
              "    </tr>\n",
              "    <tr>\n",
              "      <th>72</th>\n",
              "      <td>Shaanxi</td>\n",
              "      <td>China</td>\n",
              "      <td>35.1917</td>\n",
              "      <td>108.8701</td>\n",
              "      <td>0</td>\n",
              "      <td>3</td>\n",
              "      <td>5</td>\n",
              "      <td>15</td>\n",
              "      <td>22</td>\n",
              "      <td>35</td>\n",
              "      <td>...</td>\n",
              "      <td>256</td>\n",
              "      <td>256</td>\n",
              "      <td>256</td>\n",
              "      <td>256</td>\n",
              "      <td>256</td>\n",
              "      <td>256</td>\n",
              "      <td>256</td>\n",
              "      <td>256</td>\n",
              "      <td>256</td>\n",
              "      <td>256</td>\n",
              "    </tr>\n",
              "    <tr>\n",
              "      <th>73</th>\n",
              "      <td>Shandong</td>\n",
              "      <td>China</td>\n",
              "      <td>36.3427</td>\n",
              "      <td>118.1498</td>\n",
              "      <td>2</td>\n",
              "      <td>6</td>\n",
              "      <td>15</td>\n",
              "      <td>27</td>\n",
              "      <td>46</td>\n",
              "      <td>75</td>\n",
              "      <td>...</td>\n",
              "      <td>783</td>\n",
              "      <td>783</td>\n",
              "      <td>783</td>\n",
              "      <td>784</td>\n",
              "      <td>784</td>\n",
              "      <td>784</td>\n",
              "      <td>784</td>\n",
              "      <td>784</td>\n",
              "      <td>784</td>\n",
              "      <td>787</td>\n",
              "    </tr>\n",
              "    <tr>\n",
              "      <th>74</th>\n",
              "      <td>Shanghai</td>\n",
              "      <td>China</td>\n",
              "      <td>31.2020</td>\n",
              "      <td>121.4491</td>\n",
              "      <td>9</td>\n",
              "      <td>16</td>\n",
              "      <td>20</td>\n",
              "      <td>33</td>\n",
              "      <td>40</td>\n",
              "      <td>53</td>\n",
              "      <td>...</td>\n",
              "      <td>543</td>\n",
              "      <td>552</td>\n",
              "      <td>555</td>\n",
              "      <td>555</td>\n",
              "      <td>607</td>\n",
              "      <td>618</td>\n",
              "      <td>618</td>\n",
              "      <td>622</td>\n",
              "      <td>628</td>\n",
              "      <td>628</td>\n",
              "    </tr>\n",
              "    <tr>\n",
              "      <th>75</th>\n",
              "      <td>Shanxi</td>\n",
              "      <td>China</td>\n",
              "      <td>37.5777</td>\n",
              "      <td>112.2922</td>\n",
              "      <td>1</td>\n",
              "      <td>1</td>\n",
              "      <td>1</td>\n",
              "      <td>6</td>\n",
              "      <td>9</td>\n",
              "      <td>13</td>\n",
              "      <td>...</td>\n",
              "      <td>163</td>\n",
              "      <td>166</td>\n",
              "      <td>168</td>\n",
              "      <td>172</td>\n",
              "      <td>172</td>\n",
              "      <td>173</td>\n",
              "      <td>173</td>\n",
              "      <td>186</td>\n",
              "      <td>194</td>\n",
              "      <td>197</td>\n",
              "    </tr>\n",
              "    <tr>\n",
              "      <th>76</th>\n",
              "      <td>Sichuan</td>\n",
              "      <td>China</td>\n",
              "      <td>30.6171</td>\n",
              "      <td>102.7103</td>\n",
              "      <td>5</td>\n",
              "      <td>8</td>\n",
              "      <td>15</td>\n",
              "      <td>28</td>\n",
              "      <td>44</td>\n",
              "      <td>69</td>\n",
              "      <td>...</td>\n",
              "      <td>560</td>\n",
              "      <td>560</td>\n",
              "      <td>560</td>\n",
              "      <td>560</td>\n",
              "      <td>560</td>\n",
              "      <td>560</td>\n",
              "      <td>560</td>\n",
              "      <td>560</td>\n",
              "      <td>560</td>\n",
              "      <td>560</td>\n",
              "    </tr>\n",
              "    <tr>\n",
              "      <th>77</th>\n",
              "      <td>Tianjin</td>\n",
              "      <td>China</td>\n",
              "      <td>39.3054</td>\n",
              "      <td>117.3230</td>\n",
              "      <td>4</td>\n",
              "      <td>4</td>\n",
              "      <td>8</td>\n",
              "      <td>10</td>\n",
              "      <td>14</td>\n",
              "      <td>23</td>\n",
              "      <td>...</td>\n",
              "      <td>180</td>\n",
              "      <td>182</td>\n",
              "      <td>183</td>\n",
              "      <td>183</td>\n",
              "      <td>183</td>\n",
              "      <td>184</td>\n",
              "      <td>185</td>\n",
              "      <td>185</td>\n",
              "      <td>186</td>\n",
              "      <td>189</td>\n",
              "    </tr>\n",
              "    <tr>\n",
              "      <th>78</th>\n",
              "      <td>Tibet</td>\n",
              "      <td>China</td>\n",
              "      <td>31.6927</td>\n",
              "      <td>88.0924</td>\n",
              "      <td>0</td>\n",
              "      <td>0</td>\n",
              "      <td>0</td>\n",
              "      <td>0</td>\n",
              "      <td>0</td>\n",
              "      <td>0</td>\n",
              "      <td>...</td>\n",
              "      <td>1</td>\n",
              "      <td>1</td>\n",
              "      <td>1</td>\n",
              "      <td>1</td>\n",
              "      <td>1</td>\n",
              "      <td>1</td>\n",
              "      <td>1</td>\n",
              "      <td>1</td>\n",
              "      <td>1</td>\n",
              "      <td>1</td>\n",
              "    </tr>\n",
              "    <tr>\n",
              "      <th>79</th>\n",
              "      <td>Xinjiang</td>\n",
              "      <td>China</td>\n",
              "      <td>41.1129</td>\n",
              "      <td>85.2401</td>\n",
              "      <td>0</td>\n",
              "      <td>2</td>\n",
              "      <td>2</td>\n",
              "      <td>3</td>\n",
              "      <td>4</td>\n",
              "      <td>5</td>\n",
              "      <td>...</td>\n",
              "      <td>76</td>\n",
              "      <td>76</td>\n",
              "      <td>76</td>\n",
              "      <td>76</td>\n",
              "      <td>76</td>\n",
              "      <td>76</td>\n",
              "      <td>76</td>\n",
              "      <td>76</td>\n",
              "      <td>76</td>\n",
              "      <td>76</td>\n",
              "    </tr>\n",
              "    <tr>\n",
              "      <th>80</th>\n",
              "      <td>Yunnan</td>\n",
              "      <td>China</td>\n",
              "      <td>24.9740</td>\n",
              "      <td>101.4870</td>\n",
              "      <td>1</td>\n",
              "      <td>2</td>\n",
              "      <td>5</td>\n",
              "      <td>11</td>\n",
              "      <td>16</td>\n",
              "      <td>26</td>\n",
              "      <td>...</td>\n",
              "      <td>184</td>\n",
              "      <td>184</td>\n",
              "      <td>184</td>\n",
              "      <td>184</td>\n",
              "      <td>184</td>\n",
              "      <td>184</td>\n",
              "      <td>184</td>\n",
              "      <td>184</td>\n",
              "      <td>184</td>\n",
              "      <td>184</td>\n",
              "    </tr>\n",
              "    <tr>\n",
              "      <th>81</th>\n",
              "      <td>Zhejiang</td>\n",
              "      <td>China</td>\n",
              "      <td>29.1832</td>\n",
              "      <td>120.0934</td>\n",
              "      <td>10</td>\n",
              "      <td>27</td>\n",
              "      <td>43</td>\n",
              "      <td>62</td>\n",
              "      <td>104</td>\n",
              "      <td>128</td>\n",
              "      <td>...</td>\n",
              "      <td>1266</td>\n",
              "      <td>1267</td>\n",
              "      <td>1267</td>\n",
              "      <td>1267</td>\n",
              "      <td>1267</td>\n",
              "      <td>1267</td>\n",
              "      <td>1267</td>\n",
              "      <td>1268</td>\n",
              "      <td>1268</td>\n",
              "      <td>1268</td>\n",
              "    </tr>\n",
              "  </tbody>\n",
              "</table>\n",
              "<p>33 rows × 91 columns</p>\n",
              "</div>"
            ],
            "text/plain": [
              "    Province/State Country/Region      Lat      Long  1/22/20  1/23/20  \\\n",
              "49           Anhui          China  31.8257  117.2264        1        9   \n",
              "50         Beijing          China  40.1824  116.4142       14       22   \n",
              "51       Chongqing          China  30.0572  107.8740        6        9   \n",
              "52          Fujian          China  26.0789  117.9874        1        5   \n",
              "53           Gansu          China  37.8099  101.0583        0        2   \n",
              "54       Guangdong          China  23.3417  113.4244       26       32   \n",
              "55         Guangxi          China  23.8298  108.7881        2        5   \n",
              "56         Guizhou          China  26.8154  106.8748        1        3   \n",
              "57          Hainan          China  19.1959  109.7453        4        5   \n",
              "58           Hebei          China  39.5490  116.1306        1        1   \n",
              "59    Heilongjiang          China  47.8620  127.7615        0        2   \n",
              "60           Henan          China  33.8820  113.6140        5        5   \n",
              "61       Hong Kong          China  22.3000  114.2000        0        2   \n",
              "62           Hubei          China  30.9756  112.2707      444      444   \n",
              "63           Hunan          China  27.6104  111.7088        4        9   \n",
              "64  Inner Mongolia          China  44.0935  113.9448        0        0   \n",
              "65         Jiangsu          China  32.9711  119.4550        1        5   \n",
              "66         Jiangxi          China  27.6140  115.7221        2        7   \n",
              "67           Jilin          China  43.6661  126.1923        0        1   \n",
              "68        Liaoning          China  41.2956  122.6085        2        3   \n",
              "69           Macau          China  22.1667  113.5500        1        2   \n",
              "70         Ningxia          China  37.2692  106.1655        1        1   \n",
              "71         Qinghai          China  35.7452   95.9956        0        0   \n",
              "72         Shaanxi          China  35.1917  108.8701        0        3   \n",
              "73        Shandong          China  36.3427  118.1498        2        6   \n",
              "74        Shanghai          China  31.2020  121.4491        9       16   \n",
              "75          Shanxi          China  37.5777  112.2922        1        1   \n",
              "76         Sichuan          China  30.6171  102.7103        5        8   \n",
              "77         Tianjin          China  39.3054  117.3230        4        4   \n",
              "78           Tibet          China  31.6927   88.0924        0        0   \n",
              "79        Xinjiang          China  41.1129   85.2401        0        2   \n",
              "80          Yunnan          China  24.9740  101.4870        1        2   \n",
              "81        Zhejiang          China  29.1832  120.0934       10       27   \n",
              "\n",
              "    1/24/20  1/25/20  1/26/20  1/27/20  ...  4/8/20  4/9/20  4/10/20  4/11/20  \\\n",
              "49       15       39       60       70  ...     990     991      991      991   \n",
              "50       36       41       68       80  ...     588     588      588      589   \n",
              "51       27       57       75      110  ...     579     579      579      579   \n",
              "52       10       18       35       59  ...     351     351      351      351   \n",
              "53        2        4        7       14  ...     139     139      139      139   \n",
              "54       53       78      111      151  ...    1536    1539     1544     1548   \n",
              "55       23       23       36       46  ...     254     254      254      254   \n",
              "56        3        4        5        7  ...     146     146      146      146   \n",
              "57        8       19       22       33  ...     168     168      168      168   \n",
              "58        2        8       13       18  ...     327     327      327      327   \n",
              "59        4        9       15       21  ...     569     609      638      661   \n",
              "60        9       32       83      128  ...    1276    1276     1276     1276   \n",
              "61        2        5        8        8  ...     960     973      989     1000   \n",
              "62      549      761     1058     1423  ...   67803   67803    67803    67803   \n",
              "63       24       43       69      100  ...    1019    1019     1019     1019   \n",
              "64        1        7        7       11  ...     124     126      128      155   \n",
              "65        9       18       33       47  ...     651     651      651      652   \n",
              "66       18       18       36       72  ...     937     937      937      937   \n",
              "67        3        4        4        6  ...      98      98       98       98   \n",
              "68        4       17       21       27  ...     144     144      144      145   \n",
              "69        2        2        5        6  ...      45      45       45       45   \n",
              "70        2        3        4        7  ...      75      75       75       75   \n",
              "71        0        1        1        6  ...      18      18       18       18   \n",
              "72        5       15       22       35  ...     256     256      256      256   \n",
              "73       15       27       46       75  ...     783     783      783      784   \n",
              "74       20       33       40       53  ...     543     552      555      555   \n",
              "75        1        6        9       13  ...     163     166      168      172   \n",
              "76       15       28       44       69  ...     560     560      560      560   \n",
              "77        8       10       14       23  ...     180     182      183      183   \n",
              "78        0        0        0        0  ...       1       1        1        1   \n",
              "79        2        3        4        5  ...      76      76       76       76   \n",
              "80        5       11       16       26  ...     184     184      184      184   \n",
              "81       43       62      104      128  ...    1266    1267     1267     1267   \n",
              "\n",
              "    4/12/20  4/13/20  4/14/20  4/15/20  4/16/20  4/17/20  \n",
              "49      991      991      991      991      991      991  \n",
              "50      589      589      589      590      593      593  \n",
              "51      579      579      579      579      579      579  \n",
              "52      352      352      353      353      353      354  \n",
              "53      139      139      139      139      139      139  \n",
              "54     1552     1555     1564     1566     1571     1577  \n",
              "55      254      254      254      254      254      254  \n",
              "56      146      146      146      146      146      146  \n",
              "57      168      168      168      168      168      168  \n",
              "58      327      327      327      327      328      328  \n",
              "59      684      740      819      841      861      872  \n",
              "60     1276     1276     1276     1276     1276     1276  \n",
              "61     1004     1009     1012     1017     1017     1021  \n",
              "62    67803    67803    67803    67803    67803    68128  \n",
              "63     1019     1019     1019     1019     1019     1019  \n",
              "64      189      190      190      190      193      193  \n",
              "65      653      653      653      653      653      653  \n",
              "66      937      937      937      937      937      937  \n",
              "67       99      100      100      102      102      102  \n",
              "68      145      145      145      145      145      146  \n",
              "69       45       45       45       45       45       45  \n",
              "70       75       75       75       75       75       75  \n",
              "71       18       18       18       18       18       18  \n",
              "72      256      256      256      256      256      256  \n",
              "73      784      784      784      784      784      787  \n",
              "74      607      618      618      622      628      628  \n",
              "75      172      173      173      186      194      197  \n",
              "76      560      560      560      560      560      560  \n",
              "77      183      184      185      185      186      189  \n",
              "78        1        1        1        1        1        1  \n",
              "79       76       76       76       76       76       76  \n",
              "80      184      184      184      184      184      184  \n",
              "81     1267     1267     1267     1268     1268     1268  \n",
              "\n",
              "[33 rows x 91 columns]"
            ]
          },
          "metadata": {
            "tags": []
          },
          "execution_count": 9
        }
      ]
    },
    {
      "cell_type": "markdown",
      "metadata": {
        "id": "Ke5pakSZiOPF",
        "colab_type": "text"
      },
      "source": [
        "# India"
      ]
    },
    {
      "cell_type": "code",
      "metadata": {
        "id": "iIJBnY_AiOPG",
        "colab_type": "code",
        "outputId": "84713046-605e-4dac-a546-9f8fe2251a8a",
        "colab": {}
      },
      "source": [
        "df[df['Country/Region'].str.match('India')]"
      ],
      "execution_count": 0,
      "outputs": [
        {
          "output_type": "execute_result",
          "data": {
            "text/html": [
              "<div>\n",
              "<style scoped>\n",
              "    .dataframe tbody tr th:only-of-type {\n",
              "        vertical-align: middle;\n",
              "    }\n",
              "\n",
              "    .dataframe tbody tr th {\n",
              "        vertical-align: top;\n",
              "    }\n",
              "\n",
              "    .dataframe thead th {\n",
              "        text-align: right;\n",
              "    }\n",
              "</style>\n",
              "<table border=\"1\" class=\"dataframe\">\n",
              "  <thead>\n",
              "    <tr style=\"text-align: right;\">\n",
              "      <th></th>\n",
              "      <th>Province/State</th>\n",
              "      <th>Country/Region</th>\n",
              "      <th>Lat</th>\n",
              "      <th>Long</th>\n",
              "      <th>1/22/20</th>\n",
              "      <th>1/23/20</th>\n",
              "      <th>1/24/20</th>\n",
              "      <th>1/25/20</th>\n",
              "      <th>1/26/20</th>\n",
              "      <th>1/27/20</th>\n",
              "      <th>...</th>\n",
              "      <th>4/8/20</th>\n",
              "      <th>4/9/20</th>\n",
              "      <th>4/10/20</th>\n",
              "      <th>4/11/20</th>\n",
              "      <th>4/12/20</th>\n",
              "      <th>4/13/20</th>\n",
              "      <th>4/14/20</th>\n",
              "      <th>4/15/20</th>\n",
              "      <th>4/16/20</th>\n",
              "      <th>4/17/20</th>\n",
              "    </tr>\n",
              "  </thead>\n",
              "  <tbody>\n",
              "    <tr>\n",
              "      <th>131</th>\n",
              "      <td>NaN</td>\n",
              "      <td>India</td>\n",
              "      <td>21.0</td>\n",
              "      <td>78.0</td>\n",
              "      <td>0</td>\n",
              "      <td>0</td>\n",
              "      <td>0</td>\n",
              "      <td>0</td>\n",
              "      <td>0</td>\n",
              "      <td>0</td>\n",
              "      <td>...</td>\n",
              "      <td>5916</td>\n",
              "      <td>6725</td>\n",
              "      <td>7598</td>\n",
              "      <td>8446</td>\n",
              "      <td>9205</td>\n",
              "      <td>10453</td>\n",
              "      <td>11487</td>\n",
              "      <td>12322</td>\n",
              "      <td>13430</td>\n",
              "      <td>14352</td>\n",
              "    </tr>\n",
              "  </tbody>\n",
              "</table>\n",
              "<p>1 rows × 91 columns</p>\n",
              "</div>"
            ],
            "text/plain": [
              "    Province/State Country/Region   Lat  Long  1/22/20  1/23/20  1/24/20  \\\n",
              "131            NaN          India  21.0  78.0        0        0        0   \n",
              "\n",
              "     1/25/20  1/26/20  1/27/20  ...  4/8/20  4/9/20  4/10/20  4/11/20  \\\n",
              "131        0        0        0  ...    5916    6725     7598     8446   \n",
              "\n",
              "     4/12/20  4/13/20  4/14/20  4/15/20  4/16/20  4/17/20  \n",
              "131     9205    10453    11487    12322    13430    14352  \n",
              "\n",
              "[1 rows x 91 columns]"
            ]
          },
          "metadata": {
            "tags": []
          },
          "execution_count": 10
        }
      ]
    },
    {
      "cell_type": "code",
      "metadata": {
        "id": "X-b3zuOiiOPM",
        "colab_type": "code",
        "colab": {}
      },
      "source": [
        "india=df.loc[df['Country/Region']=='India'].iloc[0,4:]"
      ],
      "execution_count": 0,
      "outputs": []
    },
    {
      "cell_type": "code",
      "metadata": {
        "id": "CTPW_SjBiOPR",
        "colab_type": "code",
        "colab": {}
      },
      "source": [
        "india = pd.DataFrame({'India':india})\n"
      ],
      "execution_count": 0,
      "outputs": []
    },
    {
      "cell_type": "code",
      "metadata": {
        "id": "H56b_ylhiOPV",
        "colab_type": "code",
        "outputId": "a84baa9f-6a96-4a48-d76a-86fcf6306f3a",
        "colab": {}
      },
      "source": [
        "india"
      ],
      "execution_count": 0,
      "outputs": [
        {
          "output_type": "execute_result",
          "data": {
            "text/html": [
              "<div>\n",
              "<style scoped>\n",
              "    .dataframe tbody tr th:only-of-type {\n",
              "        vertical-align: middle;\n",
              "    }\n",
              "\n",
              "    .dataframe tbody tr th {\n",
              "        vertical-align: top;\n",
              "    }\n",
              "\n",
              "    .dataframe thead th {\n",
              "        text-align: right;\n",
              "    }\n",
              "</style>\n",
              "<table border=\"1\" class=\"dataframe\">\n",
              "  <thead>\n",
              "    <tr style=\"text-align: right;\">\n",
              "      <th></th>\n",
              "      <th>India</th>\n",
              "    </tr>\n",
              "  </thead>\n",
              "  <tbody>\n",
              "    <tr>\n",
              "      <th>1/22/20</th>\n",
              "      <td>0</td>\n",
              "    </tr>\n",
              "    <tr>\n",
              "      <th>1/23/20</th>\n",
              "      <td>0</td>\n",
              "    </tr>\n",
              "    <tr>\n",
              "      <th>1/24/20</th>\n",
              "      <td>0</td>\n",
              "    </tr>\n",
              "    <tr>\n",
              "      <th>1/25/20</th>\n",
              "      <td>0</td>\n",
              "    </tr>\n",
              "    <tr>\n",
              "      <th>1/26/20</th>\n",
              "      <td>0</td>\n",
              "    </tr>\n",
              "    <tr>\n",
              "      <th>...</th>\n",
              "      <td>...</td>\n",
              "    </tr>\n",
              "    <tr>\n",
              "      <th>4/13/20</th>\n",
              "      <td>10453</td>\n",
              "    </tr>\n",
              "    <tr>\n",
              "      <th>4/14/20</th>\n",
              "      <td>11487</td>\n",
              "    </tr>\n",
              "    <tr>\n",
              "      <th>4/15/20</th>\n",
              "      <td>12322</td>\n",
              "    </tr>\n",
              "    <tr>\n",
              "      <th>4/16/20</th>\n",
              "      <td>13430</td>\n",
              "    </tr>\n",
              "    <tr>\n",
              "      <th>4/17/20</th>\n",
              "      <td>14352</td>\n",
              "    </tr>\n",
              "  </tbody>\n",
              "</table>\n",
              "<p>87 rows × 1 columns</p>\n",
              "</div>"
            ],
            "text/plain": [
              "         India\n",
              "1/22/20      0\n",
              "1/23/20      0\n",
              "1/24/20      0\n",
              "1/25/20      0\n",
              "1/26/20      0\n",
              "...        ...\n",
              "4/13/20  10453\n",
              "4/14/20  11487\n",
              "4/15/20  12322\n",
              "4/16/20  13430\n",
              "4/17/20  14352\n",
              "\n",
              "[87 rows x 1 columns]"
            ]
          },
          "metadata": {
            "tags": []
          },
          "execution_count": 13
        }
      ]
    },
    {
      "cell_type": "markdown",
      "metadata": {
        "id": "W19v-nKpiOPZ",
        "colab_type": "text"
      },
      "source": [
        "### Fixing china's cummulative number-Pronvices."
      ]
    },
    {
      "cell_type": "code",
      "metadata": {
        "id": "-MiJ0YTxiOPa",
        "colab_type": "code",
        "colab": {}
      },
      "source": [
        "x=df.loc[df['Country/Region']=='China']"
      ],
      "execution_count": 0,
      "outputs": []
    },
    {
      "cell_type": "code",
      "metadata": {
        "id": "BaW3GY7OiOPe",
        "colab_type": "code",
        "outputId": "89ce7299-04ef-4ea6-d2e9-add2eb892f65",
        "colab": {}
      },
      "source": [
        "x.head()"
      ],
      "execution_count": 0,
      "outputs": [
        {
          "output_type": "execute_result",
          "data": {
            "text/html": [
              "<div>\n",
              "<style scoped>\n",
              "    .dataframe tbody tr th:only-of-type {\n",
              "        vertical-align: middle;\n",
              "    }\n",
              "\n",
              "    .dataframe tbody tr th {\n",
              "        vertical-align: top;\n",
              "    }\n",
              "\n",
              "    .dataframe thead th {\n",
              "        text-align: right;\n",
              "    }\n",
              "</style>\n",
              "<table border=\"1\" class=\"dataframe\">\n",
              "  <thead>\n",
              "    <tr style=\"text-align: right;\">\n",
              "      <th></th>\n",
              "      <th>Province/State</th>\n",
              "      <th>Country/Region</th>\n",
              "      <th>Lat</th>\n",
              "      <th>Long</th>\n",
              "      <th>1/22/20</th>\n",
              "      <th>1/23/20</th>\n",
              "      <th>1/24/20</th>\n",
              "      <th>1/25/20</th>\n",
              "      <th>1/26/20</th>\n",
              "      <th>1/27/20</th>\n",
              "      <th>...</th>\n",
              "      <th>4/8/20</th>\n",
              "      <th>4/9/20</th>\n",
              "      <th>4/10/20</th>\n",
              "      <th>4/11/20</th>\n",
              "      <th>4/12/20</th>\n",
              "      <th>4/13/20</th>\n",
              "      <th>4/14/20</th>\n",
              "      <th>4/15/20</th>\n",
              "      <th>4/16/20</th>\n",
              "      <th>4/17/20</th>\n",
              "    </tr>\n",
              "  </thead>\n",
              "  <tbody>\n",
              "    <tr>\n",
              "      <th>49</th>\n",
              "      <td>Anhui</td>\n",
              "      <td>China</td>\n",
              "      <td>31.8257</td>\n",
              "      <td>117.2264</td>\n",
              "      <td>1</td>\n",
              "      <td>9</td>\n",
              "      <td>15</td>\n",
              "      <td>39</td>\n",
              "      <td>60</td>\n",
              "      <td>70</td>\n",
              "      <td>...</td>\n",
              "      <td>990</td>\n",
              "      <td>991</td>\n",
              "      <td>991</td>\n",
              "      <td>991</td>\n",
              "      <td>991</td>\n",
              "      <td>991</td>\n",
              "      <td>991</td>\n",
              "      <td>991</td>\n",
              "      <td>991</td>\n",
              "      <td>991</td>\n",
              "    </tr>\n",
              "    <tr>\n",
              "      <th>50</th>\n",
              "      <td>Beijing</td>\n",
              "      <td>China</td>\n",
              "      <td>40.1824</td>\n",
              "      <td>116.4142</td>\n",
              "      <td>14</td>\n",
              "      <td>22</td>\n",
              "      <td>36</td>\n",
              "      <td>41</td>\n",
              "      <td>68</td>\n",
              "      <td>80</td>\n",
              "      <td>...</td>\n",
              "      <td>588</td>\n",
              "      <td>588</td>\n",
              "      <td>588</td>\n",
              "      <td>589</td>\n",
              "      <td>589</td>\n",
              "      <td>589</td>\n",
              "      <td>589</td>\n",
              "      <td>590</td>\n",
              "      <td>593</td>\n",
              "      <td>593</td>\n",
              "    </tr>\n",
              "    <tr>\n",
              "      <th>51</th>\n",
              "      <td>Chongqing</td>\n",
              "      <td>China</td>\n",
              "      <td>30.0572</td>\n",
              "      <td>107.8740</td>\n",
              "      <td>6</td>\n",
              "      <td>9</td>\n",
              "      <td>27</td>\n",
              "      <td>57</td>\n",
              "      <td>75</td>\n",
              "      <td>110</td>\n",
              "      <td>...</td>\n",
              "      <td>579</td>\n",
              "      <td>579</td>\n",
              "      <td>579</td>\n",
              "      <td>579</td>\n",
              "      <td>579</td>\n",
              "      <td>579</td>\n",
              "      <td>579</td>\n",
              "      <td>579</td>\n",
              "      <td>579</td>\n",
              "      <td>579</td>\n",
              "    </tr>\n",
              "    <tr>\n",
              "      <th>52</th>\n",
              "      <td>Fujian</td>\n",
              "      <td>China</td>\n",
              "      <td>26.0789</td>\n",
              "      <td>117.9874</td>\n",
              "      <td>1</td>\n",
              "      <td>5</td>\n",
              "      <td>10</td>\n",
              "      <td>18</td>\n",
              "      <td>35</td>\n",
              "      <td>59</td>\n",
              "      <td>...</td>\n",
              "      <td>351</td>\n",
              "      <td>351</td>\n",
              "      <td>351</td>\n",
              "      <td>351</td>\n",
              "      <td>352</td>\n",
              "      <td>352</td>\n",
              "      <td>353</td>\n",
              "      <td>353</td>\n",
              "      <td>353</td>\n",
              "      <td>354</td>\n",
              "    </tr>\n",
              "    <tr>\n",
              "      <th>53</th>\n",
              "      <td>Gansu</td>\n",
              "      <td>China</td>\n",
              "      <td>37.8099</td>\n",
              "      <td>101.0583</td>\n",
              "      <td>0</td>\n",
              "      <td>2</td>\n",
              "      <td>2</td>\n",
              "      <td>4</td>\n",
              "      <td>7</td>\n",
              "      <td>14</td>\n",
              "      <td>...</td>\n",
              "      <td>139</td>\n",
              "      <td>139</td>\n",
              "      <td>139</td>\n",
              "      <td>139</td>\n",
              "      <td>139</td>\n",
              "      <td>139</td>\n",
              "      <td>139</td>\n",
              "      <td>139</td>\n",
              "      <td>139</td>\n",
              "      <td>139</td>\n",
              "    </tr>\n",
              "  </tbody>\n",
              "</table>\n",
              "<p>5 rows × 91 columns</p>\n",
              "</div>"
            ],
            "text/plain": [
              "   Province/State Country/Region      Lat      Long  1/22/20  1/23/20  \\\n",
              "49          Anhui          China  31.8257  117.2264        1        9   \n",
              "50        Beijing          China  40.1824  116.4142       14       22   \n",
              "51      Chongqing          China  30.0572  107.8740        6        9   \n",
              "52         Fujian          China  26.0789  117.9874        1        5   \n",
              "53          Gansu          China  37.8099  101.0583        0        2   \n",
              "\n",
              "    1/24/20  1/25/20  1/26/20  1/27/20  ...  4/8/20  4/9/20  4/10/20  4/11/20  \\\n",
              "49       15       39       60       70  ...     990     991      991      991   \n",
              "50       36       41       68       80  ...     588     588      588      589   \n",
              "51       27       57       75      110  ...     579     579      579      579   \n",
              "52       10       18       35       59  ...     351     351      351      351   \n",
              "53        2        4        7       14  ...     139     139      139      139   \n",
              "\n",
              "    4/12/20  4/13/20  4/14/20  4/15/20  4/16/20  4/17/20  \n",
              "49      991      991      991      991      991      991  \n",
              "50      589      589      589      590      593      593  \n",
              "51      579      579      579      579      579      579  \n",
              "52      352      352      353      353      353      354  \n",
              "53      139      139      139      139      139      139  \n",
              "\n",
              "[5 rows x 91 columns]"
            ]
          },
          "metadata": {
            "tags": []
          },
          "execution_count": 15
        }
      ]
    },
    {
      "cell_type": "code",
      "metadata": {
        "id": "2VJdSjE6iOPh",
        "colab_type": "code",
        "colab": {}
      },
      "source": [
        "china=x.iloc[:,4:].sum(axis = 0, skipna = True)"
      ],
      "execution_count": 0,
      "outputs": []
    },
    {
      "cell_type": "code",
      "metadata": {
        "id": "0wXEwDiYiOPl",
        "colab_type": "code",
        "colab": {}
      },
      "source": [
        "china= pd.DataFrame({'China':china})"
      ],
      "execution_count": 0,
      "outputs": []
    },
    {
      "cell_type": "markdown",
      "metadata": {
        "id": "RPPe8zbMiOPq",
        "colab_type": "text"
      },
      "source": [
        "## china's cummulative numbers"
      ]
    },
    {
      "cell_type": "code",
      "metadata": {
        "id": "odC6cgYNiOPr",
        "colab_type": "code",
        "outputId": "eeb144f1-6daf-4c5d-81bf-9572960523b5",
        "colab": {}
      },
      "source": [
        "china"
      ],
      "execution_count": 0,
      "outputs": [
        {
          "output_type": "execute_result",
          "data": {
            "text/html": [
              "<div>\n",
              "<style scoped>\n",
              "    .dataframe tbody tr th:only-of-type {\n",
              "        vertical-align: middle;\n",
              "    }\n",
              "\n",
              "    .dataframe tbody tr th {\n",
              "        vertical-align: top;\n",
              "    }\n",
              "\n",
              "    .dataframe thead th {\n",
              "        text-align: right;\n",
              "    }\n",
              "</style>\n",
              "<table border=\"1\" class=\"dataframe\">\n",
              "  <thead>\n",
              "    <tr style=\"text-align: right;\">\n",
              "      <th></th>\n",
              "      <th>China</th>\n",
              "    </tr>\n",
              "  </thead>\n",
              "  <tbody>\n",
              "    <tr>\n",
              "      <th>1/22/20</th>\n",
              "      <td>548</td>\n",
              "    </tr>\n",
              "    <tr>\n",
              "      <th>1/23/20</th>\n",
              "      <td>643</td>\n",
              "    </tr>\n",
              "    <tr>\n",
              "      <th>1/24/20</th>\n",
              "      <td>920</td>\n",
              "    </tr>\n",
              "    <tr>\n",
              "      <th>1/25/20</th>\n",
              "      <td>1406</td>\n",
              "    </tr>\n",
              "    <tr>\n",
              "      <th>1/26/20</th>\n",
              "      <td>2075</td>\n",
              "    </tr>\n",
              "    <tr>\n",
              "      <th>...</th>\n",
              "      <td>...</td>\n",
              "    </tr>\n",
              "    <tr>\n",
              "      <th>4/13/20</th>\n",
              "      <td>83213</td>\n",
              "    </tr>\n",
              "    <tr>\n",
              "      <th>4/14/20</th>\n",
              "      <td>83306</td>\n",
              "    </tr>\n",
              "    <tr>\n",
              "      <th>4/15/20</th>\n",
              "      <td>83356</td>\n",
              "    </tr>\n",
              "    <tr>\n",
              "      <th>4/16/20</th>\n",
              "      <td>83403</td>\n",
              "    </tr>\n",
              "    <tr>\n",
              "      <th>4/17/20</th>\n",
              "      <td>83760</td>\n",
              "    </tr>\n",
              "  </tbody>\n",
              "</table>\n",
              "<p>87 rows × 1 columns</p>\n",
              "</div>"
            ],
            "text/plain": [
              "         China\n",
              "1/22/20    548\n",
              "1/23/20    643\n",
              "1/24/20    920\n",
              "1/25/20   1406\n",
              "1/26/20   2075\n",
              "...        ...\n",
              "4/13/20  83213\n",
              "4/14/20  83306\n",
              "4/15/20  83356\n",
              "4/16/20  83403\n",
              "4/17/20  83760\n",
              "\n",
              "[87 rows x 1 columns]"
            ]
          },
          "metadata": {
            "tags": []
          },
          "execution_count": 18
        }
      ]
    },
    {
      "cell_type": "markdown",
      "metadata": {
        "id": "glt0Rsd-iOPu",
        "colab_type": "text"
      },
      "source": [
        "## Preparing full dataframe for 3 countries"
      ]
    },
    {
      "cell_type": "code",
      "metadata": {
        "id": "ioT9n-L-iOPv",
        "colab_type": "code",
        "colab": {}
      },
      "source": [
        "countries=['China','US']"
      ],
      "execution_count": 0,
      "outputs": []
    },
    {
      "cell_type": "code",
      "metadata": {
        "id": "WRaZibgqiOPy",
        "colab_type": "code",
        "colab": {}
      },
      "source": [
        "countries_3=india"
      ],
      "execution_count": 0,
      "outputs": []
    },
    {
      "cell_type": "code",
      "metadata": {
        "id": "ynMES91siOP1",
        "colab_type": "code",
        "colab": {}
      },
      "source": [
        "for c in countries:\n",
        "    countries_3[c] = df.loc[df['Country/Region']==c].iloc[0,4:]"
      ],
      "execution_count": 0,
      "outputs": []
    },
    {
      "cell_type": "code",
      "metadata": {
        "id": "dXyXzMuniOP4",
        "colab_type": "code",
        "outputId": "6e330d6a-f286-4286-e460-2383c6cccd4f",
        "colab": {}
      },
      "source": [
        "countries_3"
      ],
      "execution_count": 0,
      "outputs": [
        {
          "output_type": "execute_result",
          "data": {
            "text/html": [
              "<div>\n",
              "<style scoped>\n",
              "    .dataframe tbody tr th:only-of-type {\n",
              "        vertical-align: middle;\n",
              "    }\n",
              "\n",
              "    .dataframe tbody tr th {\n",
              "        vertical-align: top;\n",
              "    }\n",
              "\n",
              "    .dataframe thead th {\n",
              "        text-align: right;\n",
              "    }\n",
              "</style>\n",
              "<table border=\"1\" class=\"dataframe\">\n",
              "  <thead>\n",
              "    <tr style=\"text-align: right;\">\n",
              "      <th></th>\n",
              "      <th>India</th>\n",
              "      <th>China</th>\n",
              "      <th>US</th>\n",
              "    </tr>\n",
              "  </thead>\n",
              "  <tbody>\n",
              "    <tr>\n",
              "      <th>1/22/20</th>\n",
              "      <td>0</td>\n",
              "      <td>1</td>\n",
              "      <td>1</td>\n",
              "    </tr>\n",
              "    <tr>\n",
              "      <th>1/23/20</th>\n",
              "      <td>0</td>\n",
              "      <td>9</td>\n",
              "      <td>1</td>\n",
              "    </tr>\n",
              "    <tr>\n",
              "      <th>1/24/20</th>\n",
              "      <td>0</td>\n",
              "      <td>15</td>\n",
              "      <td>2</td>\n",
              "    </tr>\n",
              "    <tr>\n",
              "      <th>1/25/20</th>\n",
              "      <td>0</td>\n",
              "      <td>39</td>\n",
              "      <td>2</td>\n",
              "    </tr>\n",
              "    <tr>\n",
              "      <th>1/26/20</th>\n",
              "      <td>0</td>\n",
              "      <td>60</td>\n",
              "      <td>5</td>\n",
              "    </tr>\n",
              "    <tr>\n",
              "      <th>...</th>\n",
              "      <td>...</td>\n",
              "      <td>...</td>\n",
              "      <td>...</td>\n",
              "    </tr>\n",
              "    <tr>\n",
              "      <th>4/13/20</th>\n",
              "      <td>10453</td>\n",
              "      <td>991</td>\n",
              "      <td>580619</td>\n",
              "    </tr>\n",
              "    <tr>\n",
              "      <th>4/14/20</th>\n",
              "      <td>11487</td>\n",
              "      <td>991</td>\n",
              "      <td>607670</td>\n",
              "    </tr>\n",
              "    <tr>\n",
              "      <th>4/15/20</th>\n",
              "      <td>12322</td>\n",
              "      <td>991</td>\n",
              "      <td>636350</td>\n",
              "    </tr>\n",
              "    <tr>\n",
              "      <th>4/16/20</th>\n",
              "      <td>13430</td>\n",
              "      <td>991</td>\n",
              "      <td>667801</td>\n",
              "    </tr>\n",
              "    <tr>\n",
              "      <th>4/17/20</th>\n",
              "      <td>14352</td>\n",
              "      <td>991</td>\n",
              "      <td>699706</td>\n",
              "    </tr>\n",
              "  </tbody>\n",
              "</table>\n",
              "<p>87 rows × 3 columns</p>\n",
              "</div>"
            ],
            "text/plain": [
              "         India China      US\n",
              "1/22/20      0     1       1\n",
              "1/23/20      0     9       1\n",
              "1/24/20      0    15       2\n",
              "1/25/20      0    39       2\n",
              "1/26/20      0    60       5\n",
              "...        ...   ...     ...\n",
              "4/13/20  10453   991  580619\n",
              "4/14/20  11487   991  607670\n",
              "4/15/20  12322   991  636350\n",
              "4/16/20  13430   991  667801\n",
              "4/17/20  14352   991  699706\n",
              "\n",
              "[87 rows x 3 columns]"
            ]
          },
          "metadata": {
            "tags": []
          },
          "execution_count": 22
        }
      ]
    },
    {
      "cell_type": "code",
      "metadata": {
        "id": "tR8XrycgiOP7",
        "colab_type": "code",
        "outputId": "b6a296f7-7513-4035-8135-566331324297",
        "colab": {}
      },
      "source": [
        "countries_3.drop(['China'],axis=1)"
      ],
      "execution_count": 0,
      "outputs": [
        {
          "output_type": "execute_result",
          "data": {
            "text/html": [
              "<div>\n",
              "<style scoped>\n",
              "    .dataframe tbody tr th:only-of-type {\n",
              "        vertical-align: middle;\n",
              "    }\n",
              "\n",
              "    .dataframe tbody tr th {\n",
              "        vertical-align: top;\n",
              "    }\n",
              "\n",
              "    .dataframe thead th {\n",
              "        text-align: right;\n",
              "    }\n",
              "</style>\n",
              "<table border=\"1\" class=\"dataframe\">\n",
              "  <thead>\n",
              "    <tr style=\"text-align: right;\">\n",
              "      <th></th>\n",
              "      <th>India</th>\n",
              "      <th>US</th>\n",
              "    </tr>\n",
              "  </thead>\n",
              "  <tbody>\n",
              "    <tr>\n",
              "      <th>1/22/20</th>\n",
              "      <td>0</td>\n",
              "      <td>1</td>\n",
              "    </tr>\n",
              "    <tr>\n",
              "      <th>1/23/20</th>\n",
              "      <td>0</td>\n",
              "      <td>1</td>\n",
              "    </tr>\n",
              "    <tr>\n",
              "      <th>1/24/20</th>\n",
              "      <td>0</td>\n",
              "      <td>2</td>\n",
              "    </tr>\n",
              "    <tr>\n",
              "      <th>1/25/20</th>\n",
              "      <td>0</td>\n",
              "      <td>2</td>\n",
              "    </tr>\n",
              "    <tr>\n",
              "      <th>1/26/20</th>\n",
              "      <td>0</td>\n",
              "      <td>5</td>\n",
              "    </tr>\n",
              "    <tr>\n",
              "      <th>...</th>\n",
              "      <td>...</td>\n",
              "      <td>...</td>\n",
              "    </tr>\n",
              "    <tr>\n",
              "      <th>4/13/20</th>\n",
              "      <td>10453</td>\n",
              "      <td>580619</td>\n",
              "    </tr>\n",
              "    <tr>\n",
              "      <th>4/14/20</th>\n",
              "      <td>11487</td>\n",
              "      <td>607670</td>\n",
              "    </tr>\n",
              "    <tr>\n",
              "      <th>4/15/20</th>\n",
              "      <td>12322</td>\n",
              "      <td>636350</td>\n",
              "    </tr>\n",
              "    <tr>\n",
              "      <th>4/16/20</th>\n",
              "      <td>13430</td>\n",
              "      <td>667801</td>\n",
              "    </tr>\n",
              "    <tr>\n",
              "      <th>4/17/20</th>\n",
              "      <td>14352</td>\n",
              "      <td>699706</td>\n",
              "    </tr>\n",
              "  </tbody>\n",
              "</table>\n",
              "<p>87 rows × 2 columns</p>\n",
              "</div>"
            ],
            "text/plain": [
              "         India      US\n",
              "1/22/20      0       1\n",
              "1/23/20      0       1\n",
              "1/24/20      0       2\n",
              "1/25/20      0       2\n",
              "1/26/20      0       5\n",
              "...        ...     ...\n",
              "4/13/20  10453  580619\n",
              "4/14/20  11487  607670\n",
              "4/15/20  12322  636350\n",
              "4/16/20  13430  667801\n",
              "4/17/20  14352  699706\n",
              "\n",
              "[87 rows x 2 columns]"
            ]
          },
          "metadata": {
            "tags": []
          },
          "execution_count": 23
        }
      ]
    },
    {
      "cell_type": "code",
      "metadata": {
        "id": "qIbTWpyfiOP_",
        "colab_type": "code",
        "colab": {}
      },
      "source": [
        "countries_3['China']=china"
      ],
      "execution_count": 0,
      "outputs": []
    },
    {
      "cell_type": "markdown",
      "metadata": {
        "id": "EuROlIZKiOQE",
        "colab_type": "text"
      },
      "source": [
        "### Final dataframe for the three countries"
      ]
    },
    {
      "cell_type": "code",
      "metadata": {
        "id": "fe-JafIyiOQF",
        "colab_type": "code",
        "outputId": "5325a58b-329d-4ad7-a491-923f9f53d856",
        "colab": {}
      },
      "source": [
        "countries_3"
      ],
      "execution_count": 0,
      "outputs": [
        {
          "output_type": "execute_result",
          "data": {
            "text/html": [
              "<div>\n",
              "<style scoped>\n",
              "    .dataframe tbody tr th:only-of-type {\n",
              "        vertical-align: middle;\n",
              "    }\n",
              "\n",
              "    .dataframe tbody tr th {\n",
              "        vertical-align: top;\n",
              "    }\n",
              "\n",
              "    .dataframe thead th {\n",
              "        text-align: right;\n",
              "    }\n",
              "</style>\n",
              "<table border=\"1\" class=\"dataframe\">\n",
              "  <thead>\n",
              "    <tr style=\"text-align: right;\">\n",
              "      <th></th>\n",
              "      <th>India</th>\n",
              "      <th>China</th>\n",
              "      <th>US</th>\n",
              "    </tr>\n",
              "  </thead>\n",
              "  <tbody>\n",
              "    <tr>\n",
              "      <th>1/22/20</th>\n",
              "      <td>0</td>\n",
              "      <td>548</td>\n",
              "      <td>1</td>\n",
              "    </tr>\n",
              "    <tr>\n",
              "      <th>1/23/20</th>\n",
              "      <td>0</td>\n",
              "      <td>643</td>\n",
              "      <td>1</td>\n",
              "    </tr>\n",
              "    <tr>\n",
              "      <th>1/24/20</th>\n",
              "      <td>0</td>\n",
              "      <td>920</td>\n",
              "      <td>2</td>\n",
              "    </tr>\n",
              "    <tr>\n",
              "      <th>1/25/20</th>\n",
              "      <td>0</td>\n",
              "      <td>1406</td>\n",
              "      <td>2</td>\n",
              "    </tr>\n",
              "    <tr>\n",
              "      <th>1/26/20</th>\n",
              "      <td>0</td>\n",
              "      <td>2075</td>\n",
              "      <td>5</td>\n",
              "    </tr>\n",
              "    <tr>\n",
              "      <th>...</th>\n",
              "      <td>...</td>\n",
              "      <td>...</td>\n",
              "      <td>...</td>\n",
              "    </tr>\n",
              "    <tr>\n",
              "      <th>4/13/20</th>\n",
              "      <td>10453</td>\n",
              "      <td>83213</td>\n",
              "      <td>580619</td>\n",
              "    </tr>\n",
              "    <tr>\n",
              "      <th>4/14/20</th>\n",
              "      <td>11487</td>\n",
              "      <td>83306</td>\n",
              "      <td>607670</td>\n",
              "    </tr>\n",
              "    <tr>\n",
              "      <th>4/15/20</th>\n",
              "      <td>12322</td>\n",
              "      <td>83356</td>\n",
              "      <td>636350</td>\n",
              "    </tr>\n",
              "    <tr>\n",
              "      <th>4/16/20</th>\n",
              "      <td>13430</td>\n",
              "      <td>83403</td>\n",
              "      <td>667801</td>\n",
              "    </tr>\n",
              "    <tr>\n",
              "      <th>4/17/20</th>\n",
              "      <td>14352</td>\n",
              "      <td>83760</td>\n",
              "      <td>699706</td>\n",
              "    </tr>\n",
              "  </tbody>\n",
              "</table>\n",
              "<p>87 rows × 3 columns</p>\n",
              "</div>"
            ],
            "text/plain": [
              "         India  China      US\n",
              "1/22/20      0    548       1\n",
              "1/23/20      0    643       1\n",
              "1/24/20      0    920       2\n",
              "1/25/20      0   1406       2\n",
              "1/26/20      0   2075       5\n",
              "...        ...    ...     ...\n",
              "4/13/20  10453  83213  580619\n",
              "4/14/20  11487  83306  607670\n",
              "4/15/20  12322  83356  636350\n",
              "4/16/20  13430  83403  667801\n",
              "4/17/20  14352  83760  699706\n",
              "\n",
              "[87 rows x 3 columns]"
            ]
          },
          "metadata": {
            "tags": []
          },
          "execution_count": 25
        }
      ]
    },
    {
      "cell_type": "code",
      "metadata": {
        "id": "2ffiA7yFiOQJ",
        "colab_type": "code",
        "colab": {}
      },
      "source": [
        "# from sklearn.preprocessing import MinMaxScaler \n",
        "# scaler=MinMaxScaler()\n",
        "# countries_3_norm = scaler.fit_transform(countries_3)"
      ],
      "execution_count": 0,
      "outputs": []
    },
    {
      "cell_type": "code",
      "metadata": {
        "id": "IjUL2Kd_iOQM",
        "colab_type": "code",
        "colab": {}
      },
      "source": [
        "# countries_3_norm=pd.DataFrame(countries_3_norm)\n",
        "# countries_3_norm.columns=['India','China','US']"
      ],
      "execution_count": 0,
      "outputs": []
    },
    {
      "cell_type": "code",
      "metadata": {
        "id": "ksOGNtxMiOQP",
        "colab_type": "code",
        "colab": {}
      },
      "source": [
        "# countries_3_norm"
      ],
      "execution_count": 0,
      "outputs": []
    },
    {
      "cell_type": "code",
      "metadata": {
        "id": "H5Yn4GIfiOQS",
        "colab_type": "code",
        "colab": {}
      },
      "source": [
        "# countries_3_norm_va=countries_3_norm.values"
      ],
      "execution_count": 0,
      "outputs": []
    },
    {
      "cell_type": "code",
      "metadata": {
        "id": "NvU5SbO9iOQW",
        "colab_type": "code",
        "colab": {}
      },
      "source": [
        "# countries_3_norm_va.shape"
      ],
      "execution_count": 0,
      "outputs": []
    },
    {
      "cell_type": "code",
      "metadata": {
        "id": "_MmeB2OPiOQZ",
        "colab_type": "code",
        "colab": {}
      },
      "source": [
        "# train_va=train.values\n",
        "# test_va=test.values"
      ],
      "execution_count": 0,
      "outputs": []
    },
    {
      "cell_type": "code",
      "metadata": {
        "id": "v9Gf-KoUiOQc",
        "colab_type": "code",
        "colab": {}
      },
      "source": [
        "india1=countries_3.iloc[:,0]"
      ],
      "execution_count": 0,
      "outputs": []
    },
    {
      "cell_type": "code",
      "metadata": {
        "id": "9rtVd20ziOQg",
        "colab_type": "code",
        "colab": {}
      },
      "source": [
        "india1=pd.DataFrame(india1)"
      ],
      "execution_count": 0,
      "outputs": []
    },
    {
      "cell_type": "markdown",
      "metadata": {
        "id": "jJHDXcJ-iOQj",
        "colab_type": "text"
      },
      "source": [
        "##### Creating a separate df for india"
      ]
    },
    {
      "cell_type": "code",
      "metadata": {
        "id": "xMpaJZmwiOQj",
        "colab_type": "code",
        "outputId": "5f2fc59e-9ff4-4cb3-8033-274fc1910cdc",
        "colab": {}
      },
      "source": [
        "india1"
      ],
      "execution_count": 0,
      "outputs": [
        {
          "output_type": "execute_result",
          "data": {
            "text/html": [
              "<div>\n",
              "<style scoped>\n",
              "    .dataframe tbody tr th:only-of-type {\n",
              "        vertical-align: middle;\n",
              "    }\n",
              "\n",
              "    .dataframe tbody tr th {\n",
              "        vertical-align: top;\n",
              "    }\n",
              "\n",
              "    .dataframe thead th {\n",
              "        text-align: right;\n",
              "    }\n",
              "</style>\n",
              "<table border=\"1\" class=\"dataframe\">\n",
              "  <thead>\n",
              "    <tr style=\"text-align: right;\">\n",
              "      <th></th>\n",
              "      <th>India</th>\n",
              "    </tr>\n",
              "  </thead>\n",
              "  <tbody>\n",
              "    <tr>\n",
              "      <th>1/22/20</th>\n",
              "      <td>0</td>\n",
              "    </tr>\n",
              "    <tr>\n",
              "      <th>1/23/20</th>\n",
              "      <td>0</td>\n",
              "    </tr>\n",
              "    <tr>\n",
              "      <th>1/24/20</th>\n",
              "      <td>0</td>\n",
              "    </tr>\n",
              "    <tr>\n",
              "      <th>1/25/20</th>\n",
              "      <td>0</td>\n",
              "    </tr>\n",
              "    <tr>\n",
              "      <th>1/26/20</th>\n",
              "      <td>0</td>\n",
              "    </tr>\n",
              "    <tr>\n",
              "      <th>...</th>\n",
              "      <td>...</td>\n",
              "    </tr>\n",
              "    <tr>\n",
              "      <th>4/13/20</th>\n",
              "      <td>10453</td>\n",
              "    </tr>\n",
              "    <tr>\n",
              "      <th>4/14/20</th>\n",
              "      <td>11487</td>\n",
              "    </tr>\n",
              "    <tr>\n",
              "      <th>4/15/20</th>\n",
              "      <td>12322</td>\n",
              "    </tr>\n",
              "    <tr>\n",
              "      <th>4/16/20</th>\n",
              "      <td>13430</td>\n",
              "    </tr>\n",
              "    <tr>\n",
              "      <th>4/17/20</th>\n",
              "      <td>14352</td>\n",
              "    </tr>\n",
              "  </tbody>\n",
              "</table>\n",
              "<p>87 rows × 1 columns</p>\n",
              "</div>"
            ],
            "text/plain": [
              "         India\n",
              "1/22/20      0\n",
              "1/23/20      0\n",
              "1/24/20      0\n",
              "1/25/20      0\n",
              "1/26/20      0\n",
              "...        ...\n",
              "4/13/20  10453\n",
              "4/14/20  11487\n",
              "4/15/20  12322\n",
              "4/16/20  13430\n",
              "4/17/20  14352\n",
              "\n",
              "[87 rows x 1 columns]"
            ]
          },
          "metadata": {
            "tags": []
          },
          "execution_count": 34
        }
      ]
    },
    {
      "cell_type": "markdown",
      "metadata": {
        "id": "RLqchjdliOQm",
        "colab_type": "text"
      },
      "source": [
        ""
      ]
    },
    {
      "cell_type": "markdown",
      "metadata": {
        "id": "4PiGjYDiiOQn",
        "colab_type": "text"
      },
      "source": [
        "## Normalizing the dataset "
      ]
    },
    {
      "cell_type": "code",
      "metadata": {
        "id": "H3QCjqVtiOQo",
        "colab_type": "code",
        "colab": {}
      },
      "source": [
        "from sklearn.preprocessing import MinMaxScaler \n",
        "scaler1=MinMaxScaler()\n",
        "india1 = scaler1.fit_transform(india1)\n",
        "\n",
        "# # india1=india1/14352"
      ],
      "execution_count": 0,
      "outputs": []
    },
    {
      "cell_type": "code",
      "metadata": {
        "id": "J3fppPstiOQu",
        "colab_type": "code",
        "colab": {}
      },
      "source": [
        "india1=np.array(india1)"
      ],
      "execution_count": 0,
      "outputs": []
    },
    {
      "cell_type": "code",
      "metadata": {
        "id": "0UiRSVemiOQx",
        "colab_type": "code",
        "outputId": "a7999629-70f6-48ec-a6d1-60f0ea61cc45",
        "colab": {}
      },
      "source": [
        "india1.shape"
      ],
      "execution_count": 0,
      "outputs": [
        {
          "output_type": "execute_result",
          "data": {
            "text/plain": [
              "(87, 1)"
            ]
          },
          "metadata": {
            "tags": []
          },
          "execution_count": 37
        }
      ]
    },
    {
      "cell_type": "code",
      "metadata": {
        "id": "vmIYnJdhiOQ0",
        "colab_type": "code",
        "outputId": "16ff4d89-3bf6-4e29-db97-0a90f3d380e8",
        "colab": {}
      },
      "source": [
        "india1"
      ],
      "execution_count": 0,
      "outputs": [
        {
          "output_type": "execute_result",
          "data": {
            "text/plain": [
              "array([[0.00000000e+00],\n",
              "       [0.00000000e+00],\n",
              "       [0.00000000e+00],\n",
              "       [0.00000000e+00],\n",
              "       [0.00000000e+00],\n",
              "       [0.00000000e+00],\n",
              "       [0.00000000e+00],\n",
              "       [0.00000000e+00],\n",
              "       [6.96767001e-05],\n",
              "       [6.96767001e-05],\n",
              "       [6.96767001e-05],\n",
              "       [1.39353400e-04],\n",
              "       [2.09030100e-04],\n",
              "       [2.09030100e-04],\n",
              "       [2.09030100e-04],\n",
              "       [2.09030100e-04],\n",
              "       [2.09030100e-04],\n",
              "       [2.09030100e-04],\n",
              "       [2.09030100e-04],\n",
              "       [2.09030100e-04],\n",
              "       [2.09030100e-04],\n",
              "       [2.09030100e-04],\n",
              "       [2.09030100e-04],\n",
              "       [2.09030100e-04],\n",
              "       [2.09030100e-04],\n",
              "       [2.09030100e-04],\n",
              "       [2.09030100e-04],\n",
              "       [2.09030100e-04],\n",
              "       [2.09030100e-04],\n",
              "       [2.09030100e-04],\n",
              "       [2.09030100e-04],\n",
              "       [2.09030100e-04],\n",
              "       [2.09030100e-04],\n",
              "       [2.09030100e-04],\n",
              "       [2.09030100e-04],\n",
              "       [2.09030100e-04],\n",
              "       [2.09030100e-04],\n",
              "       [2.09030100e-04],\n",
              "       [2.09030100e-04],\n",
              "       [2.09030100e-04],\n",
              "       [3.48383501e-04],\n",
              "       [3.48383501e-04],\n",
              "       [1.95094760e-03],\n",
              "       [2.09030100e-03],\n",
              "       [2.15997770e-03],\n",
              "       [2.36900780e-03],\n",
              "       [2.71739130e-03],\n",
              "       [2.99609810e-03],\n",
              "       [3.90189521e-03],\n",
              "       [4.31995541e-03],\n",
              "       [5.08639911e-03],\n",
              "       [5.71348941e-03],\n",
              "       [7.10702341e-03],\n",
              "       [7.87346711e-03],\n",
              "       [8.29152731e-03],\n",
              "       [9.89409142e-03],\n",
              "       [1.08695652e-02],\n",
              "       [1.35172798e-02],\n",
              "       [1.70011148e-02],\n",
              "       [2.29933110e-02],\n",
              "       [2.75919732e-02],\n",
              "       [3.47686734e-02],\n",
              "       [3.73467113e-02],\n",
              "       [4.57775920e-02],\n",
              "       [5.06549610e-02],\n",
              "       [6.18032330e-02],\n",
              "       [6.87709030e-02],\n",
              "       [7.13489409e-02],\n",
              "       [8.71655518e-02],\n",
              "       [9.73383501e-02],\n",
              "       [1.39214047e-01],\n",
              "       [1.77187848e-01],\n",
              "       [1.78860089e-01],\n",
              "       [2.14743590e-01],\n",
              "       [2.50000000e-01],\n",
              "       [3.32915273e-01],\n",
              "       [3.70052954e-01],\n",
              "       [4.12207358e-01],\n",
              "       [4.68575808e-01],\n",
              "       [5.29403567e-01],\n",
              "       [5.88489409e-01],\n",
              "       [6.41374025e-01],\n",
              "       [7.28330546e-01],\n",
              "       [8.00376254e-01],\n",
              "       [8.58556299e-01],\n",
              "       [9.35758082e-01],\n",
              "       [1.00000000e+00]])"
            ]
          },
          "metadata": {
            "tags": []
          },
          "execution_count": 38
        }
      ]
    },
    {
      "cell_type": "code",
      "metadata": {
        "id": "o9xUqXOciOQ4",
        "colab_type": "code",
        "colab": {}
      },
      "source": [
        "lag = 5\n",
        "#assuming target column is last one\n",
        "X=[ ]\n",
        "Y = [ ]\n",
        "for x in range(lag, len(india1)):\n",
        "    X.append(india1[x-lag:x,:])"
      ],
      "execution_count": 0,
      "outputs": []
    },
    {
      "cell_type": "code",
      "metadata": {
        "id": "Kl20hiHgiOQ7",
        "colab_type": "code",
        "colab": {}
      },
      "source": [
        "X= np.array(X)\n"
      ],
      "execution_count": 0,
      "outputs": []
    },
    {
      "cell_type": "code",
      "metadata": {
        "id": "0P00wbwriOQ_",
        "colab_type": "code",
        "outputId": "3ccda95a-f0b7-4d6c-92a2-0bb5c3c13e9f",
        "colab": {}
      },
      "source": [
        "X.shape"
      ],
      "execution_count": 0,
      "outputs": [
        {
          "output_type": "execute_result",
          "data": {
            "text/plain": [
              "(82, 5, 1)"
            ]
          },
          "metadata": {
            "tags": []
          },
          "execution_count": 41
        }
      ]
    },
    {
      "cell_type": "code",
      "metadata": {
        "id": "cy3GFrZZiORE",
        "colab_type": "code",
        "colab": {}
      },
      "source": [
        "count=5\n",
        "Y=[]\n",
        "# for i in range(0,87,6):\n",
        "while(count<87):\n",
        "    Y.append(india1[count])\n",
        "    count=count+1\n",
        "Y= np.array(Y)\n"
      ],
      "execution_count": 0,
      "outputs": []
    },
    {
      "cell_type": "code",
      "metadata": {
        "id": "S803o9V6iORH",
        "colab_type": "code",
        "outputId": "a0fd5d70-6a7c-4edf-8227-3eb067cce3cf",
        "colab": {}
      },
      "source": [
        "Y.shape"
      ],
      "execution_count": 0,
      "outputs": [
        {
          "output_type": "execute_result",
          "data": {
            "text/plain": [
              "(82, 1)"
            ]
          },
          "metadata": {
            "tags": []
          },
          "execution_count": 43
        }
      ]
    },
    {
      "cell_type": "code",
      "metadata": {
        "id": "BS_n963-iORO",
        "colab_type": "code",
        "outputId": "d0fd6618-ca1f-4e1d-bed0-ad8bf2e36726",
        "colab": {}
      },
      "source": [
        "Y"
      ],
      "execution_count": 0,
      "outputs": [
        {
          "output_type": "execute_result",
          "data": {
            "text/plain": [
              "array([[0.00000000e+00],\n",
              "       [0.00000000e+00],\n",
              "       [0.00000000e+00],\n",
              "       [6.96767001e-05],\n",
              "       [6.96767001e-05],\n",
              "       [6.96767001e-05],\n",
              "       [1.39353400e-04],\n",
              "       [2.09030100e-04],\n",
              "       [2.09030100e-04],\n",
              "       [2.09030100e-04],\n",
              "       [2.09030100e-04],\n",
              "       [2.09030100e-04],\n",
              "       [2.09030100e-04],\n",
              "       [2.09030100e-04],\n",
              "       [2.09030100e-04],\n",
              "       [2.09030100e-04],\n",
              "       [2.09030100e-04],\n",
              "       [2.09030100e-04],\n",
              "       [2.09030100e-04],\n",
              "       [2.09030100e-04],\n",
              "       [2.09030100e-04],\n",
              "       [2.09030100e-04],\n",
              "       [2.09030100e-04],\n",
              "       [2.09030100e-04],\n",
              "       [2.09030100e-04],\n",
              "       [2.09030100e-04],\n",
              "       [2.09030100e-04],\n",
              "       [2.09030100e-04],\n",
              "       [2.09030100e-04],\n",
              "       [2.09030100e-04],\n",
              "       [2.09030100e-04],\n",
              "       [2.09030100e-04],\n",
              "       [2.09030100e-04],\n",
              "       [2.09030100e-04],\n",
              "       [2.09030100e-04],\n",
              "       [3.48383501e-04],\n",
              "       [3.48383501e-04],\n",
              "       [1.95094760e-03],\n",
              "       [2.09030100e-03],\n",
              "       [2.15997770e-03],\n",
              "       [2.36900780e-03],\n",
              "       [2.71739130e-03],\n",
              "       [2.99609810e-03],\n",
              "       [3.90189521e-03],\n",
              "       [4.31995541e-03],\n",
              "       [5.08639911e-03],\n",
              "       [5.71348941e-03],\n",
              "       [7.10702341e-03],\n",
              "       [7.87346711e-03],\n",
              "       [8.29152731e-03],\n",
              "       [9.89409142e-03],\n",
              "       [1.08695652e-02],\n",
              "       [1.35172798e-02],\n",
              "       [1.70011148e-02],\n",
              "       [2.29933110e-02],\n",
              "       [2.75919732e-02],\n",
              "       [3.47686734e-02],\n",
              "       [3.73467113e-02],\n",
              "       [4.57775920e-02],\n",
              "       [5.06549610e-02],\n",
              "       [6.18032330e-02],\n",
              "       [6.87709030e-02],\n",
              "       [7.13489409e-02],\n",
              "       [8.71655518e-02],\n",
              "       [9.73383501e-02],\n",
              "       [1.39214047e-01],\n",
              "       [1.77187848e-01],\n",
              "       [1.78860089e-01],\n",
              "       [2.14743590e-01],\n",
              "       [2.50000000e-01],\n",
              "       [3.32915273e-01],\n",
              "       [3.70052954e-01],\n",
              "       [4.12207358e-01],\n",
              "       [4.68575808e-01],\n",
              "       [5.29403567e-01],\n",
              "       [5.88489409e-01],\n",
              "       [6.41374025e-01],\n",
              "       [7.28330546e-01],\n",
              "       [8.00376254e-01],\n",
              "       [8.58556299e-01],\n",
              "       [9.35758082e-01],\n",
              "       [1.00000000e+00]])"
            ]
          },
          "metadata": {
            "tags": []
          },
          "execution_count": 44
        }
      ]
    },
    {
      "cell_type": "code",
      "metadata": {
        "id": "kVJsn-1biORR",
        "colab_type": "code",
        "outputId": "d61ec674-c6ea-474d-b5be-9265277f91be",
        "colab": {}
      },
      "source": [
        "X"
      ],
      "execution_count": 0,
      "outputs": [
        {
          "output_type": "execute_result",
          "data": {
            "text/plain": [
              "array([[[0.00000000e+00],\n",
              "        [0.00000000e+00],\n",
              "        [0.00000000e+00],\n",
              "        [0.00000000e+00],\n",
              "        [0.00000000e+00]],\n",
              "\n",
              "       [[0.00000000e+00],\n",
              "        [0.00000000e+00],\n",
              "        [0.00000000e+00],\n",
              "        [0.00000000e+00],\n",
              "        [0.00000000e+00]],\n",
              "\n",
              "       [[0.00000000e+00],\n",
              "        [0.00000000e+00],\n",
              "        [0.00000000e+00],\n",
              "        [0.00000000e+00],\n",
              "        [0.00000000e+00]],\n",
              "\n",
              "       [[0.00000000e+00],\n",
              "        [0.00000000e+00],\n",
              "        [0.00000000e+00],\n",
              "        [0.00000000e+00],\n",
              "        [0.00000000e+00]],\n",
              "\n",
              "       [[0.00000000e+00],\n",
              "        [0.00000000e+00],\n",
              "        [0.00000000e+00],\n",
              "        [0.00000000e+00],\n",
              "        [6.96767001e-05]],\n",
              "\n",
              "       [[0.00000000e+00],\n",
              "        [0.00000000e+00],\n",
              "        [0.00000000e+00],\n",
              "        [6.96767001e-05],\n",
              "        [6.96767001e-05]],\n",
              "\n",
              "       [[0.00000000e+00],\n",
              "        [0.00000000e+00],\n",
              "        [6.96767001e-05],\n",
              "        [6.96767001e-05],\n",
              "        [6.96767001e-05]],\n",
              "\n",
              "       [[0.00000000e+00],\n",
              "        [6.96767001e-05],\n",
              "        [6.96767001e-05],\n",
              "        [6.96767001e-05],\n",
              "        [1.39353400e-04]],\n",
              "\n",
              "       [[6.96767001e-05],\n",
              "        [6.96767001e-05],\n",
              "        [6.96767001e-05],\n",
              "        [1.39353400e-04],\n",
              "        [2.09030100e-04]],\n",
              "\n",
              "       [[6.96767001e-05],\n",
              "        [6.96767001e-05],\n",
              "        [1.39353400e-04],\n",
              "        [2.09030100e-04],\n",
              "        [2.09030100e-04]],\n",
              "\n",
              "       [[6.96767001e-05],\n",
              "        [1.39353400e-04],\n",
              "        [2.09030100e-04],\n",
              "        [2.09030100e-04],\n",
              "        [2.09030100e-04]],\n",
              "\n",
              "       [[1.39353400e-04],\n",
              "        [2.09030100e-04],\n",
              "        [2.09030100e-04],\n",
              "        [2.09030100e-04],\n",
              "        [2.09030100e-04]],\n",
              "\n",
              "       [[2.09030100e-04],\n",
              "        [2.09030100e-04],\n",
              "        [2.09030100e-04],\n",
              "        [2.09030100e-04],\n",
              "        [2.09030100e-04]],\n",
              "\n",
              "       [[2.09030100e-04],\n",
              "        [2.09030100e-04],\n",
              "        [2.09030100e-04],\n",
              "        [2.09030100e-04],\n",
              "        [2.09030100e-04]],\n",
              "\n",
              "       [[2.09030100e-04],\n",
              "        [2.09030100e-04],\n",
              "        [2.09030100e-04],\n",
              "        [2.09030100e-04],\n",
              "        [2.09030100e-04]],\n",
              "\n",
              "       [[2.09030100e-04],\n",
              "        [2.09030100e-04],\n",
              "        [2.09030100e-04],\n",
              "        [2.09030100e-04],\n",
              "        [2.09030100e-04]],\n",
              "\n",
              "       [[2.09030100e-04],\n",
              "        [2.09030100e-04],\n",
              "        [2.09030100e-04],\n",
              "        [2.09030100e-04],\n",
              "        [2.09030100e-04]],\n",
              "\n",
              "       [[2.09030100e-04],\n",
              "        [2.09030100e-04],\n",
              "        [2.09030100e-04],\n",
              "        [2.09030100e-04],\n",
              "        [2.09030100e-04]],\n",
              "\n",
              "       [[2.09030100e-04],\n",
              "        [2.09030100e-04],\n",
              "        [2.09030100e-04],\n",
              "        [2.09030100e-04],\n",
              "        [2.09030100e-04]],\n",
              "\n",
              "       [[2.09030100e-04],\n",
              "        [2.09030100e-04],\n",
              "        [2.09030100e-04],\n",
              "        [2.09030100e-04],\n",
              "        [2.09030100e-04]],\n",
              "\n",
              "       [[2.09030100e-04],\n",
              "        [2.09030100e-04],\n",
              "        [2.09030100e-04],\n",
              "        [2.09030100e-04],\n",
              "        [2.09030100e-04]],\n",
              "\n",
              "       [[2.09030100e-04],\n",
              "        [2.09030100e-04],\n",
              "        [2.09030100e-04],\n",
              "        [2.09030100e-04],\n",
              "        [2.09030100e-04]],\n",
              "\n",
              "       [[2.09030100e-04],\n",
              "        [2.09030100e-04],\n",
              "        [2.09030100e-04],\n",
              "        [2.09030100e-04],\n",
              "        [2.09030100e-04]],\n",
              "\n",
              "       [[2.09030100e-04],\n",
              "        [2.09030100e-04],\n",
              "        [2.09030100e-04],\n",
              "        [2.09030100e-04],\n",
              "        [2.09030100e-04]],\n",
              "\n",
              "       [[2.09030100e-04],\n",
              "        [2.09030100e-04],\n",
              "        [2.09030100e-04],\n",
              "        [2.09030100e-04],\n",
              "        [2.09030100e-04]],\n",
              "\n",
              "       [[2.09030100e-04],\n",
              "        [2.09030100e-04],\n",
              "        [2.09030100e-04],\n",
              "        [2.09030100e-04],\n",
              "        [2.09030100e-04]],\n",
              "\n",
              "       [[2.09030100e-04],\n",
              "        [2.09030100e-04],\n",
              "        [2.09030100e-04],\n",
              "        [2.09030100e-04],\n",
              "        [2.09030100e-04]],\n",
              "\n",
              "       [[2.09030100e-04],\n",
              "        [2.09030100e-04],\n",
              "        [2.09030100e-04],\n",
              "        [2.09030100e-04],\n",
              "        [2.09030100e-04]],\n",
              "\n",
              "       [[2.09030100e-04],\n",
              "        [2.09030100e-04],\n",
              "        [2.09030100e-04],\n",
              "        [2.09030100e-04],\n",
              "        [2.09030100e-04]],\n",
              "\n",
              "       [[2.09030100e-04],\n",
              "        [2.09030100e-04],\n",
              "        [2.09030100e-04],\n",
              "        [2.09030100e-04],\n",
              "        [2.09030100e-04]],\n",
              "\n",
              "       [[2.09030100e-04],\n",
              "        [2.09030100e-04],\n",
              "        [2.09030100e-04],\n",
              "        [2.09030100e-04],\n",
              "        [2.09030100e-04]],\n",
              "\n",
              "       [[2.09030100e-04],\n",
              "        [2.09030100e-04],\n",
              "        [2.09030100e-04],\n",
              "        [2.09030100e-04],\n",
              "        [2.09030100e-04]],\n",
              "\n",
              "       [[2.09030100e-04],\n",
              "        [2.09030100e-04],\n",
              "        [2.09030100e-04],\n",
              "        [2.09030100e-04],\n",
              "        [2.09030100e-04]],\n",
              "\n",
              "       [[2.09030100e-04],\n",
              "        [2.09030100e-04],\n",
              "        [2.09030100e-04],\n",
              "        [2.09030100e-04],\n",
              "        [2.09030100e-04]],\n",
              "\n",
              "       [[2.09030100e-04],\n",
              "        [2.09030100e-04],\n",
              "        [2.09030100e-04],\n",
              "        [2.09030100e-04],\n",
              "        [2.09030100e-04]],\n",
              "\n",
              "       [[2.09030100e-04],\n",
              "        [2.09030100e-04],\n",
              "        [2.09030100e-04],\n",
              "        [2.09030100e-04],\n",
              "        [2.09030100e-04]],\n",
              "\n",
              "       [[2.09030100e-04],\n",
              "        [2.09030100e-04],\n",
              "        [2.09030100e-04],\n",
              "        [2.09030100e-04],\n",
              "        [3.48383501e-04]],\n",
              "\n",
              "       [[2.09030100e-04],\n",
              "        [2.09030100e-04],\n",
              "        [2.09030100e-04],\n",
              "        [3.48383501e-04],\n",
              "        [3.48383501e-04]],\n",
              "\n",
              "       [[2.09030100e-04],\n",
              "        [2.09030100e-04],\n",
              "        [3.48383501e-04],\n",
              "        [3.48383501e-04],\n",
              "        [1.95094760e-03]],\n",
              "\n",
              "       [[2.09030100e-04],\n",
              "        [3.48383501e-04],\n",
              "        [3.48383501e-04],\n",
              "        [1.95094760e-03],\n",
              "        [2.09030100e-03]],\n",
              "\n",
              "       [[3.48383501e-04],\n",
              "        [3.48383501e-04],\n",
              "        [1.95094760e-03],\n",
              "        [2.09030100e-03],\n",
              "        [2.15997770e-03]],\n",
              "\n",
              "       [[3.48383501e-04],\n",
              "        [1.95094760e-03],\n",
              "        [2.09030100e-03],\n",
              "        [2.15997770e-03],\n",
              "        [2.36900780e-03]],\n",
              "\n",
              "       [[1.95094760e-03],\n",
              "        [2.09030100e-03],\n",
              "        [2.15997770e-03],\n",
              "        [2.36900780e-03],\n",
              "        [2.71739130e-03]],\n",
              "\n",
              "       [[2.09030100e-03],\n",
              "        [2.15997770e-03],\n",
              "        [2.36900780e-03],\n",
              "        [2.71739130e-03],\n",
              "        [2.99609810e-03]],\n",
              "\n",
              "       [[2.15997770e-03],\n",
              "        [2.36900780e-03],\n",
              "        [2.71739130e-03],\n",
              "        [2.99609810e-03],\n",
              "        [3.90189521e-03]],\n",
              "\n",
              "       [[2.36900780e-03],\n",
              "        [2.71739130e-03],\n",
              "        [2.99609810e-03],\n",
              "        [3.90189521e-03],\n",
              "        [4.31995541e-03]],\n",
              "\n",
              "       [[2.71739130e-03],\n",
              "        [2.99609810e-03],\n",
              "        [3.90189521e-03],\n",
              "        [4.31995541e-03],\n",
              "        [5.08639911e-03]],\n",
              "\n",
              "       [[2.99609810e-03],\n",
              "        [3.90189521e-03],\n",
              "        [4.31995541e-03],\n",
              "        [5.08639911e-03],\n",
              "        [5.71348941e-03]],\n",
              "\n",
              "       [[3.90189521e-03],\n",
              "        [4.31995541e-03],\n",
              "        [5.08639911e-03],\n",
              "        [5.71348941e-03],\n",
              "        [7.10702341e-03]],\n",
              "\n",
              "       [[4.31995541e-03],\n",
              "        [5.08639911e-03],\n",
              "        [5.71348941e-03],\n",
              "        [7.10702341e-03],\n",
              "        [7.87346711e-03]],\n",
              "\n",
              "       [[5.08639911e-03],\n",
              "        [5.71348941e-03],\n",
              "        [7.10702341e-03],\n",
              "        [7.87346711e-03],\n",
              "        [8.29152731e-03]],\n",
              "\n",
              "       [[5.71348941e-03],\n",
              "        [7.10702341e-03],\n",
              "        [7.87346711e-03],\n",
              "        [8.29152731e-03],\n",
              "        [9.89409142e-03]],\n",
              "\n",
              "       [[7.10702341e-03],\n",
              "        [7.87346711e-03],\n",
              "        [8.29152731e-03],\n",
              "        [9.89409142e-03],\n",
              "        [1.08695652e-02]],\n",
              "\n",
              "       [[7.87346711e-03],\n",
              "        [8.29152731e-03],\n",
              "        [9.89409142e-03],\n",
              "        [1.08695652e-02],\n",
              "        [1.35172798e-02]],\n",
              "\n",
              "       [[8.29152731e-03],\n",
              "        [9.89409142e-03],\n",
              "        [1.08695652e-02],\n",
              "        [1.35172798e-02],\n",
              "        [1.70011148e-02]],\n",
              "\n",
              "       [[9.89409142e-03],\n",
              "        [1.08695652e-02],\n",
              "        [1.35172798e-02],\n",
              "        [1.70011148e-02],\n",
              "        [2.29933110e-02]],\n",
              "\n",
              "       [[1.08695652e-02],\n",
              "        [1.35172798e-02],\n",
              "        [1.70011148e-02],\n",
              "        [2.29933110e-02],\n",
              "        [2.75919732e-02]],\n",
              "\n",
              "       [[1.35172798e-02],\n",
              "        [1.70011148e-02],\n",
              "        [2.29933110e-02],\n",
              "        [2.75919732e-02],\n",
              "        [3.47686734e-02]],\n",
              "\n",
              "       [[1.70011148e-02],\n",
              "        [2.29933110e-02],\n",
              "        [2.75919732e-02],\n",
              "        [3.47686734e-02],\n",
              "        [3.73467113e-02]],\n",
              "\n",
              "       [[2.29933110e-02],\n",
              "        [2.75919732e-02],\n",
              "        [3.47686734e-02],\n",
              "        [3.73467113e-02],\n",
              "        [4.57775920e-02]],\n",
              "\n",
              "       [[2.75919732e-02],\n",
              "        [3.47686734e-02],\n",
              "        [3.73467113e-02],\n",
              "        [4.57775920e-02],\n",
              "        [5.06549610e-02]],\n",
              "\n",
              "       [[3.47686734e-02],\n",
              "        [3.73467113e-02],\n",
              "        [4.57775920e-02],\n",
              "        [5.06549610e-02],\n",
              "        [6.18032330e-02]],\n",
              "\n",
              "       [[3.73467113e-02],\n",
              "        [4.57775920e-02],\n",
              "        [5.06549610e-02],\n",
              "        [6.18032330e-02],\n",
              "        [6.87709030e-02]],\n",
              "\n",
              "       [[4.57775920e-02],\n",
              "        [5.06549610e-02],\n",
              "        [6.18032330e-02],\n",
              "        [6.87709030e-02],\n",
              "        [7.13489409e-02]],\n",
              "\n",
              "       [[5.06549610e-02],\n",
              "        [6.18032330e-02],\n",
              "        [6.87709030e-02],\n",
              "        [7.13489409e-02],\n",
              "        [8.71655518e-02]],\n",
              "\n",
              "       [[6.18032330e-02],\n",
              "        [6.87709030e-02],\n",
              "        [7.13489409e-02],\n",
              "        [8.71655518e-02],\n",
              "        [9.73383501e-02]],\n",
              "\n",
              "       [[6.87709030e-02],\n",
              "        [7.13489409e-02],\n",
              "        [8.71655518e-02],\n",
              "        [9.73383501e-02],\n",
              "        [1.39214047e-01]],\n",
              "\n",
              "       [[7.13489409e-02],\n",
              "        [8.71655518e-02],\n",
              "        [9.73383501e-02],\n",
              "        [1.39214047e-01],\n",
              "        [1.77187848e-01]],\n",
              "\n",
              "       [[8.71655518e-02],\n",
              "        [9.73383501e-02],\n",
              "        [1.39214047e-01],\n",
              "        [1.77187848e-01],\n",
              "        [1.78860089e-01]],\n",
              "\n",
              "       [[9.73383501e-02],\n",
              "        [1.39214047e-01],\n",
              "        [1.77187848e-01],\n",
              "        [1.78860089e-01],\n",
              "        [2.14743590e-01]],\n",
              "\n",
              "       [[1.39214047e-01],\n",
              "        [1.77187848e-01],\n",
              "        [1.78860089e-01],\n",
              "        [2.14743590e-01],\n",
              "        [2.50000000e-01]],\n",
              "\n",
              "       [[1.77187848e-01],\n",
              "        [1.78860089e-01],\n",
              "        [2.14743590e-01],\n",
              "        [2.50000000e-01],\n",
              "        [3.32915273e-01]],\n",
              "\n",
              "       [[1.78860089e-01],\n",
              "        [2.14743590e-01],\n",
              "        [2.50000000e-01],\n",
              "        [3.32915273e-01],\n",
              "        [3.70052954e-01]],\n",
              "\n",
              "       [[2.14743590e-01],\n",
              "        [2.50000000e-01],\n",
              "        [3.32915273e-01],\n",
              "        [3.70052954e-01],\n",
              "        [4.12207358e-01]],\n",
              "\n",
              "       [[2.50000000e-01],\n",
              "        [3.32915273e-01],\n",
              "        [3.70052954e-01],\n",
              "        [4.12207358e-01],\n",
              "        [4.68575808e-01]],\n",
              "\n",
              "       [[3.32915273e-01],\n",
              "        [3.70052954e-01],\n",
              "        [4.12207358e-01],\n",
              "        [4.68575808e-01],\n",
              "        [5.29403567e-01]],\n",
              "\n",
              "       [[3.70052954e-01],\n",
              "        [4.12207358e-01],\n",
              "        [4.68575808e-01],\n",
              "        [5.29403567e-01],\n",
              "        [5.88489409e-01]],\n",
              "\n",
              "       [[4.12207358e-01],\n",
              "        [4.68575808e-01],\n",
              "        [5.29403567e-01],\n",
              "        [5.88489409e-01],\n",
              "        [6.41374025e-01]],\n",
              "\n",
              "       [[4.68575808e-01],\n",
              "        [5.29403567e-01],\n",
              "        [5.88489409e-01],\n",
              "        [6.41374025e-01],\n",
              "        [7.28330546e-01]],\n",
              "\n",
              "       [[5.29403567e-01],\n",
              "        [5.88489409e-01],\n",
              "        [6.41374025e-01],\n",
              "        [7.28330546e-01],\n",
              "        [8.00376254e-01]],\n",
              "\n",
              "       [[5.88489409e-01],\n",
              "        [6.41374025e-01],\n",
              "        [7.28330546e-01],\n",
              "        [8.00376254e-01],\n",
              "        [8.58556299e-01]],\n",
              "\n",
              "       [[6.41374025e-01],\n",
              "        [7.28330546e-01],\n",
              "        [8.00376254e-01],\n",
              "        [8.58556299e-01],\n",
              "        [9.35758082e-01]]])"
            ]
          },
          "metadata": {
            "tags": []
          },
          "execution_count": 45
        }
      ]
    },
    {
      "cell_type": "markdown",
      "metadata": {
        "id": "LrRmbxiSiORV",
        "colab_type": "text"
      },
      "source": [
        "##### converting into a single list {target}"
      ]
    },
    {
      "cell_type": "code",
      "metadata": {
        "id": "UpdDcZBViORW",
        "colab_type": "code",
        "colab": {}
      },
      "source": [
        "target=[]\n",
        "for i in range(0,82):\n",
        "    target.append(Y[i][0])"
      ],
      "execution_count": 0,
      "outputs": []
    },
    {
      "cell_type": "code",
      "metadata": {
        "id": "tnplyqpTiORY",
        "colab_type": "code",
        "outputId": "eb98e9ab-3b8a-44aa-a10a-4f508b247155",
        "colab": {}
      },
      "source": [
        "target"
      ],
      "execution_count": 0,
      "outputs": [
        {
          "output_type": "execute_result",
          "data": {
            "text/plain": [
              "[0.0,\n",
              " 0.0,\n",
              " 0.0,\n",
              " 6.967670011148272e-05,\n",
              " 6.967670011148272e-05,\n",
              " 6.967670011148272e-05,\n",
              " 0.00013935340022296544,\n",
              " 0.00020903010033444816,\n",
              " 0.00020903010033444816,\n",
              " 0.00020903010033444816,\n",
              " 0.00020903010033444816,\n",
              " 0.00020903010033444816,\n",
              " 0.00020903010033444816,\n",
              " 0.00020903010033444816,\n",
              " 0.00020903010033444816,\n",
              " 0.00020903010033444816,\n",
              " 0.00020903010033444816,\n",
              " 0.00020903010033444816,\n",
              " 0.00020903010033444816,\n",
              " 0.00020903010033444816,\n",
              " 0.00020903010033444816,\n",
              " 0.00020903010033444816,\n",
              " 0.00020903010033444816,\n",
              " 0.00020903010033444816,\n",
              " 0.00020903010033444816,\n",
              " 0.00020903010033444816,\n",
              " 0.00020903010033444816,\n",
              " 0.00020903010033444816,\n",
              " 0.00020903010033444816,\n",
              " 0.00020903010033444816,\n",
              " 0.00020903010033444816,\n",
              " 0.00020903010033444816,\n",
              " 0.00020903010033444816,\n",
              " 0.00020903010033444816,\n",
              " 0.00020903010033444816,\n",
              " 0.0003483835005574136,\n",
              " 0.0003483835005574136,\n",
              " 0.001950947603121516,\n",
              " 0.0020903010033444815,\n",
              " 0.0021599777034559645,\n",
              " 0.0023690078037904125,\n",
              " 0.002717391304347826,\n",
              " 0.002996098104793757,\n",
              " 0.003901895206243032,\n",
              " 0.004319955406911929,\n",
              " 0.005086399108138238,\n",
              " 0.005713489409141583,\n",
              " 0.007107023411371237,\n",
              " 0.007873467112597548,\n",
              " 0.008291527313266444,\n",
              " 0.009894091415830546,\n",
              " 0.010869565217391304,\n",
              " 0.013517279821627648,\n",
              " 0.017001114827201784,\n",
              " 0.022993311036789296,\n",
              " 0.027591973244147156,\n",
              " 0.03476867335562988,\n",
              " 0.037346711259754736,\n",
              " 0.045777591973244144,\n",
              " 0.050654960981047936,\n",
              " 0.06180323299888517,\n",
              " 0.06877090301003344,\n",
              " 0.0713489409141583,\n",
              " 0.08716555183946488,\n",
              " 0.09733835005574136,\n",
              " 0.13921404682274247,\n",
              " 0.17718784838350055,\n",
              " 0.17886008918617613,\n",
              " 0.21474358974358973,\n",
              " 0.25,\n",
              " 0.33291527313266445,\n",
              " 0.37005295429208473,\n",
              " 0.4122073578595318,\n",
              " 0.4685758082497213,\n",
              " 0.5294035674470458,\n",
              " 0.5884894091415831,\n",
              " 0.6413740245261984,\n",
              " 0.7283305462653289,\n",
              " 0.800376254180602,\n",
              " 0.8585562987736901,\n",
              " 0.9357580824972129,\n",
              " 1.0]"
            ]
          },
          "metadata": {
            "tags": []
          },
          "execution_count": 47
        }
      ]
    },
    {
      "cell_type": "code",
      "metadata": {
        "id": "cZ160PUJiORd",
        "colab_type": "code",
        "colab": {}
      },
      "source": [
        "data=X"
      ],
      "execution_count": 0,
      "outputs": []
    },
    {
      "cell_type": "code",
      "metadata": {
        "id": "A_x4D4XgiORg",
        "colab_type": "code",
        "outputId": "cb074c26-e4b6-4142-b5d7-d2168af37507",
        "colab": {}
      },
      "source": [
        "data.shape"
      ],
      "execution_count": 0,
      "outputs": [
        {
          "output_type": "execute_result",
          "data": {
            "text/plain": [
              "(82, 5, 1)"
            ]
          },
          "metadata": {
            "tags": []
          },
          "execution_count": 49
        }
      ]
    },
    {
      "cell_type": "code",
      "metadata": {
        "id": "NEaAUvRhiORj",
        "colab_type": "code",
        "colab": {}
      },
      "source": [
        "target= np.array(target)\n"
      ],
      "execution_count": 0,
      "outputs": []
    },
    {
      "cell_type": "code",
      "metadata": {
        "id": "vTcbV31biORq",
        "colab_type": "code",
        "outputId": "3c16b60f-433a-4c3b-db90-dbc9fd4c0b53",
        "colab": {}
      },
      "source": [
        "target.shape"
      ],
      "execution_count": 0,
      "outputs": [
        {
          "output_type": "execute_result",
          "data": {
            "text/plain": [
              "(82,)"
            ]
          },
          "metadata": {
            "tags": []
          },
          "execution_count": 51
        }
      ]
    },
    {
      "cell_type": "markdown",
      "metadata": {
        "id": "LwkVtP7XiORy",
        "colab_type": "text"
      },
      "source": [
        "## Target and data contain the normalized values for India."
      ]
    },
    {
      "cell_type": "markdown",
      "metadata": {
        "id": "mnC-Dp6niOR1",
        "colab_type": "text"
      },
      "source": [
        "#### Splitting the dataset"
      ]
    },
    {
      "cell_type": "code",
      "metadata": {
        "id": "kSbr_oAYiOR3",
        "colab_type": "code",
        "colab": {}
      },
      "source": [
        "from sklearn.model_selection import train_test_split\n",
        "xtrain,xtest,ytrain,ytest=train_test_split(data,target,test_size=0.2,random_state=42)"
      ],
      "execution_count": 0,
      "outputs": []
    },
    {
      "cell_type": "code",
      "metadata": {
        "id": "QQKGmV_giOR7",
        "colab_type": "code",
        "outputId": "3dbd55fc-bd05-438f-a593-17514cc2f500",
        "colab": {}
      },
      "source": [
        "xtrain.shape"
      ],
      "execution_count": 0,
      "outputs": [
        {
          "output_type": "execute_result",
          "data": {
            "text/plain": [
              "(65, 5, 1)"
            ]
          },
          "metadata": {
            "tags": []
          },
          "execution_count": 53
        }
      ]
    },
    {
      "cell_type": "code",
      "metadata": {
        "id": "dRF2CB7_iOSD",
        "colab_type": "code",
        "outputId": "a43dbc0f-28ca-4b88-e1f1-f06eceb0aa39",
        "colab": {}
      },
      "source": [
        "ytrain.shape"
      ],
      "execution_count": 0,
      "outputs": [
        {
          "output_type": "execute_result",
          "data": {
            "text/plain": [
              "(65,)"
            ]
          },
          "metadata": {
            "tags": []
          },
          "execution_count": 54
        }
      ]
    },
    {
      "cell_type": "markdown",
      "metadata": {
        "id": "ckc7MuXxiOSG",
        "colab_type": "text"
      },
      "source": [
        "### Importing keras libraries"
      ]
    },
    {
      "cell_type": "code",
      "metadata": {
        "id": "ZDWc5RuGiOSH",
        "colab_type": "code",
        "outputId": "4ab26119-eea8-4412-83ca-7afa6d39508e",
        "colab": {}
      },
      "source": [
        "from keras.models import Sequential\n",
        "from keras.layers import Dense\n",
        "from keras.layers import LSTM\n",
        "\n",
        "model = Sequential()  \n",
        "model.add(LSTM((1),input_shape=(5,1),return_sequences=True))\n",
        "model.add(LSTM((1),return_sequences=False))\n",
        "# model.add(Dense(100))\n",
        "model.compile(loss='mean_absolute_error', optimizer='adam',metrics=['accuracy'])\n"
      ],
      "execution_count": 0,
      "outputs": [
        {
          "output_type": "stream",
          "text": [
            "Using TensorFlow backend.\n"
          ],
          "name": "stderr"
        }
      ]
    },
    {
      "cell_type": "code",
      "metadata": {
        "id": "eMbmzmcUiOSJ",
        "colab_type": "code",
        "outputId": "fc247feb-1fe6-455c-d152-9fa473d0414b",
        "colab": {}
      },
      "source": [
        "model.summary()"
      ],
      "execution_count": 0,
      "outputs": [
        {
          "output_type": "stream",
          "text": [
            "Model: \"sequential_1\"\n",
            "_________________________________________________________________\n",
            "Layer (type)                 Output Shape              Param #   \n",
            "=================================================================\n",
            "lstm_1 (LSTM)                (None, 5, 1)              12        \n",
            "_________________________________________________________________\n",
            "lstm_2 (LSTM)                (None, 1)                 12        \n",
            "=================================================================\n",
            "Total params: 24\n",
            "Trainable params: 24\n",
            "Non-trainable params: 0\n",
            "_________________________________________________________________\n"
          ],
          "name": "stdout"
        }
      ]
    },
    {
      "cell_type": "code",
      "metadata": {
        "id": "et1T7-O9iOSN",
        "colab_type": "code",
        "outputId": "a99578fa-9491-4da5-ea55-defd28a6eb54",
        "colab": {}
      },
      "source": [
        "model.compile(loss='mean_absolute_error', optimizer='adam',metrics=['accuracy'])\n",
        "model.fit(xtrain, ytrain, epochs=50, batch_size=1,validation_data=(xtest, ytest))"
      ],
      "execution_count": 0,
      "outputs": [
        {
          "output_type": "stream",
          "text": [
            "Train on 65 samples, validate on 17 samples\n",
            "Epoch 1/50\n",
            "65/65 [==============================] - 3s 47ms/step - loss: 0.1163 - accuracy: 0.0308 - val_loss: 0.0599 - val_accuracy: 0.0588\n",
            "Epoch 2/50\n",
            "65/65 [==============================] - 1s 13ms/step - loss: 0.1139 - accuracy: 0.0308 - val_loss: 0.0563 - val_accuracy: 0.0588\n",
            "Epoch 3/50\n",
            "65/65 [==============================] - 1s 13ms/step - loss: 0.1109 - accuracy: 0.0308 - val_loss: 0.0554 - val_accuracy: 0.0588\n",
            "Epoch 4/50\n",
            "65/65 [==============================] - 1s 15ms/step - loss: 0.1061 - accuracy: 0.0308 - val_loss: 0.0513 - val_accuracy: 0.0588\n",
            "Epoch 5/50\n",
            "65/65 [==============================] - 1s 14ms/step - loss: 0.0997 - accuracy: 0.0308 - val_loss: 0.0474 - val_accuracy: 0.0588\n",
            "Epoch 6/50\n",
            "65/65 [==============================] - 1s 14ms/step - loss: 0.0908 - accuracy: 0.0308 - val_loss: 0.0436 - val_accuracy: 0.0588\n",
            "Epoch 7/50\n",
            "65/65 [==============================] - 1s 14ms/step - loss: 0.0815 - accuracy: 0.0308 - val_loss: 0.0433 - val_accuracy: 0.0588\n",
            "Epoch 8/50\n",
            "65/65 [==============================] - 1s 14ms/step - loss: 0.0665 - accuracy: 0.0308 - val_loss: 0.0250 - val_accuracy: 0.0588\n",
            "Epoch 9/50\n",
            "65/65 [==============================] - 1s 14ms/step - loss: 0.0506 - accuracy: 0.0462 - val_loss: 0.0196 - val_accuracy: 0.0588\n",
            "Epoch 10/50\n",
            "65/65 [==============================] - 1s 14ms/step - loss: 0.0366 - accuracy: 0.0462 - val_loss: 0.0085 - val_accuracy: 0.0588\n",
            "Epoch 11/50\n",
            "65/65 [==============================] - 1s 14ms/step - loss: 0.0261 - accuracy: 0.0462 - val_loss: 0.0060 - val_accuracy: 0.0588\n",
            "Epoch 12/50\n",
            "65/65 [==============================] - 1s 14ms/step - loss: 0.0258 - accuracy: 0.0462 - val_loss: 0.0111 - val_accuracy: 0.0588\n",
            "Epoch 13/50\n",
            "65/65 [==============================] - 1s 14ms/step - loss: 0.0233 - accuracy: 0.0462 - val_loss: 0.0091 - val_accuracy: 0.0588\n",
            "Epoch 14/50\n",
            "65/65 [==============================] - 1s 14ms/step - loss: 0.0227 - accuracy: 0.0462 - val_loss: 0.0043 - val_accuracy: 0.0588\n",
            "Epoch 15/50\n",
            "65/65 [==============================] - 1s 13ms/step - loss: 0.0222 - accuracy: 0.0462 - val_loss: 0.0043 - val_accuracy: 0.0588\n",
            "Epoch 16/50\n",
            "65/65 [==============================] - 1s 18ms/step - loss: 0.0219 - accuracy: 0.0462 - val_loss: 0.0028 - val_accuracy: 0.0588\n",
            "Epoch 17/50\n",
            "65/65 [==============================] - 1s 14ms/step - loss: 0.0213 - accuracy: 0.0462 - val_loss: 0.0083 - val_accuracy: 0.0588\n",
            "Epoch 18/50\n",
            "65/65 [==============================] - 1s 14ms/step - loss: 0.0211 - accuracy: 0.0462 - val_loss: 0.0024 - val_accuracy: 0.0588\n",
            "Epoch 19/50\n",
            "65/65 [==============================] - 1s 13ms/step - loss: 0.0199 - accuracy: 0.0462 - val_loss: 0.0040 - val_accuracy: 0.0588\n",
            "Epoch 20/50\n",
            "65/65 [==============================] - 1s 13ms/step - loss: 0.0196 - accuracy: 0.0462 - val_loss: 0.0034 - val_accuracy: 0.0588\n",
            "Epoch 21/50\n",
            "65/65 [==============================] - 1s 13ms/step - loss: 0.0202 - accuracy: 0.0462 - val_loss: 0.0047 - val_accuracy: 0.0588\n",
            "Epoch 22/50\n",
            "65/65 [==============================] - 1s 13ms/step - loss: 0.0191 - accuracy: 0.0462 - val_loss: 0.0030 - val_accuracy: 0.0588\n",
            "Epoch 23/50\n",
            "65/65 [==============================] - 1s 14ms/step - loss: 0.0192 - accuracy: 0.0462 - val_loss: 0.0054 - val_accuracy: 0.0588\n",
            "Epoch 24/50\n",
            "65/65 [==============================] - 1s 14ms/step - loss: 0.0194 - accuracy: 0.0462 - val_loss: 0.0039 - val_accuracy: 0.0588\n",
            "Epoch 25/50\n",
            "65/65 [==============================] - 1s 14ms/step - loss: 0.0178 - accuracy: 0.0462 - val_loss: 0.0040 - val_accuracy: 0.0588\n",
            "Epoch 26/50\n",
            "65/65 [==============================] - 1s 14ms/step - loss: 0.0189 - accuracy: 0.0462 - val_loss: 0.0033 - val_accuracy: 0.0588\n",
            "Epoch 27/50\n",
            "65/65 [==============================] - 1s 14ms/step - loss: 0.0172 - accuracy: 0.0462 - val_loss: 0.0039 - val_accuracy: 0.0588\n",
            "Epoch 28/50\n",
            "65/65 [==============================] - 1s 15ms/step - loss: 0.0181 - accuracy: 0.0462 - val_loss: 0.0061 - val_accuracy: 0.0588\n",
            "Epoch 29/50\n",
            "65/65 [==============================] - 1s 14ms/step - loss: 0.0186 - accuracy: 0.0462 - val_loss: 0.0077 - val_accuracy: 0.0588\n",
            "Epoch 30/50\n",
            "65/65 [==============================] - 1s 13ms/step - loss: 0.0174 - accuracy: 0.0462 - val_loss: 0.0034 - val_accuracy: 0.0588\n",
            "Epoch 31/50\n",
            "65/65 [==============================] - 1s 14ms/step - loss: 0.0172 - accuracy: 0.0462 - val_loss: 0.0032 - val_accuracy: 0.0588\n",
            "Epoch 32/50\n",
            "65/65 [==============================] - 1s 13ms/step - loss: 0.0168 - accuracy: 0.0462 - val_loss: 0.0064 - val_accuracy: 0.0588\n",
            "Epoch 33/50\n",
            "65/65 [==============================] - 1s 14ms/step - loss: 0.0174 - accuracy: 0.0462 - val_loss: 0.0043 - val_accuracy: 0.0588\n",
            "Epoch 34/50\n",
            "65/65 [==============================] - 1s 14ms/step - loss: 0.0181 - accuracy: 0.0462 - val_loss: 0.0031 - val_accuracy: 0.0588\n",
            "Epoch 35/50\n",
            "65/65 [==============================] - 1s 13ms/step - loss: 0.0172 - accuracy: 0.0462 - val_loss: 0.0070 - val_accuracy: 0.0588\n",
            "Epoch 36/50\n",
            "65/65 [==============================] - 1s 13ms/step - loss: 0.0165 - accuracy: 0.0462 - val_loss: 0.0035 - val_accuracy: 0.0588\n",
            "Epoch 37/50\n",
            "65/65 [==============================] - 1s 14ms/step - loss: 0.0162 - accuracy: 0.0462 - val_loss: 0.0039 - val_accuracy: 0.0588\n",
            "Epoch 38/50\n",
            "65/65 [==============================] - 1s 14ms/step - loss: 0.0165 - accuracy: 0.0462 - val_loss: 0.0062 - val_accuracy: 0.0588\n",
            "Epoch 39/50\n",
            "65/65 [==============================] - 1s 14ms/step - loss: 0.0161 - accuracy: 0.0462 - val_loss: 0.0061 - val_accuracy: 0.0588\n",
            "Epoch 40/50\n",
            "65/65 [==============================] - 1s 15ms/step - loss: 0.0158 - accuracy: 0.0462 - val_loss: 0.0037 - val_accuracy: 0.0588\n",
            "Epoch 41/50\n",
            "65/65 [==============================] - 1s 14ms/step - loss: 0.0160 - accuracy: 0.0462 - val_loss: 0.0035 - val_accuracy: 0.0588\n",
            "Epoch 42/50\n",
            "65/65 [==============================] - 1s 14ms/step - loss: 0.0163 - accuracy: 0.0462 - val_loss: 0.0037 - val_accuracy: 0.0588\n",
            "Epoch 43/50\n",
            "65/65 [==============================] - 1s 14ms/step - loss: 0.0156 - accuracy: 0.0462 - val_loss: 0.0041 - val_accuracy: 0.0588\n",
            "Epoch 44/50\n",
            "65/65 [==============================] - 1s 14ms/step - loss: 0.0152 - accuracy: 0.0462 - val_loss: 0.0084 - val_accuracy: 0.0588\n",
            "Epoch 45/50\n",
            "65/65 [==============================] - 1s 13ms/step - loss: 0.0168 - accuracy: 0.0462 - val_loss: 0.0053 - val_accuracy: 0.0588\n",
            "Epoch 46/50\n",
            "65/65 [==============================] - 1s 13ms/step - loss: 0.0164 - accuracy: 0.0462 - val_loss: 0.0052 - val_accuracy: 0.0588\n",
            "Epoch 47/50\n",
            "65/65 [==============================] - 1s 14ms/step - loss: 0.0171 - accuracy: 0.0462 - val_loss: 0.0057 - val_accuracy: 0.0588\n",
            "Epoch 48/50\n",
            "65/65 [==============================] - 1s 14ms/step - loss: 0.0150 - accuracy: 0.0462 - val_loss: 0.0050 - val_accuracy: 0.0588\n",
            "Epoch 49/50\n",
            "65/65 [==============================] - 1s 14ms/step - loss: 0.0151 - accuracy: 0.0462 - val_loss: 0.0060 - val_accuracy: 0.0588\n",
            "Epoch 50/50\n",
            "65/65 [==============================] - 1s 13ms/step - loss: 0.0157 - accuracy: 0.0462 - val_loss: 0.0068 - val_accuracy: 0.0588\n"
          ],
          "name": "stdout"
        },
        {
          "output_type": "execute_result",
          "data": {
            "text/plain": [
              "<keras.callbacks.callbacks.History at 0x7fa2d804af98>"
            ]
          },
          "metadata": {
            "tags": []
          },
          "execution_count": 57
        }
      ]
    },
    {
      "cell_type": "code",
      "metadata": {
        "id": "nAZo-xNFiOSU",
        "colab_type": "code",
        "colab": {}
      },
      "source": [
        "predict = model.predict(xtest)"
      ],
      "execution_count": 0,
      "outputs": []
    },
    {
      "cell_type": "code",
      "metadata": {
        "id": "-NhavHmPiOSY",
        "colab_type": "code",
        "outputId": "be59301e-2470-4669-db97-31c04269cbb4",
        "colab": {}
      },
      "source": [
        "predict"
      ],
      "execution_count": 0,
      "outputs": [
        {
          "output_type": "execute_result",
          "data": {
            "text/plain": [
              "array([[0.00353347],\n",
              "       [0.00324986],\n",
              "       [0.00353347],\n",
              "       [0.00353347],\n",
              "       [0.00353347],\n",
              "       [0.00353347],\n",
              "       [0.00345128],\n",
              "       [0.016184  ],\n",
              "       [0.00325773],\n",
              "       [0.00353347],\n",
              "       [0.01083486],\n",
              "       [0.00353347],\n",
              "       [0.21485887],\n",
              "       [0.00353347],\n",
              "       [0.2653449 ],\n",
              "       [0.00731976],\n",
              "       [0.646473  ]], dtype=float32)"
            ]
          },
          "metadata": {
            "tags": []
          },
          "execution_count": 59
        }
      ]
    },
    {
      "cell_type": "code",
      "metadata": {
        "id": "b2UB4jjUiOSb",
        "colab_type": "code",
        "outputId": "01df05d0-118e-4c05-d7be-cbb974aa8346",
        "colab": {}
      },
      "source": [
        "ytest"
      ],
      "execution_count": 0,
      "outputs": [
        {
          "output_type": "execute_result",
          "data": {
            "text/plain": [
              "array([2.09030100e-04, 0.00000000e+00, 2.09030100e-04, 2.09030100e-04,\n",
              "       2.09030100e-04, 2.09030100e-04, 2.09030100e-04, 1.70011148e-02,\n",
              "       6.96767001e-05, 2.09030100e-04, 8.29152731e-03, 2.09030100e-04,\n",
              "       2.14743590e-01, 3.48383501e-04, 2.50000000e-01, 5.08639911e-03,\n",
              "       5.88489409e-01])"
            ]
          },
          "metadata": {
            "tags": []
          },
          "execution_count": 60
        }
      ]
    },
    {
      "cell_type": "code",
      "metadata": {
        "id": "OisOuGzUiOSh",
        "colab_type": "code",
        "outputId": "e9506976-be81-4935-c7be-4433ffcdf8b1",
        "colab": {}
      },
      "source": [
        "predict.shape"
      ],
      "execution_count": 0,
      "outputs": [
        {
          "output_type": "execute_result",
          "data": {
            "text/plain": [
              "(17, 1)"
            ]
          },
          "metadata": {
            "tags": []
          },
          "execution_count": 61
        }
      ]
    },
    {
      "cell_type": "code",
      "metadata": {
        "id": "Nn8m08H1iOSj",
        "colab_type": "code",
        "outputId": "ada1ff9a-b4c9-4651-9bc3-640898dc08ee",
        "colab": {}
      },
      "source": [
        "ytest.shape"
      ],
      "execution_count": 0,
      "outputs": [
        {
          "output_type": "execute_result",
          "data": {
            "text/plain": [
              "(17,)"
            ]
          },
          "metadata": {
            "tags": []
          },
          "execution_count": 62
        }
      ]
    },
    {
      "cell_type": "code",
      "metadata": {
        "id": "DZ5EulWIiOSl",
        "colab_type": "code",
        "outputId": "fd8b3ca1-efa6-4d2c-dd63-5677f557abf4",
        "colab": {}
      },
      "source": [
        "plt.plot(range(17),predict,c='r')\n",
        "plt.plot(range(17),ytest,c='g')\n",
        "plt.show()"
      ],
      "execution_count": 0,
      "outputs": [
        {
          "output_type": "display_data",
          "data": {
            "image/png": "[encoded data removed]",
            "text/plain": [
              "<Figure size 432x288 with 1 Axes>"
            ]
          },
          "metadata": {
            "tags": []
          }
        }
      ]
    },
    {
      "cell_type": "markdown",
      "metadata": {
        "id": "5uIhmST7iOSo",
        "colab_type": "text"
      },
      "source": [
        "### Now We will be Moving to our main objective of visualizations to see the patterns betwen the Confirmed cases and the fluctuations in the stock indexes of U.S, China and India."
      ]
    },
    {
      "cell_type": "markdown",
      "metadata": {
        "id": "izQzGJdLiOSo",
        "colab_type": "text"
      },
      "source": [
        "# Visualizations"
      ]
    },
    {
      "cell_type": "code",
      "metadata": {
        "id": "K7B-9PKCiOSp",
        "colab_type": "code",
        "outputId": "62c99838-2a43-480c-81d2-5728e9b8f44a",
        "colab": {}
      },
      "source": [
        "countries_3"
      ],
      "execution_count": 0,
      "outputs": [
        {
          "output_type": "execute_result",
          "data": {
            "text/html": [
              "<div>\n",
              "<style scoped>\n",
              "    .dataframe tbody tr th:only-of-type {\n",
              "        vertical-align: middle;\n",
              "    }\n",
              "\n",
              "    .dataframe tbody tr th {\n",
              "        vertical-align: top;\n",
              "    }\n",
              "\n",
              "    .dataframe thead th {\n",
              "        text-align: right;\n",
              "    }\n",
              "</style>\n",
              "<table border=\"1\" class=\"dataframe\">\n",
              "  <thead>\n",
              "    <tr style=\"text-align: right;\">\n",
              "      <th></th>\n",
              "      <th>India</th>\n",
              "      <th>China</th>\n",
              "      <th>US</th>\n",
              "    </tr>\n",
              "  </thead>\n",
              "  <tbody>\n",
              "    <tr>\n",
              "      <th>1/22/20</th>\n",
              "      <td>0</td>\n",
              "      <td>548</td>\n",
              "      <td>1</td>\n",
              "    </tr>\n",
              "    <tr>\n",
              "      <th>1/23/20</th>\n",
              "      <td>0</td>\n",
              "      <td>643</td>\n",
              "      <td>1</td>\n",
              "    </tr>\n",
              "    <tr>\n",
              "      <th>1/24/20</th>\n",
              "      <td>0</td>\n",
              "      <td>920</td>\n",
              "      <td>2</td>\n",
              "    </tr>\n",
              "    <tr>\n",
              "      <th>1/25/20</th>\n",
              "      <td>0</td>\n",
              "      <td>1406</td>\n",
              "      <td>2</td>\n",
              "    </tr>\n",
              "    <tr>\n",
              "      <th>1/26/20</th>\n",
              "      <td>0</td>\n",
              "      <td>2075</td>\n",
              "      <td>5</td>\n",
              "    </tr>\n",
              "    <tr>\n",
              "      <th>...</th>\n",
              "      <td>...</td>\n",
              "      <td>...</td>\n",
              "      <td>...</td>\n",
              "    </tr>\n",
              "    <tr>\n",
              "      <th>4/13/20</th>\n",
              "      <td>10453</td>\n",
              "      <td>83213</td>\n",
              "      <td>580619</td>\n",
              "    </tr>\n",
              "    <tr>\n",
              "      <th>4/14/20</th>\n",
              "      <td>11487</td>\n",
              "      <td>83306</td>\n",
              "      <td>607670</td>\n",
              "    </tr>\n",
              "    <tr>\n",
              "      <th>4/15/20</th>\n",
              "      <td>12322</td>\n",
              "      <td>83356</td>\n",
              "      <td>636350</td>\n",
              "    </tr>\n",
              "    <tr>\n",
              "      <th>4/16/20</th>\n",
              "      <td>13430</td>\n",
              "      <td>83403</td>\n",
              "      <td>667801</td>\n",
              "    </tr>\n",
              "    <tr>\n",
              "      <th>4/17/20</th>\n",
              "      <td>14352</td>\n",
              "      <td>83760</td>\n",
              "      <td>699706</td>\n",
              "    </tr>\n",
              "  </tbody>\n",
              "</table>\n",
              "<p>87 rows × 3 columns</p>\n",
              "</div>"
            ],
            "text/plain": [
              "         India  China      US\n",
              "1/22/20      0    548       1\n",
              "1/23/20      0    643       1\n",
              "1/24/20      0    920       2\n",
              "1/25/20      0   1406       2\n",
              "1/26/20      0   2075       5\n",
              "...        ...    ...     ...\n",
              "4/13/20  10453  83213  580619\n",
              "4/14/20  11487  83306  607670\n",
              "4/15/20  12322  83356  636350\n",
              "4/16/20  13430  83403  667801\n",
              "4/17/20  14352  83760  699706\n",
              "\n",
              "[87 rows x 3 columns]"
            ]
          },
          "metadata": {
            "tags": []
          },
          "execution_count": 64
        }
      ]
    },
    {
      "cell_type": "code",
      "metadata": {
        "id": "aCPHY93JiOSr",
        "colab_type": "code",
        "colab": {}
      },
      "source": [
        "countries_3_update=countries_3.reset_index(drop=False)"
      ],
      "execution_count": 0,
      "outputs": []
    },
    {
      "cell_type": "code",
      "metadata": {
        "id": "BYWAjaFniOSt",
        "colab_type": "code",
        "outputId": "61dfd3de-7c23-4a73-d0f2-5938778445b4",
        "colab": {}
      },
      "source": [
        "countries_3_update"
      ],
      "execution_count": 0,
      "outputs": [
        {
          "output_type": "execute_result",
          "data": {
            "text/html": [
              "<div>\n",
              "<style scoped>\n",
              "    .dataframe tbody tr th:only-of-type {\n",
              "        vertical-align: middle;\n",
              "    }\n",
              "\n",
              "    .dataframe tbody tr th {\n",
              "        vertical-align: top;\n",
              "    }\n",
              "\n",
              "    .dataframe thead th {\n",
              "        text-align: right;\n",
              "    }\n",
              "</style>\n",
              "<table border=\"1\" class=\"dataframe\">\n",
              "  <thead>\n",
              "    <tr style=\"text-align: right;\">\n",
              "      <th></th>\n",
              "      <th>index</th>\n",
              "      <th>India</th>\n",
              "      <th>China</th>\n",
              "      <th>US</th>\n",
              "    </tr>\n",
              "  </thead>\n",
              "  <tbody>\n",
              "    <tr>\n",
              "      <th>0</th>\n",
              "      <td>1/22/20</td>\n",
              "      <td>0</td>\n",
              "      <td>548</td>\n",
              "      <td>1</td>\n",
              "    </tr>\n",
              "    <tr>\n",
              "      <th>1</th>\n",
              "      <td>1/23/20</td>\n",
              "      <td>0</td>\n",
              "      <td>643</td>\n",
              "      <td>1</td>\n",
              "    </tr>\n",
              "    <tr>\n",
              "      <th>2</th>\n",
              "      <td>1/24/20</td>\n",
              "      <td>0</td>\n",
              "      <td>920</td>\n",
              "      <td>2</td>\n",
              "    </tr>\n",
              "    <tr>\n",
              "      <th>3</th>\n",
              "      <td>1/25/20</td>\n",
              "      <td>0</td>\n",
              "      <td>1406</td>\n",
              "      <td>2</td>\n",
              "    </tr>\n",
              "    <tr>\n",
              "      <th>4</th>\n",
              "      <td>1/26/20</td>\n",
              "      <td>0</td>\n",
              "      <td>2075</td>\n",
              "      <td>5</td>\n",
              "    </tr>\n",
              "    <tr>\n",
              "      <th>...</th>\n",
              "      <td>...</td>\n",
              "      <td>...</td>\n",
              "      <td>...</td>\n",
              "      <td>...</td>\n",
              "    </tr>\n",
              "    <tr>\n",
              "      <th>82</th>\n",
              "      <td>4/13/20</td>\n",
              "      <td>10453</td>\n",
              "      <td>83213</td>\n",
              "      <td>580619</td>\n",
              "    </tr>\n",
              "    <tr>\n",
              "      <th>83</th>\n",
              "      <td>4/14/20</td>\n",
              "      <td>11487</td>\n",
              "      <td>83306</td>\n",
              "      <td>607670</td>\n",
              "    </tr>\n",
              "    <tr>\n",
              "      <th>84</th>\n",
              "      <td>4/15/20</td>\n",
              "      <td>12322</td>\n",
              "      <td>83356</td>\n",
              "      <td>636350</td>\n",
              "    </tr>\n",
              "    <tr>\n",
              "      <th>85</th>\n",
              "      <td>4/16/20</td>\n",
              "      <td>13430</td>\n",
              "      <td>83403</td>\n",
              "      <td>667801</td>\n",
              "    </tr>\n",
              "    <tr>\n",
              "      <th>86</th>\n",
              "      <td>4/17/20</td>\n",
              "      <td>14352</td>\n",
              "      <td>83760</td>\n",
              "      <td>699706</td>\n",
              "    </tr>\n",
              "  </tbody>\n",
              "</table>\n",
              "<p>87 rows × 4 columns</p>\n",
              "</div>"
            ],
            "text/plain": [
              "      index  India  China      US\n",
              "0   1/22/20      0    548       1\n",
              "1   1/23/20      0    643       1\n",
              "2   1/24/20      0    920       2\n",
              "3   1/25/20      0   1406       2\n",
              "4   1/26/20      0   2075       5\n",
              "..      ...    ...    ...     ...\n",
              "82  4/13/20  10453  83213  580619\n",
              "83  4/14/20  11487  83306  607670\n",
              "84  4/15/20  12322  83356  636350\n",
              "85  4/16/20  13430  83403  667801\n",
              "86  4/17/20  14352  83760  699706\n",
              "\n",
              "[87 rows x 4 columns]"
            ]
          },
          "metadata": {
            "tags": []
          },
          "execution_count": 66
        }
      ]
    },
    {
      "cell_type": "code",
      "metadata": {
        "id": "U_KSJs8KiOSv",
        "colab_type": "code",
        "colab": {}
      },
      "source": [
        "countries_3_update=countries_3_update.rename(columns={\"index\": \"Dates\"})"
      ],
      "execution_count": 0,
      "outputs": []
    },
    {
      "cell_type": "markdown",
      "metadata": {
        "id": "KhdJllqkiOS1",
        "colab_type": "text"
      },
      "source": [
        "## Loading stocks data"
      ]
    },
    {
      "cell_type": "code",
      "metadata": {
        "id": "5OWgtjuWiOS1",
        "colab_type": "code",
        "colab": {}
      },
      "source": [
        "gspc=\"/kaggle/input/stock-history/GSPC.csv\"\n",
        "gspc = pd.read_csv(gspc)\n",
        "\n",
        "nifty=\"/kaggle/input/stock-history/NSEI.csv\"\n",
        "nifty = pd.read_csv(nifty)\n",
        "\n",
        "shanghai_composite=\"/kaggle/input/stock-history/000001.SS (2).csv\"\n",
        "shanghai_composite= pd.read_csv(shanghai_composite)"
      ],
      "execution_count": 0,
      "outputs": []
    },
    {
      "cell_type": "code",
      "metadata": {
        "id": "_HgCLK3aiOS3",
        "colab_type": "code",
        "outputId": "1466ad64-cd41-4ccb-bd74-344a98824eff",
        "colab": {}
      },
      "source": [
        "countries_3_update"
      ],
      "execution_count": 0,
      "outputs": [
        {
          "output_type": "execute_result",
          "data": {
            "text/html": [
              "<div>\n",
              "<style scoped>\n",
              "    .dataframe tbody tr th:only-of-type {\n",
              "        vertical-align: middle;\n",
              "    }\n",
              "\n",
              "    .dataframe tbody tr th {\n",
              "        vertical-align: top;\n",
              "    }\n",
              "\n",
              "    .dataframe thead th {\n",
              "        text-align: right;\n",
              "    }\n",
              "</style>\n",
              "<table border=\"1\" class=\"dataframe\">\n",
              "  <thead>\n",
              "    <tr style=\"text-align: right;\">\n",
              "      <th></th>\n",
              "      <th>Dates</th>\n",
              "      <th>India</th>\n",
              "      <th>China</th>\n",
              "      <th>US</th>\n",
              "    </tr>\n",
              "  </thead>\n",
              "  <tbody>\n",
              "    <tr>\n",
              "      <th>0</th>\n",
              "      <td>1/22/20</td>\n",
              "      <td>0</td>\n",
              "      <td>548</td>\n",
              "      <td>1</td>\n",
              "    </tr>\n",
              "    <tr>\n",
              "      <th>1</th>\n",
              "      <td>1/23/20</td>\n",
              "      <td>0</td>\n",
              "      <td>643</td>\n",
              "      <td>1</td>\n",
              "    </tr>\n",
              "    <tr>\n",
              "      <th>2</th>\n",
              "      <td>1/24/20</td>\n",
              "      <td>0</td>\n",
              "      <td>920</td>\n",
              "      <td>2</td>\n",
              "    </tr>\n",
              "    <tr>\n",
              "      <th>3</th>\n",
              "      <td>1/25/20</td>\n",
              "      <td>0</td>\n",
              "      <td>1406</td>\n",
              "      <td>2</td>\n",
              "    </tr>\n",
              "    <tr>\n",
              "      <th>4</th>\n",
              "      <td>1/26/20</td>\n",
              "      <td>0</td>\n",
              "      <td>2075</td>\n",
              "      <td>5</td>\n",
              "    </tr>\n",
              "    <tr>\n",
              "      <th>...</th>\n",
              "      <td>...</td>\n",
              "      <td>...</td>\n",
              "      <td>...</td>\n",
              "      <td>...</td>\n",
              "    </tr>\n",
              "    <tr>\n",
              "      <th>82</th>\n",
              "      <td>4/13/20</td>\n",
              "      <td>10453</td>\n",
              "      <td>83213</td>\n",
              "      <td>580619</td>\n",
              "    </tr>\n",
              "    <tr>\n",
              "      <th>83</th>\n",
              "      <td>4/14/20</td>\n",
              "      <td>11487</td>\n",
              "      <td>83306</td>\n",
              "      <td>607670</td>\n",
              "    </tr>\n",
              "    <tr>\n",
              "      <th>84</th>\n",
              "      <td>4/15/20</td>\n",
              "      <td>12322</td>\n",
              "      <td>83356</td>\n",
              "      <td>636350</td>\n",
              "    </tr>\n",
              "    <tr>\n",
              "      <th>85</th>\n",
              "      <td>4/16/20</td>\n",
              "      <td>13430</td>\n",
              "      <td>83403</td>\n",
              "      <td>667801</td>\n",
              "    </tr>\n",
              "    <tr>\n",
              "      <th>86</th>\n",
              "      <td>4/17/20</td>\n",
              "      <td>14352</td>\n",
              "      <td>83760</td>\n",
              "      <td>699706</td>\n",
              "    </tr>\n",
              "  </tbody>\n",
              "</table>\n",
              "<p>87 rows × 4 columns</p>\n",
              "</div>"
            ],
            "text/plain": [
              "      Dates  India  China      US\n",
              "0   1/22/20      0    548       1\n",
              "1   1/23/20      0    643       1\n",
              "2   1/24/20      0    920       2\n",
              "3   1/25/20      0   1406       2\n",
              "4   1/26/20      0   2075       5\n",
              "..      ...    ...    ...     ...\n",
              "82  4/13/20  10453  83213  580619\n",
              "83  4/14/20  11487  83306  607670\n",
              "84  4/15/20  12322  83356  636350\n",
              "85  4/16/20  13430  83403  667801\n",
              "86  4/17/20  14352  83760  699706\n",
              "\n",
              "[87 rows x 4 columns]"
            ]
          },
          "metadata": {
            "tags": []
          },
          "execution_count": 69
        }
      ]
    },
    {
      "cell_type": "markdown",
      "metadata": {
        "id": "VVgwtCvKiOS6",
        "colab_type": "text"
      },
      "source": [
        "## India confirmed cases--"
      ]
    },
    {
      "cell_type": "code",
      "metadata": {
        "id": "Cb2RbKwziOS7",
        "colab_type": "code",
        "outputId": "5e3ec529-4d44-4d6a-9f4f-1fdf52a676a3",
        "colab": {}
      },
      "source": [
        "import plotly.express as ax\n",
        "fig = ax.bar(countries_3_update, x='Dates', y='India', title='India: Confirmed Cases')\n",
        "fig.show()"
      ],
      "execution_count": 0,
      "outputs": [
        {
          "output_type": "display_data",
          "data": {
            "text/html": [
              "        <script type=\"text/javascript\">\n",
              "        window.PlotlyConfig = {MathJaxConfig: 'local'};\n",
              "        if (window.MathJax) {MathJax.Hub.Config({SVG: {font: \"STIX-Web\"}});}\n",
              "        if (typeof require !== 'undefined') {\n",
              "        require.undef(\"plotly\");\n",
              "        requirejs.config({\n",
              "            paths: {\n",
              "                'plotly': ['https://cdn.plot.ly/plotly-latest.min']\n",
              "            }\n",
              "        });\n",
              "        require(['plotly'], function(Plotly) {\n",
              "            window._Plotly = Plotly;\n",
              "        });\n",
              "        }\n",
              "        </script>\n",
              "        "
            ]
          },
          "metadata": {
            "tags": []
          }
        },
        {
          "output_type": "display_data",
          "data": {
            "text/html": [
              "<div>\n",
              "        \n",
              "        \n",
              "            <div id=\"f85b4679-65e5-4913-a99a-9a401d5d3fb3\" class=\"plotly-graph-div\" style=\"height:525px; width:100%;\"></div>\n",
              "            <script type=\"text/javascript\">\n",
              "                require([\"plotly\"], function(Plotly) {\n",
              "                    window.PLOTLYENV=window.PLOTLYENV || {};\n",
              "                    \n",
              "                if (document.getElementById(\"f85b4679-65e5-4913-a99a-9a401d5d3fb3\")) {\n",
              "                    Plotly.newPlot(\n",
              "                        'f85b4679-65e5-4913-a99a-9a401d5d3fb3',\n",
              "                        [{\"alignmentgroup\": \"True\", \"hoverlabel\": {\"namelength\": 0}, \"hovertemplate\": \"Dates=%{x}<br>India=%{y}\", \"legendgroup\": \"\", \"marker\": {\"color\": \"#636efa\"}, \"name\": \"\", \"offsetgroup\": \"\", \"orientation\": \"v\", \"showlegend\": false, \"textposition\": \"auto\", \"type\": \"bar\", \"x\": [\"1/22/20\", \"1/23/20\", \"1/24/20\", \"1/25/20\", \"1/26/20\", \"1/27/20\", \"1/28/20\", \"1/29/20\", \"1/30/20\", \"1/31/20\", \"2/1/20\", \"2/2/20\", \"2/3/20\", \"2/4/20\", \"2/5/20\", \"2/6/20\", \"2/7/20\", \"2/8/20\", \"2/9/20\", \"2/10/20\", \"2/11/20\", \"2/12/20\", \"2/13/20\", \"2/14/20\", \"2/15/20\", \"2/16/20\", \"2/17/20\", \"2/18/20\", \"2/19/20\", \"2/20/20\", \"2/21/20\", \"2/22/20\", \"2/23/20\", \"2/24/20\", \"2/25/20\", \"2/26/20\", \"2/27/20\", \"2/28/20\", \"2/29/20\", \"3/1/20\", \"3/2/20\", \"3/3/20\", \"3/4/20\", \"3/5/20\", \"3/6/20\", \"3/7/20\", \"3/8/20\", \"3/9/20\", \"3/10/20\", \"3/11/20\", \"3/12/20\", \"3/13/20\", \"3/14/20\", \"3/15/20\", \"3/16/20\", \"3/17/20\", \"3/18/20\", \"3/19/20\", \"3/20/20\", \"3/21/20\", \"3/22/20\", \"3/23/20\", \"3/24/20\", \"3/25/20\", \"3/26/20\", \"3/27/20\", \"3/28/20\", \"3/29/20\", \"3/30/20\", \"3/31/20\", \"4/1/20\", \"4/2/20\", \"4/3/20\", \"4/4/20\", \"4/5/20\", \"4/6/20\", \"4/7/20\", \"4/8/20\", \"4/9/20\", \"4/10/20\", \"4/11/20\", \"4/12/20\", \"4/13/20\", \"4/14/20\", \"4/15/20\", \"4/16/20\", \"4/17/20\"], \"xaxis\": \"x\", \"y\": [0, 0, 0, 0, 0, 0, 0, 0, 1, 1, 1, 2, 3, 3, 3, 3, 3, 3, 3, 3, 3, 3, 3, 3, 3, 3, 3, 3, 3, 3, 3, 3, 3, 3, 3, 3, 3, 3, 3, 3, 5, 5, 28, 30, 31, 34, 39, 43, 56, 62, 73, 82, 102, 113, 119, 142, 156, 194, 244, 330, 396, 499, 536, 657, 727, 887, 987, 1024, 1251, 1397, 1998, 2543, 2567, 3082, 3588, 4778, 5311, 5916, 6725, 7598, 8446, 9205, 10453, 11487, 12322, 13430, 14352], \"yaxis\": \"y\"}],\n",
              "                        {\"barmode\": \"relative\", \"legend\": {\"tracegroupgap\": 0}, \"template\": {\"data\": {\"bar\": [{\"error_x\": {\"color\": \"#2a3f5f\"}, \"error_y\": {\"color\": \"#2a3f5f\"}, \"marker\": {\"line\": {\"color\": \"#E5ECF6\", \"width\": 0.5}}, \"type\": \"bar\"}], \"barpolar\": [{\"marker\": {\"line\": {\"color\": \"#E5ECF6\", \"width\": 0.5}}, \"type\": \"barpolar\"}], \"carpet\": [{\"aaxis\": {\"endlinecolor\": \"#2a3f5f\", \"gridcolor\": \"white\", \"linecolor\": \"white\", \"minorgridcolor\": \"white\", \"startlinecolor\": \"#2a3f5f\"}, \"baxis\": {\"endlinecolor\": \"#2a3f5f\", \"gridcolor\": \"white\", \"linecolor\": \"white\", \"minorgridcolor\": \"white\", \"startlinecolor\": \"#2a3f5f\"}, \"type\": \"carpet\"}], \"choropleth\": [{\"colorbar\": {\"outlinewidth\": 0, \"ticks\": \"\"}, \"type\": \"choropleth\"}], \"contour\": [{\"colorbar\": {\"outlinewidth\": 0, \"ticks\": \"\"}, \"colorscale\": [[0.0, \"#0d0887\"], [0.1111111111111111, \"#46039f\"], [0.2222222222222222, \"#7201a8\"], [0.3333333333333333, \"#9c179e\"], [0.4444444444444444, \"#bd3786\"], [0.5555555555555556, \"#d8576b\"], [0.6666666666666666, \"#ed7953\"], [0.7777777777777778, \"#fb9f3a\"], [0.8888888888888888, \"#fdca26\"], [1.0, \"#f0f921\"]], \"type\": \"contour\"}], \"contourcarpet\": [{\"colorbar\": {\"outlinewidth\": 0, \"ticks\": \"\"}, \"type\": \"contourcarpet\"}], \"heatmap\": [{\"colorbar\": {\"outlinewidth\": 0, \"ticks\": \"\"}, \"colorscale\": [[0.0, \"#0d0887\"], [0.1111111111111111, \"#46039f\"], [0.2222222222222222, \"#7201a8\"], [0.3333333333333333, \"#9c179e\"], [0.4444444444444444, \"#bd3786\"], [0.5555555555555556, \"#d8576b\"], [0.6666666666666666, \"#ed7953\"], [0.7777777777777778, \"#fb9f3a\"], [0.8888888888888888, \"#fdca26\"], [1.0, \"#f0f921\"]], \"type\": \"heatmap\"}], \"heatmapgl\": [{\"colorbar\": {\"outlinewidth\": 0, \"ticks\": \"\"}, \"colorscale\": [[0.0, \"#0d0887\"], [0.1111111111111111, \"#46039f\"], [0.2222222222222222, \"#7201a8\"], [0.3333333333333333, \"#9c179e\"], [0.4444444444444444, \"#bd3786\"], [0.5555555555555556, \"#d8576b\"], [0.6666666666666666, \"#ed7953\"], [0.7777777777777778, \"#fb9f3a\"], [0.8888888888888888, \"#fdca26\"], [1.0, \"#f0f921\"]], \"type\": \"heatmapgl\"}], \"histogram\": [{\"marker\": {\"colorbar\": {\"outlinewidth\": 0, \"ticks\": \"\"}}, \"type\": \"histogram\"}], \"histogram2d\": [{\"colorbar\": {\"outlinewidth\": 0, \"ticks\": \"\"}, \"colorscale\": [[0.0, \"#0d0887\"], [0.1111111111111111, \"#46039f\"], [0.2222222222222222, \"#7201a8\"], [0.3333333333333333, \"#9c179e\"], [0.4444444444444444, \"#bd3786\"], [0.5555555555555556, \"#d8576b\"], [0.6666666666666666, \"#ed7953\"], [0.7777777777777778, \"#fb9f3a\"], [0.8888888888888888, \"#fdca26\"], [1.0, \"#f0f921\"]], \"type\": \"histogram2d\"}], \"histogram2dcontour\": [{\"colorbar\": {\"outlinewidth\": 0, \"ticks\": \"\"}, \"colorscale\": [[0.0, \"#0d0887\"], [0.1111111111111111, \"#46039f\"], [0.2222222222222222, \"#7201a8\"], [0.3333333333333333, \"#9c179e\"], [0.4444444444444444, \"#bd3786\"], [0.5555555555555556, \"#d8576b\"], [0.6666666666666666, \"#ed7953\"], [0.7777777777777778, \"#fb9f3a\"], [0.8888888888888888, \"#fdca26\"], [1.0, \"#f0f921\"]], \"type\": \"histogram2dcontour\"}], \"mesh3d\": [{\"colorbar\": {\"outlinewidth\": 0, \"ticks\": \"\"}, \"type\": \"mesh3d\"}], \"parcoords\": [{\"line\": {\"colorbar\": {\"outlinewidth\": 0, \"ticks\": \"\"}}, \"type\": \"parcoords\"}], \"pie\": [{\"automargin\": true, \"type\": \"pie\"}], \"scatter\": [{\"marker\": {\"colorbar\": {\"outlinewidth\": 0, \"ticks\": \"\"}}, \"type\": \"scatter\"}], \"scatter3d\": [{\"line\": {\"colorbar\": {\"outlinewidth\": 0, \"ticks\": \"\"}}, \"marker\": {\"colorbar\": {\"outlinewidth\": 0, \"ticks\": \"\"}}, \"type\": \"scatter3d\"}], \"scattercarpet\": [{\"marker\": {\"colorbar\": {\"outlinewidth\": 0, \"ticks\": \"\"}}, \"type\": \"scattercarpet\"}], \"scattergeo\": [{\"marker\": {\"colorbar\": {\"outlinewidth\": 0, \"ticks\": \"\"}}, \"type\": \"scattergeo\"}], \"scattergl\": [{\"marker\": {\"colorbar\": {\"outlinewidth\": 0, \"ticks\": \"\"}}, \"type\": \"scattergl\"}], \"scattermapbox\": [{\"marker\": {\"colorbar\": {\"outlinewidth\": 0, \"ticks\": \"\"}}, \"type\": \"scattermapbox\"}], \"scatterpolar\": [{\"marker\": {\"colorbar\": {\"outlinewidth\": 0, \"ticks\": \"\"}}, \"type\": \"scatterpolar\"}], \"scatterpolargl\": [{\"marker\": {\"colorbar\": {\"outlinewidth\": 0, \"ticks\": \"\"}}, \"type\": \"scatterpolargl\"}], \"scatterternary\": [{\"marker\": {\"colorbar\": {\"outlinewidth\": 0, \"ticks\": \"\"}}, \"type\": \"scatterternary\"}], \"surface\": [{\"colorbar\": {\"outlinewidth\": 0, \"ticks\": \"\"}, \"colorscale\": [[0.0, \"#0d0887\"], [0.1111111111111111, \"#46039f\"], [0.2222222222222222, \"#7201a8\"], [0.3333333333333333, \"#9c179e\"], [0.4444444444444444, \"#bd3786\"], [0.5555555555555556, \"#d8576b\"], [0.6666666666666666, \"#ed7953\"], [0.7777777777777778, \"#fb9f3a\"], [0.8888888888888888, \"#fdca26\"], [1.0, \"#f0f921\"]], \"type\": \"surface\"}], \"table\": [{\"cells\": {\"fill\": {\"color\": \"#EBF0F8\"}, \"line\": {\"color\": \"white\"}}, \"header\": {\"fill\": {\"color\": \"#C8D4E3\"}, \"line\": {\"color\": \"white\"}}, \"type\": \"table\"}]}, \"layout\": {\"annotationdefaults\": {\"arrowcolor\": \"#2a3f5f\", \"arrowhead\": 0, \"arrowwidth\": 1}, \"coloraxis\": {\"colorbar\": {\"outlinewidth\": 0, \"ticks\": \"\"}}, \"colorscale\": {\"diverging\": [[0, \"#8e0152\"], [0.1, \"#c51b7d\"], [0.2, \"#de77ae\"], [0.3, \"#f1b6da\"], [0.4, \"#fde0ef\"], [0.5, \"#f7f7f7\"], [0.6, \"#e6f5d0\"], [0.7, \"#b8e186\"], [0.8, \"#7fbc41\"], [0.9, \"#4d9221\"], [1, \"#276419\"]], \"sequential\": [[0.0, \"#0d0887\"], [0.1111111111111111, \"#46039f\"], [0.2222222222222222, \"#7201a8\"], [0.3333333333333333, \"#9c179e\"], [0.4444444444444444, \"#bd3786\"], [0.5555555555555556, \"#d8576b\"], [0.6666666666666666, \"#ed7953\"], [0.7777777777777778, \"#fb9f3a\"], [0.8888888888888888, \"#fdca26\"], [1.0, \"#f0f921\"]], \"sequentialminus\": [[0.0, \"#0d0887\"], [0.1111111111111111, \"#46039f\"], [0.2222222222222222, \"#7201a8\"], [0.3333333333333333, \"#9c179e\"], [0.4444444444444444, \"#bd3786\"], [0.5555555555555556, \"#d8576b\"], [0.6666666666666666, \"#ed7953\"], [0.7777777777777778, \"#fb9f3a\"], [0.8888888888888888, \"#fdca26\"], [1.0, \"#f0f921\"]]}, \"colorway\": [\"#636efa\", \"#EF553B\", \"#00cc96\", \"#ab63fa\", \"#FFA15A\", \"#19d3f3\", \"#FF6692\", \"#B6E880\", \"#FF97FF\", \"#FECB52\"], \"font\": {\"color\": \"#2a3f5f\"}, \"geo\": {\"bgcolor\": \"white\", \"lakecolor\": \"white\", \"landcolor\": \"#E5ECF6\", \"showlakes\": true, \"showland\": true, \"subunitcolor\": \"white\"}, \"hoverlabel\": {\"align\": \"left\"}, \"hovermode\": \"closest\", \"mapbox\": {\"style\": \"light\"}, \"paper_bgcolor\": \"white\", \"plot_bgcolor\": \"#E5ECF6\", \"polar\": {\"angularaxis\": {\"gridcolor\": \"white\", \"linecolor\": \"white\", \"ticks\": \"\"}, \"bgcolor\": \"#E5ECF6\", \"radialaxis\": {\"gridcolor\": \"white\", \"linecolor\": \"white\", \"ticks\": \"\"}}, \"scene\": {\"xaxis\": {\"backgroundcolor\": \"#E5ECF6\", \"gridcolor\": \"white\", \"gridwidth\": 2, \"linecolor\": \"white\", \"showbackground\": true, \"ticks\": \"\", \"zerolinecolor\": \"white\"}, \"yaxis\": {\"backgroundcolor\": \"#E5ECF6\", \"gridcolor\": \"white\", \"gridwidth\": 2, \"linecolor\": \"white\", \"showbackground\": true, \"ticks\": \"\", \"zerolinecolor\": \"white\"}, \"zaxis\": {\"backgroundcolor\": \"#E5ECF6\", \"gridcolor\": \"white\", \"gridwidth\": 2, \"linecolor\": \"white\", \"showbackground\": true, \"ticks\": \"\", \"zerolinecolor\": \"white\"}}, \"shapedefaults\": {\"line\": {\"color\": \"#2a3f5f\"}}, \"ternary\": {\"aaxis\": {\"gridcolor\": \"white\", \"linecolor\": \"white\", \"ticks\": \"\"}, \"baxis\": {\"gridcolor\": \"white\", \"linecolor\": \"white\", \"ticks\": \"\"}, \"bgcolor\": \"#E5ECF6\", \"caxis\": {\"gridcolor\": \"white\", \"linecolor\": \"white\", \"ticks\": \"\"}}, \"title\": {\"x\": 0.05}, \"xaxis\": {\"automargin\": true, \"gridcolor\": \"white\", \"linecolor\": \"white\", \"ticks\": \"\", \"title\": {\"standoff\": 15}, \"zerolinecolor\": \"white\", \"zerolinewidth\": 2}, \"yaxis\": {\"automargin\": true, \"gridcolor\": \"white\", \"linecolor\": \"white\", \"ticks\": \"\", \"title\": {\"standoff\": 15}, \"zerolinecolor\": \"white\", \"zerolinewidth\": 2}}}, \"title\": {\"text\": \"India: Confirmed Cases\"}, \"xaxis\": {\"anchor\": \"y\", \"domain\": [0.0, 1.0], \"title\": {\"text\": \"Dates\"}}, \"yaxis\": {\"anchor\": \"x\", \"domain\": [0.0, 1.0], \"title\": {\"text\": \"India\"}}},\n",
              "                        {\"responsive\": true}\n",
              "                    ).then(function(){\n",
              "                            \n",
              "var gd = document.getElementById('f85b4679-65e5-4913-a99a-9a401d5d3fb3');\n",
              "var x = new MutationObserver(function (mutations, observer) {{\n",
              "        var display = window.getComputedStyle(gd).display;\n",
              "        if (!display || display === 'none') {{\n",
              "            console.log([gd, 'removed!']);\n",
              "            Plotly.purge(gd);\n",
              "            observer.disconnect();\n",
              "        }}\n",
              "}});\n",
              "\n",
              "// Listen for the removal of the full notebook cells\n",
              "var notebookContainer = gd.closest('#notebook-container');\n",
              "if (notebookContainer) {{\n",
              "    x.observe(notebookContainer, {childList: true});\n",
              "}}\n",
              "\n",
              "// Listen for the clearing of the current output cell\n",
              "var outputEl = gd.closest('.output');\n",
              "if (outputEl) {{\n",
              "    x.observe(outputEl, {childList: true});\n",
              "}}\n",
              "\n",
              "                        })\n",
              "                };\n",
              "                });\n",
              "            </script>\n",
              "        </div>"
            ]
          },
          "metadata": {
            "tags": []
          }
        }
      ]
    },
    {
      "cell_type": "markdown",
      "metadata": {
        "id": "P8oPUH0AiOS_",
        "colab_type": "text"
      },
      "source": [
        "## US confirmed cases--"
      ]
    },
    {
      "cell_type": "code",
      "metadata": {
        "id": "o4klO6AGiOTA",
        "colab_type": "code",
        "outputId": "edbda279-c9b3-4d16-8c6c-fdac6473d672",
        "colab": {}
      },
      "source": [
        "fig = ax.bar(countries_3_update, x='Dates', y='US', title='US: Confirmed Cases')\n",
        "fig.show()"
      ],
      "execution_count": 0,
      "outputs": [
        {
          "output_type": "display_data",
          "data": {
            "text/html": [
              "<div>\n",
              "        \n",
              "        \n",
              "            <div id=\"26664ebd-3b9b-4af9-a4c9-e7b25221f260\" class=\"plotly-graph-div\" style=\"height:525px; width:100%;\"></div>\n",
              "            <script type=\"text/javascript\">\n",
              "                require([\"plotly\"], function(Plotly) {\n",
              "                    window.PLOTLYENV=window.PLOTLYENV || {};\n",
              "                    \n",
              "                if (document.getElementById(\"26664ebd-3b9b-4af9-a4c9-e7b25221f260\")) {\n",
              "                    Plotly.newPlot(\n",
              "                        '26664ebd-3b9b-4af9-a4c9-e7b25221f260',\n",
              "                        [{\"alignmentgroup\": \"True\", \"hoverlabel\": {\"namelength\": 0}, \"hovertemplate\": \"Dates=%{x}<br>US=%{y}\", \"legendgroup\": \"\", \"marker\": {\"color\": \"#636efa\"}, \"name\": \"\", \"offsetgroup\": \"\", \"orientation\": \"v\", \"showlegend\": false, \"textposition\": \"auto\", \"type\": \"bar\", \"x\": [\"1/22/20\", \"1/23/20\", \"1/24/20\", \"1/25/20\", \"1/26/20\", \"1/27/20\", \"1/28/20\", \"1/29/20\", \"1/30/20\", \"1/31/20\", \"2/1/20\", \"2/2/20\", \"2/3/20\", \"2/4/20\", \"2/5/20\", \"2/6/20\", \"2/7/20\", \"2/8/20\", \"2/9/20\", \"2/10/20\", \"2/11/20\", \"2/12/20\", \"2/13/20\", \"2/14/20\", \"2/15/20\", \"2/16/20\", \"2/17/20\", \"2/18/20\", \"2/19/20\", \"2/20/20\", \"2/21/20\", \"2/22/20\", \"2/23/20\", \"2/24/20\", \"2/25/20\", \"2/26/20\", \"2/27/20\", \"2/28/20\", \"2/29/20\", \"3/1/20\", \"3/2/20\", \"3/3/20\", \"3/4/20\", \"3/5/20\", \"3/6/20\", \"3/7/20\", \"3/8/20\", \"3/9/20\", \"3/10/20\", \"3/11/20\", \"3/12/20\", \"3/13/20\", \"3/14/20\", \"3/15/20\", \"3/16/20\", \"3/17/20\", \"3/18/20\", \"3/19/20\", \"3/20/20\", \"3/21/20\", \"3/22/20\", \"3/23/20\", \"3/24/20\", \"3/25/20\", \"3/26/20\", \"3/27/20\", \"3/28/20\", \"3/29/20\", \"3/30/20\", \"3/31/20\", \"4/1/20\", \"4/2/20\", \"4/3/20\", \"4/4/20\", \"4/5/20\", \"4/6/20\", \"4/7/20\", \"4/8/20\", \"4/9/20\", \"4/10/20\", \"4/11/20\", \"4/12/20\", \"4/13/20\", \"4/14/20\", \"4/15/20\", \"4/16/20\", \"4/17/20\"], \"xaxis\": \"x\", \"y\": [1, 1, 2, 2, 5, 5, 5, 5, 5, 7, 8, 8, 11, 11, 11, 11, 11, 11, 11, 11, 12, 12, 13, 13, 13, 13, 13, 13, 13, 13, 15, 15, 15, 51, 51, 57, 58, 60, 68, 74, 98, 118, 149, 217, 262, 402, 518, 583, 959, 1281, 1663, 2179, 2727, 3499, 4632, 6421, 7783, 13747, 19273, 25600, 33276, 43843, 53736, 65778, 83836, 101657, 121465, 140909, 161831, 188172, 213372, 243762, 275586, 308853, 337072, 366667, 396223, 429052, 461437, 496535, 526396, 555313, 580619, 607670, 636350, 667801, 699706], \"yaxis\": \"y\"}],\n",
              "                        {\"barmode\": \"relative\", \"legend\": {\"tracegroupgap\": 0}, \"template\": {\"data\": {\"bar\": [{\"error_x\": {\"color\": \"#2a3f5f\"}, \"error_y\": {\"color\": \"#2a3f5f\"}, \"marker\": {\"line\": {\"color\": \"#E5ECF6\", \"width\": 0.5}}, \"type\": \"bar\"}], \"barpolar\": [{\"marker\": {\"line\": {\"color\": \"#E5ECF6\", \"width\": 0.5}}, \"type\": \"barpolar\"}], \"carpet\": [{\"aaxis\": {\"endlinecolor\": \"#2a3f5f\", \"gridcolor\": \"white\", \"linecolor\": \"white\", \"minorgridcolor\": \"white\", \"startlinecolor\": \"#2a3f5f\"}, \"baxis\": {\"endlinecolor\": \"#2a3f5f\", \"gridcolor\": \"white\", \"linecolor\": \"white\", \"minorgridcolor\": \"white\", \"startlinecolor\": \"#2a3f5f\"}, \"type\": \"carpet\"}], \"choropleth\": [{\"colorbar\": {\"outlinewidth\": 0, \"ticks\": \"\"}, \"type\": \"choropleth\"}], \"contour\": [{\"colorbar\": {\"outlinewidth\": 0, \"ticks\": \"\"}, \"colorscale\": [[0.0, \"#0d0887\"], [0.1111111111111111, \"#46039f\"], [0.2222222222222222, \"#7201a8\"], [0.3333333333333333, \"#9c179e\"], [0.4444444444444444, \"#bd3786\"], [0.5555555555555556, \"#d8576b\"], [0.6666666666666666, \"#ed7953\"], [0.7777777777777778, \"#fb9f3a\"], [0.8888888888888888, \"#fdca26\"], [1.0, \"#f0f921\"]], \"type\": \"contour\"}], \"contourcarpet\": [{\"colorbar\": {\"outlinewidth\": 0, \"ticks\": \"\"}, \"type\": \"contourcarpet\"}], \"heatmap\": [{\"colorbar\": {\"outlinewidth\": 0, \"ticks\": \"\"}, \"colorscale\": [[0.0, \"#0d0887\"], [0.1111111111111111, \"#46039f\"], [0.2222222222222222, \"#7201a8\"], [0.3333333333333333, \"#9c179e\"], [0.4444444444444444, \"#bd3786\"], [0.5555555555555556, \"#d8576b\"], [0.6666666666666666, \"#ed7953\"], [0.7777777777777778, \"#fb9f3a\"], [0.8888888888888888, \"#fdca26\"], [1.0, \"#f0f921\"]], \"type\": \"heatmap\"}], \"heatmapgl\": [{\"colorbar\": {\"outlinewidth\": 0, \"ticks\": \"\"}, \"colorscale\": [[0.0, \"#0d0887\"], [0.1111111111111111, \"#46039f\"], [0.2222222222222222, \"#7201a8\"], [0.3333333333333333, \"#9c179e\"], [0.4444444444444444, \"#bd3786\"], [0.5555555555555556, \"#d8576b\"], [0.6666666666666666, \"#ed7953\"], [0.7777777777777778, \"#fb9f3a\"], [0.8888888888888888, \"#fdca26\"], [1.0, \"#f0f921\"]], \"type\": \"heatmapgl\"}], \"histogram\": [{\"marker\": {\"colorbar\": {\"outlinewidth\": 0, \"ticks\": \"\"}}, \"type\": \"histogram\"}], \"histogram2d\": [{\"colorbar\": {\"outlinewidth\": 0, \"ticks\": \"\"}, \"colorscale\": [[0.0, \"#0d0887\"], [0.1111111111111111, \"#46039f\"], [0.2222222222222222, \"#7201a8\"], [0.3333333333333333, \"#9c179e\"], [0.4444444444444444, \"#bd3786\"], [0.5555555555555556, \"#d8576b\"], [0.6666666666666666, \"#ed7953\"], [0.7777777777777778, \"#fb9f3a\"], [0.8888888888888888, \"#fdca26\"], [1.0, \"#f0f921\"]], \"type\": \"histogram2d\"}], \"histogram2dcontour\": [{\"colorbar\": {\"outlinewidth\": 0, \"ticks\": \"\"}, \"colorscale\": [[0.0, \"#0d0887\"], [0.1111111111111111, \"#46039f\"], [0.2222222222222222, \"#7201a8\"], [0.3333333333333333, \"#9c179e\"], [0.4444444444444444, \"#bd3786\"], [0.5555555555555556, \"#d8576b\"], [0.6666666666666666, \"#ed7953\"], [0.7777777777777778, \"#fb9f3a\"], [0.8888888888888888, \"#fdca26\"], [1.0, \"#f0f921\"]], \"type\": \"histogram2dcontour\"}], \"mesh3d\": [{\"colorbar\": {\"outlinewidth\": 0, \"ticks\": \"\"}, \"type\": \"mesh3d\"}], \"parcoords\": [{\"line\": {\"colorbar\": {\"outlinewidth\": 0, \"ticks\": \"\"}}, \"type\": \"parcoords\"}], \"pie\": [{\"automargin\": true, \"type\": \"pie\"}], \"scatter\": [{\"marker\": {\"colorbar\": {\"outlinewidth\": 0, \"ticks\": \"\"}}, \"type\": \"scatter\"}], \"scatter3d\": [{\"line\": {\"colorbar\": {\"outlinewidth\": 0, \"ticks\": \"\"}}, \"marker\": {\"colorbar\": {\"outlinewidth\": 0, \"ticks\": \"\"}}, \"type\": \"scatter3d\"}], \"scattercarpet\": [{\"marker\": {\"colorbar\": {\"outlinewidth\": 0, \"ticks\": \"\"}}, \"type\": \"scattercarpet\"}], \"scattergeo\": [{\"marker\": {\"colorbar\": {\"outlinewidth\": 0, \"ticks\": \"\"}}, \"type\": \"scattergeo\"}], \"scattergl\": [{\"marker\": {\"colorbar\": {\"outlinewidth\": 0, \"ticks\": \"\"}}, \"type\": \"scattergl\"}], \"scattermapbox\": [{\"marker\": {\"colorbar\": {\"outlinewidth\": 0, \"ticks\": \"\"}}, \"type\": \"scattermapbox\"}], \"scatterpolar\": [{\"marker\": {\"colorbar\": {\"outlinewidth\": 0, \"ticks\": \"\"}}, \"type\": \"scatterpolar\"}], \"scatterpolargl\": [{\"marker\": {\"colorbar\": {\"outlinewidth\": 0, \"ticks\": \"\"}}, \"type\": \"scatterpolargl\"}], \"scatterternary\": [{\"marker\": {\"colorbar\": {\"outlinewidth\": 0, \"ticks\": \"\"}}, \"type\": \"scatterternary\"}], \"surface\": [{\"colorbar\": {\"outlinewidth\": 0, \"ticks\": \"\"}, \"colorscale\": [[0.0, \"#0d0887\"], [0.1111111111111111, \"#46039f\"], [0.2222222222222222, \"#7201a8\"], [0.3333333333333333, \"#9c179e\"], [0.4444444444444444, \"#bd3786\"], [0.5555555555555556, \"#d8576b\"], [0.6666666666666666, \"#ed7953\"], [0.7777777777777778, \"#fb9f3a\"], [0.8888888888888888, \"#fdca26\"], [1.0, \"#f0f921\"]], \"type\": \"surface\"}], \"table\": [{\"cells\": {\"fill\": {\"color\": \"#EBF0F8\"}, \"line\": {\"color\": \"white\"}}, \"header\": {\"fill\": {\"color\": \"#C8D4E3\"}, \"line\": {\"color\": \"white\"}}, \"type\": \"table\"}]}, \"layout\": {\"annotationdefaults\": {\"arrowcolor\": \"#2a3f5f\", \"arrowhead\": 0, \"arrowwidth\": 1}, \"coloraxis\": {\"colorbar\": {\"outlinewidth\": 0, \"ticks\": \"\"}}, \"colorscale\": {\"diverging\": [[0, \"#8e0152\"], [0.1, \"#c51b7d\"], [0.2, \"#de77ae\"], [0.3, \"#f1b6da\"], [0.4, \"#fde0ef\"], [0.5, \"#f7f7f7\"], [0.6, \"#e6f5d0\"], [0.7, \"#b8e186\"], [0.8, \"#7fbc41\"], [0.9, \"#4d9221\"], [1, \"#276419\"]], \"sequential\": [[0.0, \"#0d0887\"], [0.1111111111111111, \"#46039f\"], [0.2222222222222222, \"#7201a8\"], [0.3333333333333333, \"#9c179e\"], [0.4444444444444444, \"#bd3786\"], [0.5555555555555556, \"#d8576b\"], [0.6666666666666666, \"#ed7953\"], [0.7777777777777778, \"#fb9f3a\"], [0.8888888888888888, \"#fdca26\"], [1.0, \"#f0f921\"]], \"sequentialminus\": [[0.0, \"#0d0887\"], [0.1111111111111111, \"#46039f\"], [0.2222222222222222, \"#7201a8\"], [0.3333333333333333, \"#9c179e\"], [0.4444444444444444, \"#bd3786\"], [0.5555555555555556, \"#d8576b\"], [0.6666666666666666, \"#ed7953\"], [0.7777777777777778, \"#fb9f3a\"], [0.8888888888888888, \"#fdca26\"], [1.0, \"#f0f921\"]]}, \"colorway\": [\"#636efa\", \"#EF553B\", \"#00cc96\", \"#ab63fa\", \"#FFA15A\", \"#19d3f3\", \"#FF6692\", \"#B6E880\", \"#FF97FF\", \"#FECB52\"], \"font\": {\"color\": \"#2a3f5f\"}, \"geo\": {\"bgcolor\": \"white\", \"lakecolor\": \"white\", \"landcolor\": \"#E5ECF6\", \"showlakes\": true, \"showland\": true, \"subunitcolor\": \"white\"}, \"hoverlabel\": {\"align\": \"left\"}, \"hovermode\": \"closest\", \"mapbox\": {\"style\": \"light\"}, \"paper_bgcolor\": \"white\", \"plot_bgcolor\": \"#E5ECF6\", \"polar\": {\"angularaxis\": {\"gridcolor\": \"white\", \"linecolor\": \"white\", \"ticks\": \"\"}, \"bgcolor\": \"#E5ECF6\", \"radialaxis\": {\"gridcolor\": \"white\", \"linecolor\": \"white\", \"ticks\": \"\"}}, \"scene\": {\"xaxis\": {\"backgroundcolor\": \"#E5ECF6\", \"gridcolor\": \"white\", \"gridwidth\": 2, \"linecolor\": \"white\", \"showbackground\": true, \"ticks\": \"\", \"zerolinecolor\": \"white\"}, \"yaxis\": {\"backgroundcolor\": \"#E5ECF6\", \"gridcolor\": \"white\", \"gridwidth\": 2, \"linecolor\": \"white\", \"showbackground\": true, \"ticks\": \"\", \"zerolinecolor\": \"white\"}, \"zaxis\": {\"backgroundcolor\": \"#E5ECF6\", \"gridcolor\": \"white\", \"gridwidth\": 2, \"linecolor\": \"white\", \"showbackground\": true, \"ticks\": \"\", \"zerolinecolor\": \"white\"}}, \"shapedefaults\": {\"line\": {\"color\": \"#2a3f5f\"}}, \"ternary\": {\"aaxis\": {\"gridcolor\": \"white\", \"linecolor\": \"white\", \"ticks\": \"\"}, \"baxis\": {\"gridcolor\": \"white\", \"linecolor\": \"white\", \"ticks\": \"\"}, \"bgcolor\": \"#E5ECF6\", \"caxis\": {\"gridcolor\": \"white\", \"linecolor\": \"white\", \"ticks\": \"\"}}, \"title\": {\"x\": 0.05}, \"xaxis\": {\"automargin\": true, \"gridcolor\": \"white\", \"linecolor\": \"white\", \"ticks\": \"\", \"title\": {\"standoff\": 15}, \"zerolinecolor\": \"white\", \"zerolinewidth\": 2}, \"yaxis\": {\"automargin\": true, \"gridcolor\": \"white\", \"linecolor\": \"white\", \"ticks\": \"\", \"title\": {\"standoff\": 15}, \"zerolinecolor\": \"white\", \"zerolinewidth\": 2}}}, \"title\": {\"text\": \"US: Confirmed Cases\"}, \"xaxis\": {\"anchor\": \"y\", \"domain\": [0.0, 1.0], \"title\": {\"text\": \"Dates\"}}, \"yaxis\": {\"anchor\": \"x\", \"domain\": [0.0, 1.0], \"title\": {\"text\": \"US\"}}},\n",
              "                        {\"responsive\": true}\n",
              "                    ).then(function(){\n",
              "                            \n",
              "var gd = document.getElementById('26664ebd-3b9b-4af9-a4c9-e7b25221f260');\n",
              "var x = new MutationObserver(function (mutations, observer) {{\n",
              "        var display = window.getComputedStyle(gd).display;\n",
              "        if (!display || display === 'none') {{\n",
              "            console.log([gd, 'removed!']);\n",
              "            Plotly.purge(gd);\n",
              "            observer.disconnect();\n",
              "        }}\n",
              "}});\n",
              "\n",
              "// Listen for the removal of the full notebook cells\n",
              "var notebookContainer = gd.closest('#notebook-container');\n",
              "if (notebookContainer) {{\n",
              "    x.observe(notebookContainer, {childList: true});\n",
              "}}\n",
              "\n",
              "// Listen for the clearing of the current output cell\n",
              "var outputEl = gd.closest('.output');\n",
              "if (outputEl) {{\n",
              "    x.observe(outputEl, {childList: true});\n",
              "}}\n",
              "\n",
              "                        })\n",
              "                };\n",
              "                });\n",
              "            </script>\n",
              "        </div>"
            ]
          },
          "metadata": {
            "tags": []
          }
        }
      ]
    },
    {
      "cell_type": "markdown",
      "metadata": {
        "id": "h_a3dmopiOTF",
        "colab_type": "text"
      },
      "source": [
        "## China confirmed cases--"
      ]
    },
    {
      "cell_type": "code",
      "metadata": {
        "id": "-QvW61jTiOTF",
        "colab_type": "code",
        "outputId": "894b9264-6fd9-4dd1-bcf9-6075e20f343e",
        "colab": {}
      },
      "source": [
        "fig = ax.bar(countries_3_update, x='Dates', y='China', title='China: Confirmed Cases')\n",
        "fig.show()"
      ],
      "execution_count": 0,
      "outputs": [
        {
          "output_type": "display_data",
          "data": {
            "text/html": [
              "<div>\n",
              "        \n",
              "        \n",
              "            <div id=\"e4bab4c1-7614-499f-ab22-c6d7f62bd1bb\" class=\"plotly-graph-div\" style=\"height:525px; width:100%;\"></div>\n",
              "            <script type=\"text/javascript\">\n",
              "                require([\"plotly\"], function(Plotly) {\n",
              "                    window.PLOTLYENV=window.PLOTLYENV || {};\n",
              "                    \n",
              "                if (document.getElementById(\"e4bab4c1-7614-499f-ab22-c6d7f62bd1bb\")) {\n",
              "                    Plotly.newPlot(\n",
              "                        'e4bab4c1-7614-499f-ab22-c6d7f62bd1bb',\n",
              "                        [{\"alignmentgroup\": \"True\", \"hoverlabel\": {\"namelength\": 0}, \"hovertemplate\": \"Dates=%{x}<br>China=%{y}\", \"legendgroup\": \"\", \"marker\": {\"color\": \"#636efa\"}, \"name\": \"\", \"offsetgroup\": \"\", \"orientation\": \"v\", \"showlegend\": false, \"textposition\": \"auto\", \"type\": \"bar\", \"x\": [\"1/22/20\", \"1/23/20\", \"1/24/20\", \"1/25/20\", \"1/26/20\", \"1/27/20\", \"1/28/20\", \"1/29/20\", \"1/30/20\", \"1/31/20\", \"2/1/20\", \"2/2/20\", \"2/3/20\", \"2/4/20\", \"2/5/20\", \"2/6/20\", \"2/7/20\", \"2/8/20\", \"2/9/20\", \"2/10/20\", \"2/11/20\", \"2/12/20\", \"2/13/20\", \"2/14/20\", \"2/15/20\", \"2/16/20\", \"2/17/20\", \"2/18/20\", \"2/19/20\", \"2/20/20\", \"2/21/20\", \"2/22/20\", \"2/23/20\", \"2/24/20\", \"2/25/20\", \"2/26/20\", \"2/27/20\", \"2/28/20\", \"2/29/20\", \"3/1/20\", \"3/2/20\", \"3/3/20\", \"3/4/20\", \"3/5/20\", \"3/6/20\", \"3/7/20\", \"3/8/20\", \"3/9/20\", \"3/10/20\", \"3/11/20\", \"3/12/20\", \"3/13/20\", \"3/14/20\", \"3/15/20\", \"3/16/20\", \"3/17/20\", \"3/18/20\", \"3/19/20\", \"3/20/20\", \"3/21/20\", \"3/22/20\", \"3/23/20\", \"3/24/20\", \"3/25/20\", \"3/26/20\", \"3/27/20\", \"3/28/20\", \"3/29/20\", \"3/30/20\", \"3/31/20\", \"4/1/20\", \"4/2/20\", \"4/3/20\", \"4/4/20\", \"4/5/20\", \"4/6/20\", \"4/7/20\", \"4/8/20\", \"4/9/20\", \"4/10/20\", \"4/11/20\", \"4/12/20\", \"4/13/20\", \"4/14/20\", \"4/15/20\", \"4/16/20\", \"4/17/20\"], \"xaxis\": \"x\", \"y\": [548, 643, 920, 1406, 2075, 2877, 5509, 6087, 8141, 9802, 11891, 16630, 19716, 23707, 27440, 30587, 34110, 36814, 39829, 42354, 44386, 44759, 59895, 66358, 68413, 70513, 72434, 74211, 74619, 75077, 75550, 77001, 77022, 77241, 77754, 78166, 78600, 78928, 79356, 79932, 80136, 80261, 80386, 80537, 80690, 80770, 80823, 80860, 80887, 80921, 80932, 80945, 80977, 81003, 81033, 81058, 81102, 81156, 81250, 81305, 81435, 81498, 81591, 81661, 81782, 81897, 81999, 82122, 82198, 82279, 82361, 82432, 82511, 82543, 82602, 82665, 82718, 82809, 82883, 82941, 83014, 83134, 83213, 83306, 83356, 83403, 83760], \"yaxis\": \"y\"}],\n",
              "                        {\"barmode\": \"relative\", \"legend\": {\"tracegroupgap\": 0}, \"template\": {\"data\": {\"bar\": [{\"error_x\": {\"color\": \"#2a3f5f\"}, \"error_y\": {\"color\": \"#2a3f5f\"}, \"marker\": {\"line\": {\"color\": \"#E5ECF6\", \"width\": 0.5}}, \"type\": \"bar\"}], \"barpolar\": [{\"marker\": {\"line\": {\"color\": \"#E5ECF6\", \"width\": 0.5}}, \"type\": \"barpolar\"}], \"carpet\": [{\"aaxis\": {\"endlinecolor\": \"#2a3f5f\", \"gridcolor\": \"white\", \"linecolor\": \"white\", \"minorgridcolor\": \"white\", \"startlinecolor\": \"#2a3f5f\"}, \"baxis\": {\"endlinecolor\": \"#2a3f5f\", \"gridcolor\": \"white\", \"linecolor\": \"white\", \"minorgridcolor\": \"white\", \"startlinecolor\": \"#2a3f5f\"}, \"type\": \"carpet\"}], \"choropleth\": [{\"colorbar\": {\"outlinewidth\": 0, \"ticks\": \"\"}, \"type\": \"choropleth\"}], \"contour\": [{\"colorbar\": {\"outlinewidth\": 0, \"ticks\": \"\"}, \"colorscale\": [[0.0, \"#0d0887\"], [0.1111111111111111, \"#46039f\"], [0.2222222222222222, \"#7201a8\"], [0.3333333333333333, \"#9c179e\"], [0.4444444444444444, \"#bd3786\"], [0.5555555555555556, \"#d8576b\"], [0.6666666666666666, \"#ed7953\"], [0.7777777777777778, \"#fb9f3a\"], [0.8888888888888888, \"#fdca26\"], [1.0, \"#f0f921\"]], \"type\": \"contour\"}], \"contourcarpet\": [{\"colorbar\": {\"outlinewidth\": 0, \"ticks\": \"\"}, \"type\": \"contourcarpet\"}], \"heatmap\": [{\"colorbar\": {\"outlinewidth\": 0, \"ticks\": \"\"}, \"colorscale\": [[0.0, \"#0d0887\"], [0.1111111111111111, \"#46039f\"], [0.2222222222222222, \"#7201a8\"], [0.3333333333333333, \"#9c179e\"], [0.4444444444444444, \"#bd3786\"], [0.5555555555555556, \"#d8576b\"], [0.6666666666666666, \"#ed7953\"], [0.7777777777777778, \"#fb9f3a\"], [0.8888888888888888, \"#fdca26\"], [1.0, \"#f0f921\"]], \"type\": \"heatmap\"}], \"heatmapgl\": [{\"colorbar\": {\"outlinewidth\": 0, \"ticks\": \"\"}, \"colorscale\": [[0.0, \"#0d0887\"], [0.1111111111111111, \"#46039f\"], [0.2222222222222222, \"#7201a8\"], [0.3333333333333333, \"#9c179e\"], [0.4444444444444444, \"#bd3786\"], [0.5555555555555556, \"#d8576b\"], [0.6666666666666666, \"#ed7953\"], [0.7777777777777778, \"#fb9f3a\"], [0.8888888888888888, \"#fdca26\"], [1.0, \"#f0f921\"]], \"type\": \"heatmapgl\"}], \"histogram\": [{\"marker\": {\"colorbar\": {\"outlinewidth\": 0, \"ticks\": \"\"}}, \"type\": \"histogram\"}], \"histogram2d\": [{\"colorbar\": {\"outlinewidth\": 0, \"ticks\": \"\"}, \"colorscale\": [[0.0, \"#0d0887\"], [0.1111111111111111, \"#46039f\"], [0.2222222222222222, \"#7201a8\"], [0.3333333333333333, \"#9c179e\"], [0.4444444444444444, \"#bd3786\"], [0.5555555555555556, \"#d8576b\"], [0.6666666666666666, \"#ed7953\"], [0.7777777777777778, \"#fb9f3a\"], [0.8888888888888888, \"#fdca26\"], [1.0, \"#f0f921\"]], \"type\": \"histogram2d\"}], \"histogram2dcontour\": [{\"colorbar\": {\"outlinewidth\": 0, \"ticks\": \"\"}, \"colorscale\": [[0.0, \"#0d0887\"], [0.1111111111111111, \"#46039f\"], [0.2222222222222222, \"#7201a8\"], [0.3333333333333333, \"#9c179e\"], [0.4444444444444444, \"#bd3786\"], [0.5555555555555556, \"#d8576b\"], [0.6666666666666666, \"#ed7953\"], [0.7777777777777778, \"#fb9f3a\"], [0.8888888888888888, \"#fdca26\"], [1.0, \"#f0f921\"]], \"type\": \"histogram2dcontour\"}], \"mesh3d\": [{\"colorbar\": {\"outlinewidth\": 0, \"ticks\": \"\"}, \"type\": \"mesh3d\"}], \"parcoords\": [{\"line\": {\"colorbar\": {\"outlinewidth\": 0, \"ticks\": \"\"}}, \"type\": \"parcoords\"}], \"pie\": [{\"automargin\": true, \"type\": \"pie\"}], \"scatter\": [{\"marker\": {\"colorbar\": {\"outlinewidth\": 0, \"ticks\": \"\"}}, \"type\": \"scatter\"}], \"scatter3d\": [{\"line\": {\"colorbar\": {\"outlinewidth\": 0, \"ticks\": \"\"}}, \"marker\": {\"colorbar\": {\"outlinewidth\": 0, \"ticks\": \"\"}}, \"type\": \"scatter3d\"}], \"scattercarpet\": [{\"marker\": {\"colorbar\": {\"outlinewidth\": 0, \"ticks\": \"\"}}, \"type\": \"scattercarpet\"}], \"scattergeo\": [{\"marker\": {\"colorbar\": {\"outlinewidth\": 0, \"ticks\": \"\"}}, \"type\": \"scattergeo\"}], \"scattergl\": [{\"marker\": {\"colorbar\": {\"outlinewidth\": 0, \"ticks\": \"\"}}, \"type\": \"scattergl\"}], \"scattermapbox\": [{\"marker\": {\"colorbar\": {\"outlinewidth\": 0, \"ticks\": \"\"}}, \"type\": \"scattermapbox\"}], \"scatterpolar\": [{\"marker\": {\"colorbar\": {\"outlinewidth\": 0, \"ticks\": \"\"}}, \"type\": \"scatterpolar\"}], \"scatterpolargl\": [{\"marker\": {\"colorbar\": {\"outlinewidth\": 0, \"ticks\": \"\"}}, \"type\": \"scatterpolargl\"}], \"scatterternary\": [{\"marker\": {\"colorbar\": {\"outlinewidth\": 0, \"ticks\": \"\"}}, \"type\": \"scatterternary\"}], \"surface\": [{\"colorbar\": {\"outlinewidth\": 0, \"ticks\": \"\"}, \"colorscale\": [[0.0, \"#0d0887\"], [0.1111111111111111, \"#46039f\"], [0.2222222222222222, \"#7201a8\"], [0.3333333333333333, \"#9c179e\"], [0.4444444444444444, \"#bd3786\"], [0.5555555555555556, \"#d8576b\"], [0.6666666666666666, \"#ed7953\"], [0.7777777777777778, \"#fb9f3a\"], [0.8888888888888888, \"#fdca26\"], [1.0, \"#f0f921\"]], \"type\": \"surface\"}], \"table\": [{\"cells\": {\"fill\": {\"color\": \"#EBF0F8\"}, \"line\": {\"color\": \"white\"}}, \"header\": {\"fill\": {\"color\": \"#C8D4E3\"}, \"line\": {\"color\": \"white\"}}, \"type\": \"table\"}]}, \"layout\": {\"annotationdefaults\": {\"arrowcolor\": \"#2a3f5f\", \"arrowhead\": 0, \"arrowwidth\": 1}, \"coloraxis\": {\"colorbar\": {\"outlinewidth\": 0, \"ticks\": \"\"}}, \"colorscale\": {\"diverging\": [[0, \"#8e0152\"], [0.1, \"#c51b7d\"], [0.2, \"#de77ae\"], [0.3, \"#f1b6da\"], [0.4, \"#fde0ef\"], [0.5, \"#f7f7f7\"], [0.6, \"#e6f5d0\"], [0.7, \"#b8e186\"], [0.8, \"#7fbc41\"], [0.9, \"#4d9221\"], [1, \"#276419\"]], \"sequential\": [[0.0, \"#0d0887\"], [0.1111111111111111, \"#46039f\"], [0.2222222222222222, \"#7201a8\"], [0.3333333333333333, \"#9c179e\"], [0.4444444444444444, \"#bd3786\"], [0.5555555555555556, \"#d8576b\"], [0.6666666666666666, \"#ed7953\"], [0.7777777777777778, \"#fb9f3a\"], [0.8888888888888888, \"#fdca26\"], [1.0, \"#f0f921\"]], \"sequentialminus\": [[0.0, \"#0d0887\"], [0.1111111111111111, \"#46039f\"], [0.2222222222222222, \"#7201a8\"], [0.3333333333333333, \"#9c179e\"], [0.4444444444444444, \"#bd3786\"], [0.5555555555555556, \"#d8576b\"], [0.6666666666666666, \"#ed7953\"], [0.7777777777777778, \"#fb9f3a\"], [0.8888888888888888, \"#fdca26\"], [1.0, \"#f0f921\"]]}, \"colorway\": [\"#636efa\", \"#EF553B\", \"#00cc96\", \"#ab63fa\", \"#FFA15A\", \"#19d3f3\", \"#FF6692\", \"#B6E880\", \"#FF97FF\", \"#FECB52\"], \"font\": {\"color\": \"#2a3f5f\"}, \"geo\": {\"bgcolor\": \"white\", \"lakecolor\": \"white\", \"landcolor\": \"#E5ECF6\", \"showlakes\": true, \"showland\": true, \"subunitcolor\": \"white\"}, \"hoverlabel\": {\"align\": \"left\"}, \"hovermode\": \"closest\", \"mapbox\": {\"style\": \"light\"}, \"paper_bgcolor\": \"white\", \"plot_bgcolor\": \"#E5ECF6\", \"polar\": {\"angularaxis\": {\"gridcolor\": \"white\", \"linecolor\": \"white\", \"ticks\": \"\"}, \"bgcolor\": \"#E5ECF6\", \"radialaxis\": {\"gridcolor\": \"white\", \"linecolor\": \"white\", \"ticks\": \"\"}}, \"scene\": {\"xaxis\": {\"backgroundcolor\": \"#E5ECF6\", \"gridcolor\": \"white\", \"gridwidth\": 2, \"linecolor\": \"white\", \"showbackground\": true, \"ticks\": \"\", \"zerolinecolor\": \"white\"}, \"yaxis\": {\"backgroundcolor\": \"#E5ECF6\", \"gridcolor\": \"white\", \"gridwidth\": 2, \"linecolor\": \"white\", \"showbackground\": true, \"ticks\": \"\", \"zerolinecolor\": \"white\"}, \"zaxis\": {\"backgroundcolor\": \"#E5ECF6\", \"gridcolor\": \"white\", \"gridwidth\": 2, \"linecolor\": \"white\", \"showbackground\": true, \"ticks\": \"\", \"zerolinecolor\": \"white\"}}, \"shapedefaults\": {\"line\": {\"color\": \"#2a3f5f\"}}, \"ternary\": {\"aaxis\": {\"gridcolor\": \"white\", \"linecolor\": \"white\", \"ticks\": \"\"}, \"baxis\": {\"gridcolor\": \"white\", \"linecolor\": \"white\", \"ticks\": \"\"}, \"bgcolor\": \"#E5ECF6\", \"caxis\": {\"gridcolor\": \"white\", \"linecolor\": \"white\", \"ticks\": \"\"}}, \"title\": {\"x\": 0.05}, \"xaxis\": {\"automargin\": true, \"gridcolor\": \"white\", \"linecolor\": \"white\", \"ticks\": \"\", \"title\": {\"standoff\": 15}, \"zerolinecolor\": \"white\", \"zerolinewidth\": 2}, \"yaxis\": {\"automargin\": true, \"gridcolor\": \"white\", \"linecolor\": \"white\", \"ticks\": \"\", \"title\": {\"standoff\": 15}, \"zerolinecolor\": \"white\", \"zerolinewidth\": 2}}}, \"title\": {\"text\": \"China: Confirmed Cases\"}, \"xaxis\": {\"anchor\": \"y\", \"domain\": [0.0, 1.0], \"title\": {\"text\": \"Dates\"}}, \"yaxis\": {\"anchor\": \"x\", \"domain\": [0.0, 1.0], \"title\": {\"text\": \"China\"}}},\n",
              "                        {\"responsive\": true}\n",
              "                    ).then(function(){\n",
              "                            \n",
              "var gd = document.getElementById('e4bab4c1-7614-499f-ab22-c6d7f62bd1bb');\n",
              "var x = new MutationObserver(function (mutations, observer) {{\n",
              "        var display = window.getComputedStyle(gd).display;\n",
              "        if (!display || display === 'none') {{\n",
              "            console.log([gd, 'removed!']);\n",
              "            Plotly.purge(gd);\n",
              "            observer.disconnect();\n",
              "        }}\n",
              "}});\n",
              "\n",
              "// Listen for the removal of the full notebook cells\n",
              "var notebookContainer = gd.closest('#notebook-container');\n",
              "if (notebookContainer) {{\n",
              "    x.observe(notebookContainer, {childList: true});\n",
              "}}\n",
              "\n",
              "// Listen for the clearing of the current output cell\n",
              "var outputEl = gd.closest('.output');\n",
              "if (outputEl) {{\n",
              "    x.observe(outputEl, {childList: true});\n",
              "}}\n",
              "\n",
              "                        })\n",
              "                };\n",
              "                });\n",
              "            </script>\n",
              "        </div>"
            ]
          },
          "metadata": {
            "tags": []
          }
        }
      ]
    },
    {
      "cell_type": "markdown",
      "metadata": {
        "id": "zMxPHDh0iOTJ",
        "colab_type": "text"
      },
      "source": [
        "### Comparison of confirmed cases between the 3 countries"
      ]
    },
    {
      "cell_type": "code",
      "metadata": {
        "id": "Ck_dEnQfiOTK",
        "colab_type": "code",
        "outputId": "6b631c34-bd31-468f-8dfd-84a81d9b1fd5",
        "colab": {}
      },
      "source": [
        "plt.figure(figsize=(7,7))\n",
        "for i, col in enumerate(countries_3.columns):\n",
        "    countries_3[col].plot()\n",
        "plt.title('Covid-19 cases')\n",
        "plt.xticks(rotation=70)\n",
        "plt.legend(countries_3.columns)"
      ],
      "execution_count": 0,
      "outputs": [
        {
          "output_type": "execute_result",
          "data": {
            "text/plain": [
              "<matplotlib.legend.Legend at 0x7f9ec5fe0518>"
            ]
          },
          "metadata": {
            "tags": []
          },
          "execution_count": 73
        },
        {
          "output_type": "display_data",
          "data": {
            "image/png": "[encoded data removed]",
            "text/plain": [
              "<Figure size 504x504 with 1 Axes>"
            ]
          },
          "metadata": {
            "tags": []
          }
        }
      ]
    },
    {
      "cell_type": "markdown",
      "metadata": {
        "id": "XfFr1vsDiOTN",
        "colab_type": "text"
      },
      "source": [
        "# Indexes---\n",
        "### 1. Dow | GSPC -> U.S\n",
        "### 2. Shanghai Composite -> China\n",
        "### 3. Nifty -> India"
      ]
    },
    {
      "cell_type": "markdown",
      "metadata": {
        "id": "AQIb8NAkiOTO",
        "colab_type": "text"
      },
      "source": [
        "## gspc- Dow jones"
      ]
    },
    {
      "cell_type": "code",
      "metadata": {
        "id": "BJx94tOBiOTP",
        "colab_type": "code",
        "outputId": "d0334eb8-f71e-4be8-afaf-aeb9c8228537",
        "colab": {}
      },
      "source": [
        "gspc.head()"
      ],
      "execution_count": 0,
      "outputs": [
        {
          "output_type": "execute_result",
          "data": {
            "text/html": [
              "<div>\n",
              "<style scoped>\n",
              "    .dataframe tbody tr th:only-of-type {\n",
              "        vertical-align: middle;\n",
              "    }\n",
              "\n",
              "    .dataframe tbody tr th {\n",
              "        vertical-align: top;\n",
              "    }\n",
              "\n",
              "    .dataframe thead th {\n",
              "        text-align: right;\n",
              "    }\n",
              "</style>\n",
              "<table border=\"1\" class=\"dataframe\">\n",
              "  <thead>\n",
              "    <tr style=\"text-align: right;\">\n",
              "      <th></th>\n",
              "      <th>Date</th>\n",
              "      <th>Open</th>\n",
              "      <th>High</th>\n",
              "      <th>Low</th>\n",
              "      <th>Close</th>\n",
              "      <th>Adj Close</th>\n",
              "      <th>Volume</th>\n",
              "    </tr>\n",
              "  </thead>\n",
              "  <tbody>\n",
              "    <tr>\n",
              "      <th>0</th>\n",
              "      <td>22-01-19</td>\n",
              "      <td>2657.879883</td>\n",
              "      <td>2657.879883</td>\n",
              "      <td>2617.270020</td>\n",
              "      <td>2632.899902</td>\n",
              "      <td>2632.899902</td>\n",
              "      <td>3908030000</td>\n",
              "    </tr>\n",
              "    <tr>\n",
              "      <th>1</th>\n",
              "      <td>23-01-19</td>\n",
              "      <td>2643.479980</td>\n",
              "      <td>2653.189941</td>\n",
              "      <td>2612.860107</td>\n",
              "      <td>2638.699951</td>\n",
              "      <td>2638.699951</td>\n",
              "      <td>3335610000</td>\n",
              "    </tr>\n",
              "    <tr>\n",
              "      <th>2</th>\n",
              "      <td>24-01-19</td>\n",
              "      <td>2638.840088</td>\n",
              "      <td>2647.199951</td>\n",
              "      <td>2627.010010</td>\n",
              "      <td>2642.330078</td>\n",
              "      <td>2642.330078</td>\n",
              "      <td>3433250000</td>\n",
              "    </tr>\n",
              "    <tr>\n",
              "      <th>3</th>\n",
              "      <td>25-01-19</td>\n",
              "      <td>2657.439941</td>\n",
              "      <td>2672.379883</td>\n",
              "      <td>2657.330078</td>\n",
              "      <td>2664.760010</td>\n",
              "      <td>2664.760010</td>\n",
              "      <td>3814080000</td>\n",
              "    </tr>\n",
              "    <tr>\n",
              "      <th>4</th>\n",
              "      <td>28-01-19</td>\n",
              "      <td>2644.969971</td>\n",
              "      <td>2644.969971</td>\n",
              "      <td>2624.060059</td>\n",
              "      <td>2643.850098</td>\n",
              "      <td>2643.850098</td>\n",
              "      <td>3612810000</td>\n",
              "    </tr>\n",
              "  </tbody>\n",
              "</table>\n",
              "</div>"
            ],
            "text/plain": [
              "       Date         Open         High          Low        Close    Adj Close  \\\n",
              "0  22-01-19  2657.879883  2657.879883  2617.270020  2632.899902  2632.899902   \n",
              "1  23-01-19  2643.479980  2653.189941  2612.860107  2638.699951  2638.699951   \n",
              "2  24-01-19  2638.840088  2647.199951  2627.010010  2642.330078  2642.330078   \n",
              "3  25-01-19  2657.439941  2672.379883  2657.330078  2664.760010  2664.760010   \n",
              "4  28-01-19  2644.969971  2644.969971  2624.060059  2643.850098  2643.850098   \n",
              "\n",
              "       Volume  \n",
              "0  3908030000  \n",
              "1  3335610000  \n",
              "2  3433250000  \n",
              "3  3814080000  \n",
              "4  3612810000  "
            ]
          },
          "metadata": {
            "tags": []
          },
          "execution_count": 74
        }
      ]
    },
    {
      "cell_type": "code",
      "metadata": {
        "id": "S12SOp1uiOTV",
        "colab_type": "code",
        "outputId": "afbd7eac-a2cd-483e-dcd3-bd9fa7b1b8fc",
        "colab": {}
      },
      "source": [
        "gspc.loc[gspc['Date']=='22-01-20'].index.values"
      ],
      "execution_count": 0,
      "outputs": [
        {
          "output_type": "execute_result",
          "data": {
            "text/plain": [
              "array([257])"
            ]
          },
          "metadata": {
            "tags": []
          },
          "execution_count": 75
        }
      ]
    },
    {
      "cell_type": "code",
      "metadata": {
        "id": "AuBLJ41XiOTY",
        "colab_type": "code",
        "outputId": "0be68143-7d7a-45fe-c2a3-4aca7e76fd8e",
        "colab": {}
      },
      "source": [
        "gspc.iloc[257,:]"
      ],
      "execution_count": 0,
      "outputs": [
        {
          "output_type": "execute_result",
          "data": {
            "text/plain": [
              "Date           22-01-20\n",
              "Open            3330.02\n",
              "High            3337.77\n",
              "Low             3320.04\n",
              "Close           3321.75\n",
              "Adj Close       3321.75\n",
              "Volume       3619850000\n",
              "Name: 257, dtype: object"
            ]
          },
          "metadata": {
            "tags": []
          },
          "execution_count": 76
        }
      ]
    },
    {
      "cell_type": "markdown",
      "metadata": {
        "id": "9zyqSv2niOTb",
        "colab_type": "text"
      },
      "source": [
        "## Fixing gspc for Plottings"
      ]
    },
    {
      "cell_type": "code",
      "metadata": {
        "id": "eS3AivgmiOTc",
        "colab_type": "code",
        "colab": {}
      },
      "source": [
        "gspc_plots=gspc.iloc[257:,:].reset_index(drop=True)\n",
        "gspc_plots=gspc_plots.set_index('Date')"
      ],
      "execution_count": 0,
      "outputs": []
    },
    {
      "cell_type": "code",
      "metadata": {
        "id": "toDNt-4tiOTf",
        "colab_type": "code",
        "outputId": "c3ead13b-c0cb-4fc6-bd74-deffa1ba3883",
        "colab": {}
      },
      "source": [
        "gspc_plots"
      ],
      "execution_count": 0,
      "outputs": [
        {
          "output_type": "execute_result",
          "data": {
            "text/html": [
              "<div>\n",
              "<style scoped>\n",
              "    .dataframe tbody tr th:only-of-type {\n",
              "        vertical-align: middle;\n",
              "    }\n",
              "\n",
              "    .dataframe tbody tr th {\n",
              "        vertical-align: top;\n",
              "    }\n",
              "\n",
              "    .dataframe thead th {\n",
              "        text-align: right;\n",
              "    }\n",
              "</style>\n",
              "<table border=\"1\" class=\"dataframe\">\n",
              "  <thead>\n",
              "    <tr style=\"text-align: right;\">\n",
              "      <th></th>\n",
              "      <th>Open</th>\n",
              "      <th>High</th>\n",
              "      <th>Low</th>\n",
              "      <th>Close</th>\n",
              "      <th>Adj Close</th>\n",
              "      <th>Volume</th>\n",
              "    </tr>\n",
              "    <tr>\n",
              "      <th>Date</th>\n",
              "      <th></th>\n",
              "      <th></th>\n",
              "      <th></th>\n",
              "      <th></th>\n",
              "      <th></th>\n",
              "      <th></th>\n",
              "    </tr>\n",
              "  </thead>\n",
              "  <tbody>\n",
              "    <tr>\n",
              "      <th>22-01-20</th>\n",
              "      <td>3330.020020</td>\n",
              "      <td>3337.770020</td>\n",
              "      <td>3320.040039</td>\n",
              "      <td>3321.750000</td>\n",
              "      <td>3321.750000</td>\n",
              "      <td>3619850000</td>\n",
              "    </tr>\n",
              "    <tr>\n",
              "      <th>23-01-20</th>\n",
              "      <td>3315.770020</td>\n",
              "      <td>3326.879883</td>\n",
              "      <td>3301.870117</td>\n",
              "      <td>3325.540039</td>\n",
              "      <td>3325.540039</td>\n",
              "      <td>3764860000</td>\n",
              "    </tr>\n",
              "    <tr>\n",
              "      <th>24-01-20</th>\n",
              "      <td>3333.100098</td>\n",
              "      <td>3333.179932</td>\n",
              "      <td>3281.530029</td>\n",
              "      <td>3295.469971</td>\n",
              "      <td>3295.469971</td>\n",
              "      <td>3707130000</td>\n",
              "    </tr>\n",
              "    <tr>\n",
              "      <th>25-01-20</th>\n",
              "      <td>3333.100098</td>\n",
              "      <td>3333.179932</td>\n",
              "      <td>3281.530029</td>\n",
              "      <td>3295.469971</td>\n",
              "      <td>3295.469971</td>\n",
              "      <td>3707130000</td>\n",
              "    </tr>\n",
              "    <tr>\n",
              "      <th>26-01-20</th>\n",
              "      <td>3333.100098</td>\n",
              "      <td>3333.179932</td>\n",
              "      <td>3281.530029</td>\n",
              "      <td>3295.469971</td>\n",
              "      <td>3295.469971</td>\n",
              "      <td>3707130000</td>\n",
              "    </tr>\n",
              "    <tr>\n",
              "      <th>...</th>\n",
              "      <td>...</td>\n",
              "      <td>...</td>\n",
              "      <td>...</td>\n",
              "      <td>...</td>\n",
              "      <td>...</td>\n",
              "      <td>...</td>\n",
              "    </tr>\n",
              "    <tr>\n",
              "      <th>13-04-20</th>\n",
              "      <td>2782.459961</td>\n",
              "      <td>2782.459961</td>\n",
              "      <td>2721.169922</td>\n",
              "      <td>2761.629883</td>\n",
              "      <td>2761.629883</td>\n",
              "      <td>5274310000</td>\n",
              "    </tr>\n",
              "    <tr>\n",
              "      <th>14-04-20</th>\n",
              "      <td>2805.100098</td>\n",
              "      <td>2851.850098</td>\n",
              "      <td>2805.100098</td>\n",
              "      <td>2846.060059</td>\n",
              "      <td>2846.060059</td>\n",
              "      <td>5567400000</td>\n",
              "    </tr>\n",
              "    <tr>\n",
              "      <th>15-04-20</th>\n",
              "      <td>2795.639893</td>\n",
              "      <td>2801.879883</td>\n",
              "      <td>2761.540039</td>\n",
              "      <td>2783.360107</td>\n",
              "      <td>2783.360107</td>\n",
              "      <td>5203390000</td>\n",
              "    </tr>\n",
              "    <tr>\n",
              "      <th>16-04-20</th>\n",
              "      <td>2799.340088</td>\n",
              "      <td>2806.510010</td>\n",
              "      <td>2764.320068</td>\n",
              "      <td>2799.550049</td>\n",
              "      <td>2799.550049</td>\n",
              "      <td>5179990000</td>\n",
              "    </tr>\n",
              "    <tr>\n",
              "      <th>17-04-20</th>\n",
              "      <td>2799.340088</td>\n",
              "      <td>2806.510010</td>\n",
              "      <td>2764.320068</td>\n",
              "      <td>2799.550049</td>\n",
              "      <td>2799.550049</td>\n",
              "      <td>5179990000</td>\n",
              "    </tr>\n",
              "  </tbody>\n",
              "</table>\n",
              "<p>87 rows × 6 columns</p>\n",
              "</div>"
            ],
            "text/plain": [
              "                 Open         High          Low        Close    Adj Close  \\\n",
              "Date                                                                        \n",
              "22-01-20  3330.020020  3337.770020  3320.040039  3321.750000  3321.750000   \n",
              "23-01-20  3315.770020  3326.879883  3301.870117  3325.540039  3325.540039   \n",
              "24-01-20  3333.100098  3333.179932  3281.530029  3295.469971  3295.469971   \n",
              "25-01-20  3333.100098  3333.179932  3281.530029  3295.469971  3295.469971   \n",
              "26-01-20  3333.100098  3333.179932  3281.530029  3295.469971  3295.469971   \n",
              "...               ...          ...          ...          ...          ...   \n",
              "13-04-20  2782.459961  2782.459961  2721.169922  2761.629883  2761.629883   \n",
              "14-04-20  2805.100098  2851.850098  2805.100098  2846.060059  2846.060059   \n",
              "15-04-20  2795.639893  2801.879883  2761.540039  2783.360107  2783.360107   \n",
              "16-04-20  2799.340088  2806.510010  2764.320068  2799.550049  2799.550049   \n",
              "17-04-20  2799.340088  2806.510010  2764.320068  2799.550049  2799.550049   \n",
              "\n",
              "              Volume  \n",
              "Date                  \n",
              "22-01-20  3619850000  \n",
              "23-01-20  3764860000  \n",
              "24-01-20  3707130000  \n",
              "25-01-20  3707130000  \n",
              "26-01-20  3707130000  \n",
              "...              ...  \n",
              "13-04-20  5274310000  \n",
              "14-04-20  5567400000  \n",
              "15-04-20  5203390000  \n",
              "16-04-20  5179990000  \n",
              "17-04-20  5179990000  \n",
              "\n",
              "[87 rows x 6 columns]"
            ]
          },
          "metadata": {
            "tags": []
          },
          "execution_count": 78
        }
      ]
    },
    {
      "cell_type": "code",
      "metadata": {
        "id": "rL4tOFnLiOTn",
        "colab_type": "code",
        "colab": {}
      },
      "source": [
        "gspc_plots=gspc_plots.drop(['High','Low','Close','Adj Close','Volume'], axis=1)"
      ],
      "execution_count": 0,
      "outputs": []
    },
    {
      "cell_type": "code",
      "metadata": {
        "id": "OFKAnj-hiOTq",
        "colab_type": "code",
        "outputId": "c240c2be-9ca2-4221-bc75-ecb4079bb6a3",
        "colab": {}
      },
      "source": [
        "gspc_plots"
      ],
      "execution_count": 0,
      "outputs": [
        {
          "output_type": "execute_result",
          "data": {
            "text/html": [
              "<div>\n",
              "<style scoped>\n",
              "    .dataframe tbody tr th:only-of-type {\n",
              "        vertical-align: middle;\n",
              "    }\n",
              "\n",
              "    .dataframe tbody tr th {\n",
              "        vertical-align: top;\n",
              "    }\n",
              "\n",
              "    .dataframe thead th {\n",
              "        text-align: right;\n",
              "    }\n",
              "</style>\n",
              "<table border=\"1\" class=\"dataframe\">\n",
              "  <thead>\n",
              "    <tr style=\"text-align: right;\">\n",
              "      <th></th>\n",
              "      <th>Open</th>\n",
              "    </tr>\n",
              "    <tr>\n",
              "      <th>Date</th>\n",
              "      <th></th>\n",
              "    </tr>\n",
              "  </thead>\n",
              "  <tbody>\n",
              "    <tr>\n",
              "      <th>22-01-20</th>\n",
              "      <td>3330.020020</td>\n",
              "    </tr>\n",
              "    <tr>\n",
              "      <th>23-01-20</th>\n",
              "      <td>3315.770020</td>\n",
              "    </tr>\n",
              "    <tr>\n",
              "      <th>24-01-20</th>\n",
              "      <td>3333.100098</td>\n",
              "    </tr>\n",
              "    <tr>\n",
              "      <th>25-01-20</th>\n",
              "      <td>3333.100098</td>\n",
              "    </tr>\n",
              "    <tr>\n",
              "      <th>26-01-20</th>\n",
              "      <td>3333.100098</td>\n",
              "    </tr>\n",
              "    <tr>\n",
              "      <th>...</th>\n",
              "      <td>...</td>\n",
              "    </tr>\n",
              "    <tr>\n",
              "      <th>13-04-20</th>\n",
              "      <td>2782.459961</td>\n",
              "    </tr>\n",
              "    <tr>\n",
              "      <th>14-04-20</th>\n",
              "      <td>2805.100098</td>\n",
              "    </tr>\n",
              "    <tr>\n",
              "      <th>15-04-20</th>\n",
              "      <td>2795.639893</td>\n",
              "    </tr>\n",
              "    <tr>\n",
              "      <th>16-04-20</th>\n",
              "      <td>2799.340088</td>\n",
              "    </tr>\n",
              "    <tr>\n",
              "      <th>17-04-20</th>\n",
              "      <td>2799.340088</td>\n",
              "    </tr>\n",
              "  </tbody>\n",
              "</table>\n",
              "<p>87 rows × 1 columns</p>\n",
              "</div>"
            ],
            "text/plain": [
              "                 Open\n",
              "Date                 \n",
              "22-01-20  3330.020020\n",
              "23-01-20  3315.770020\n",
              "24-01-20  3333.100098\n",
              "25-01-20  3333.100098\n",
              "26-01-20  3333.100098\n",
              "...               ...\n",
              "13-04-20  2782.459961\n",
              "14-04-20  2805.100098\n",
              "15-04-20  2795.639893\n",
              "16-04-20  2799.340088\n",
              "17-04-20  2799.340088\n",
              "\n",
              "[87 rows x 1 columns]"
            ]
          },
          "metadata": {
            "tags": []
          },
          "execution_count": 80
        }
      ]
    },
    {
      "cell_type": "markdown",
      "metadata": {
        "id": "7EsfGz78iOTt",
        "colab_type": "text"
      },
      "source": [
        "### Fixing Nifty-50 for plottings"
      ]
    },
    {
      "cell_type": "code",
      "metadata": {
        "id": "NlBzyM9jiOTu",
        "colab_type": "code",
        "outputId": "018f7311-72b5-4aa7-8bf6-2f00d6a6cfb6",
        "colab": {}
      },
      "source": [
        "nifty.head()"
      ],
      "execution_count": 0,
      "outputs": [
        {
          "output_type": "execute_result",
          "data": {
            "text/html": [
              "<div>\n",
              "<style scoped>\n",
              "    .dataframe tbody tr th:only-of-type {\n",
              "        vertical-align: middle;\n",
              "    }\n",
              "\n",
              "    .dataframe tbody tr th {\n",
              "        vertical-align: top;\n",
              "    }\n",
              "\n",
              "    .dataframe thead th {\n",
              "        text-align: right;\n",
              "    }\n",
              "</style>\n",
              "<table border=\"1\" class=\"dataframe\">\n",
              "  <thead>\n",
              "    <tr style=\"text-align: right;\">\n",
              "      <th></th>\n",
              "      <th>Date</th>\n",
              "      <th>Open</th>\n",
              "      <th>High</th>\n",
              "      <th>Low</th>\n",
              "      <th>Close</th>\n",
              "      <th>Adj Close</th>\n",
              "      <th>Volume</th>\n",
              "    </tr>\n",
              "  </thead>\n",
              "  <tbody>\n",
              "    <tr>\n",
              "      <th>0</th>\n",
              "      <td>22-01-19</td>\n",
              "      <td>10949.79981</td>\n",
              "      <td>10949.79981</td>\n",
              "      <td>10864.15039</td>\n",
              "      <td>10922.75000</td>\n",
              "      <td>10922.75000</td>\n",
              "      <td>300800.0</td>\n",
              "    </tr>\n",
              "    <tr>\n",
              "      <th>1</th>\n",
              "      <td>23-01-19</td>\n",
              "      <td>10931.04981</td>\n",
              "      <td>10944.79981</td>\n",
              "      <td>10811.95020</td>\n",
              "      <td>10831.50000</td>\n",
              "      <td>10831.50000</td>\n",
              "      <td>298900.0</td>\n",
              "    </tr>\n",
              "    <tr>\n",
              "      <th>2</th>\n",
              "      <td>24-01-19</td>\n",
              "      <td>10844.04981</td>\n",
              "      <td>10866.59961</td>\n",
              "      <td>10798.65039</td>\n",
              "      <td>10849.79981</td>\n",
              "      <td>10849.79981</td>\n",
              "      <td>361100.0</td>\n",
              "    </tr>\n",
              "    <tr>\n",
              "      <th>3</th>\n",
              "      <td>25-01-19</td>\n",
              "      <td>10859.75000</td>\n",
              "      <td>10931.70020</td>\n",
              "      <td>10756.45020</td>\n",
              "      <td>10780.54981</td>\n",
              "      <td>10780.54981</td>\n",
              "      <td>463400.0</td>\n",
              "    </tr>\n",
              "    <tr>\n",
              "      <th>4</th>\n",
              "      <td>28-01-19</td>\n",
              "      <td>10792.45020</td>\n",
              "      <td>10804.45020</td>\n",
              "      <td>10630.95020</td>\n",
              "      <td>10661.54981</td>\n",
              "      <td>10661.54981</td>\n",
              "      <td>419700.0</td>\n",
              "    </tr>\n",
              "  </tbody>\n",
              "</table>\n",
              "</div>"
            ],
            "text/plain": [
              "       Date         Open         High          Low        Close    Adj Close  \\\n",
              "0  22-01-19  10949.79981  10949.79981  10864.15039  10922.75000  10922.75000   \n",
              "1  23-01-19  10931.04981  10944.79981  10811.95020  10831.50000  10831.50000   \n",
              "2  24-01-19  10844.04981  10866.59961  10798.65039  10849.79981  10849.79981   \n",
              "3  25-01-19  10859.75000  10931.70020  10756.45020  10780.54981  10780.54981   \n",
              "4  28-01-19  10792.45020  10804.45020  10630.95020  10661.54981  10661.54981   \n",
              "\n",
              "     Volume  \n",
              "0  300800.0  \n",
              "1  298900.0  \n",
              "2  361100.0  \n",
              "3  463400.0  \n",
              "4  419700.0  "
            ]
          },
          "metadata": {
            "tags": []
          },
          "execution_count": 81
        }
      ]
    },
    {
      "cell_type": "code",
      "metadata": {
        "id": "SQPFsiyyiOTx",
        "colab_type": "code",
        "outputId": "514274c7-7516-44d8-b0df-623752e32fa7",
        "colab": {}
      },
      "source": [
        "nifty.loc[nifty['Date']=='22-01-20'].index.values"
      ],
      "execution_count": 0,
      "outputs": [
        {
          "output_type": "execute_result",
          "data": {
            "text/plain": [
              "array([243])"
            ]
          },
          "metadata": {
            "tags": []
          },
          "execution_count": 82
        }
      ]
    },
    {
      "cell_type": "code",
      "metadata": {
        "id": "SavrlG0JiOTz",
        "colab_type": "code",
        "outputId": "25d77b63-fd72-4284-9275-4bdf09a333ef",
        "colab": {}
      },
      "source": [
        "nifty.iloc[243,:]"
      ],
      "execution_count": 0,
      "outputs": [
        {
          "output_type": "execute_result",
          "data": {
            "text/plain": [
              "Date         22-01-20\n",
              "Open          12218.3\n",
              "High            12225\n",
              "Low           12087.9\n",
              "Close         12106.9\n",
              "Adj Close     12106.9\n",
              "Volume            500\n",
              "Name: 243, dtype: object"
            ]
          },
          "metadata": {
            "tags": []
          },
          "execution_count": 83
        }
      ]
    },
    {
      "cell_type": "code",
      "metadata": {
        "id": "NLVzBxAviOT2",
        "colab_type": "code",
        "colab": {}
      },
      "source": [
        "nifty_plots=nifty.iloc[243:,:].reset_index(drop=True)\n",
        "nifty_plots=nifty_plots.set_index('Date')"
      ],
      "execution_count": 0,
      "outputs": []
    },
    {
      "cell_type": "code",
      "metadata": {
        "id": "tXG442RSiOT4",
        "colab_type": "code",
        "colab": {}
      },
      "source": [
        "nifty_plots=nifty_plots.drop(['High','Low','Close','Adj Close','Volume'], axis=1)"
      ],
      "execution_count": 0,
      "outputs": []
    },
    {
      "cell_type": "code",
      "metadata": {
        "id": "Hzoeix3miOT8",
        "colab_type": "code",
        "outputId": "23dd0911-5a2f-4ba1-bf55-2ee3a2cfb8a1",
        "colab": {}
      },
      "source": [
        "nifty_plots"
      ],
      "execution_count": 0,
      "outputs": [
        {
          "output_type": "execute_result",
          "data": {
            "text/html": [
              "<div>\n",
              "<style scoped>\n",
              "    .dataframe tbody tr th:only-of-type {\n",
              "        vertical-align: middle;\n",
              "    }\n",
              "\n",
              "    .dataframe tbody tr th {\n",
              "        vertical-align: top;\n",
              "    }\n",
              "\n",
              "    .dataframe thead th {\n",
              "        text-align: right;\n",
              "    }\n",
              "</style>\n",
              "<table border=\"1\" class=\"dataframe\">\n",
              "  <thead>\n",
              "    <tr style=\"text-align: right;\">\n",
              "      <th></th>\n",
              "      <th>Open</th>\n",
              "    </tr>\n",
              "    <tr>\n",
              "      <th>Date</th>\n",
              "      <th></th>\n",
              "    </tr>\n",
              "  </thead>\n",
              "  <tbody>\n",
              "    <tr>\n",
              "      <th>22-01-20</th>\n",
              "      <td>12218.349610</td>\n",
              "    </tr>\n",
              "    <tr>\n",
              "      <th>23-01-20</th>\n",
              "      <td>12123.750000</td>\n",
              "    </tr>\n",
              "    <tr>\n",
              "      <th>24-01-20</th>\n",
              "      <td>12174.549810</td>\n",
              "    </tr>\n",
              "    <tr>\n",
              "      <th>25-01-20</th>\n",
              "      <td>12174.549810</td>\n",
              "    </tr>\n",
              "    <tr>\n",
              "      <th>26-01-20</th>\n",
              "      <td>12174.549810</td>\n",
              "    </tr>\n",
              "    <tr>\n",
              "      <th>...</th>\n",
              "      <td>...</td>\n",
              "    </tr>\n",
              "    <tr>\n",
              "      <th>13-04-20</th>\n",
              "      <td>9103.950195</td>\n",
              "    </tr>\n",
              "    <tr>\n",
              "      <th>14-04-20</th>\n",
              "      <td>9103.950195</td>\n",
              "    </tr>\n",
              "    <tr>\n",
              "      <th>15-04-20</th>\n",
              "      <td>9196.400391</td>\n",
              "    </tr>\n",
              "    <tr>\n",
              "      <th>16-04-20</th>\n",
              "      <td>8851.250000</td>\n",
              "    </tr>\n",
              "    <tr>\n",
              "      <th>17-04-20</th>\n",
              "      <td>9323.450195</td>\n",
              "    </tr>\n",
              "  </tbody>\n",
              "</table>\n",
              "<p>87 rows × 1 columns</p>\n",
              "</div>"
            ],
            "text/plain": [
              "                  Open\n",
              "Date                  \n",
              "22-01-20  12218.349610\n",
              "23-01-20  12123.750000\n",
              "24-01-20  12174.549810\n",
              "25-01-20  12174.549810\n",
              "26-01-20  12174.549810\n",
              "...                ...\n",
              "13-04-20   9103.950195\n",
              "14-04-20   9103.950195\n",
              "15-04-20   9196.400391\n",
              "16-04-20   8851.250000\n",
              "17-04-20   9323.450195\n",
              "\n",
              "[87 rows x 1 columns]"
            ]
          },
          "metadata": {
            "tags": []
          },
          "execution_count": 86
        }
      ]
    },
    {
      "cell_type": "markdown",
      "metadata": {
        "id": "xz8IxaRjiOT_",
        "colab_type": "text"
      },
      "source": [
        "### fixing Shanghai- composite for plottings\n"
      ]
    },
    {
      "cell_type": "code",
      "metadata": {
        "id": "dOIHTcrGiOT_",
        "colab_type": "code",
        "outputId": "4706e354-be63-451f-fa94-b16204401440",
        "colab": {}
      },
      "source": [
        "shanghai_composite.head()"
      ],
      "execution_count": 0,
      "outputs": [
        {
          "output_type": "execute_result",
          "data": {
            "text/html": [
              "<div>\n",
              "<style scoped>\n",
              "    .dataframe tbody tr th:only-of-type {\n",
              "        vertical-align: middle;\n",
              "    }\n",
              "\n",
              "    .dataframe tbody tr th {\n",
              "        vertical-align: top;\n",
              "    }\n",
              "\n",
              "    .dataframe thead th {\n",
              "        text-align: right;\n",
              "    }\n",
              "</style>\n",
              "<table border=\"1\" class=\"dataframe\">\n",
              "  <thead>\n",
              "    <tr style=\"text-align: right;\">\n",
              "      <th></th>\n",
              "      <th>Date</th>\n",
              "      <th>Open</th>\n",
              "      <th>High</th>\n",
              "      <th>Low</th>\n",
              "      <th>Close</th>\n",
              "      <th>Adj Close</th>\n",
              "      <th>Volume</th>\n",
              "    </tr>\n",
              "  </thead>\n",
              "  <tbody>\n",
              "    <tr>\n",
              "      <th>0</th>\n",
              "      <td>22-01-19</td>\n",
              "      <td>2609.642090</td>\n",
              "      <td>2609.642090</td>\n",
              "      <td>2573.062012</td>\n",
              "      <td>2579.704102</td>\n",
              "      <td>2579.704102</td>\n",
              "      <td>152500.0</td>\n",
              "    </tr>\n",
              "    <tr>\n",
              "      <th>1</th>\n",
              "      <td>23-01-19</td>\n",
              "      <td>2575.258057</td>\n",
              "      <td>2589.512939</td>\n",
              "      <td>2572.405029</td>\n",
              "      <td>2581.003906</td>\n",
              "      <td>2581.003906</td>\n",
              "      <td>131400.0</td>\n",
              "    </tr>\n",
              "    <tr>\n",
              "      <th>2</th>\n",
              "      <td>24-01-19</td>\n",
              "      <td>2584.647949</td>\n",
              "      <td>2597.289063</td>\n",
              "      <td>2569.699951</td>\n",
              "      <td>2591.694092</td>\n",
              "      <td>2591.694092</td>\n",
              "      <td>154000.0</td>\n",
              "    </tr>\n",
              "    <tr>\n",
              "      <th>3</th>\n",
              "      <td>25-01-19</td>\n",
              "      <td>2596.261963</td>\n",
              "      <td>2617.001953</td>\n",
              "      <td>2595.628906</td>\n",
              "      <td>2601.722900</td>\n",
              "      <td>2601.722900</td>\n",
              "      <td>159400.0</td>\n",
              "    </tr>\n",
              "    <tr>\n",
              "      <th>4</th>\n",
              "      <td>28-01-19</td>\n",
              "      <td>2615.711914</td>\n",
              "      <td>2630.318115</td>\n",
              "      <td>2591.100098</td>\n",
              "      <td>2596.977051</td>\n",
              "      <td>2596.977051</td>\n",
              "      <td>147000.0</td>\n",
              "    </tr>\n",
              "  </tbody>\n",
              "</table>\n",
              "</div>"
            ],
            "text/plain": [
              "       Date         Open         High          Low        Close    Adj Close  \\\n",
              "0  22-01-19  2609.642090  2609.642090  2573.062012  2579.704102  2579.704102   \n",
              "1  23-01-19  2575.258057  2589.512939  2572.405029  2581.003906  2581.003906   \n",
              "2  24-01-19  2584.647949  2597.289063  2569.699951  2591.694092  2591.694092   \n",
              "3  25-01-19  2596.261963  2617.001953  2595.628906  2601.722900  2601.722900   \n",
              "4  28-01-19  2615.711914  2630.318115  2591.100098  2596.977051  2596.977051   \n",
              "\n",
              "     Volume  \n",
              "0  152500.0  \n",
              "1  131400.0  \n",
              "2  154000.0  \n",
              "3  159400.0  \n",
              "4  147000.0  "
            ]
          },
          "metadata": {
            "tags": []
          },
          "execution_count": 87
        }
      ]
    },
    {
      "cell_type": "code",
      "metadata": {
        "id": "tmdObXoDiOUB",
        "colab_type": "code",
        "outputId": "d6e7c42f-eb93-447c-96db-7a67b9665bf1",
        "colab": {}
      },
      "source": [
        "shanghai_composite.loc[shanghai_composite['Date']=='22-01-20'].index.values"
      ],
      "execution_count": 0,
      "outputs": [
        {
          "output_type": "execute_result",
          "data": {
            "text/plain": [
              "array([242])"
            ]
          },
          "metadata": {
            "tags": []
          },
          "execution_count": 88
        }
      ]
    },
    {
      "cell_type": "code",
      "metadata": {
        "id": "XNEiW9O4iOUD",
        "colab_type": "code",
        "outputId": "02abb751-6c42-48c5-da6f-38ee4be3071e",
        "colab": {}
      },
      "source": [
        "shanghai_composite.iloc[242,:]"
      ],
      "execution_count": 0,
      "outputs": [
        {
          "output_type": "execute_result",
          "data": {
            "text/plain": [
              "Date         22-01-20\n",
              "Open          3038.49\n",
              "High          3069.25\n",
              "Low           3006.27\n",
              "Close         3060.75\n",
              "Adj Close     3060.75\n",
              "Volume         223900\n",
              "Name: 242, dtype: object"
            ]
          },
          "metadata": {
            "tags": []
          },
          "execution_count": 89
        }
      ]
    },
    {
      "cell_type": "code",
      "metadata": {
        "id": "FEE59Vl5iOUF",
        "colab_type": "code",
        "colab": {}
      },
      "source": [
        "shanghai_composite_plots=shanghai_composite.iloc[242:,:].reset_index(drop=True)\n",
        "shanghai_composite_plots=shanghai_composite_plots.set_index('Date')"
      ],
      "execution_count": 0,
      "outputs": []
    },
    {
      "cell_type": "code",
      "metadata": {
        "id": "XdlRPsmsiOUH",
        "colab_type": "code",
        "colab": {}
      },
      "source": [
        "shanghai_composite_plots=shanghai_composite_plots.drop(['High','Low','Close','Adj Close','Volume'], axis=1)"
      ],
      "execution_count": 0,
      "outputs": []
    },
    {
      "cell_type": "code",
      "metadata": {
        "id": "faimZQN5iOUJ",
        "colab_type": "code",
        "outputId": "4f313585-2ee3-4e0a-de81-fdc7f41305d9",
        "colab": {}
      },
      "source": [
        "shanghai_composite_plots"
      ],
      "execution_count": 0,
      "outputs": [
        {
          "output_type": "execute_result",
          "data": {
            "text/html": [
              "<div>\n",
              "<style scoped>\n",
              "    .dataframe tbody tr th:only-of-type {\n",
              "        vertical-align: middle;\n",
              "    }\n",
              "\n",
              "    .dataframe tbody tr th {\n",
              "        vertical-align: top;\n",
              "    }\n",
              "\n",
              "    .dataframe thead th {\n",
              "        text-align: right;\n",
              "    }\n",
              "</style>\n",
              "<table border=\"1\" class=\"dataframe\">\n",
              "  <thead>\n",
              "    <tr style=\"text-align: right;\">\n",
              "      <th></th>\n",
              "      <th>Open</th>\n",
              "    </tr>\n",
              "    <tr>\n",
              "      <th>Date</th>\n",
              "      <th></th>\n",
              "    </tr>\n",
              "  </thead>\n",
              "  <tbody>\n",
              "    <tr>\n",
              "      <th>22-01-20</th>\n",
              "      <td>3038.487061</td>\n",
              "    </tr>\n",
              "    <tr>\n",
              "      <th>23-01-20</th>\n",
              "      <td>3037.951904</td>\n",
              "    </tr>\n",
              "    <tr>\n",
              "      <th>24-01-20</th>\n",
              "      <td>3037.951904</td>\n",
              "    </tr>\n",
              "    <tr>\n",
              "      <th>25-01-20</th>\n",
              "      <td>3037.951904</td>\n",
              "    </tr>\n",
              "    <tr>\n",
              "      <th>26-01-20</th>\n",
              "      <td>3037.951904</td>\n",
              "    </tr>\n",
              "    <tr>\n",
              "      <th>...</th>\n",
              "      <td>...</td>\n",
              "    </tr>\n",
              "    <tr>\n",
              "      <th>13-04-20</th>\n",
              "      <td>2784.597900</td>\n",
              "    </tr>\n",
              "    <tr>\n",
              "      <th>14-04-20</th>\n",
              "      <td>2794.801025</td>\n",
              "    </tr>\n",
              "    <tr>\n",
              "      <th>15-04-20</th>\n",
              "      <td>2826.662109</td>\n",
              "    </tr>\n",
              "    <tr>\n",
              "      <th>16-04-20</th>\n",
              "      <td>2798.429932</td>\n",
              "    </tr>\n",
              "    <tr>\n",
              "      <th>17-04-20</th>\n",
              "      <td>2798.429932</td>\n",
              "    </tr>\n",
              "  </tbody>\n",
              "</table>\n",
              "<p>87 rows × 1 columns</p>\n",
              "</div>"
            ],
            "text/plain": [
              "                 Open\n",
              "Date                 \n",
              "22-01-20  3038.487061\n",
              "23-01-20  3037.951904\n",
              "24-01-20  3037.951904\n",
              "25-01-20  3037.951904\n",
              "26-01-20  3037.951904\n",
              "...               ...\n",
              "13-04-20  2784.597900\n",
              "14-04-20  2794.801025\n",
              "15-04-20  2826.662109\n",
              "16-04-20  2798.429932\n",
              "17-04-20  2798.429932\n",
              "\n",
              "[87 rows x 1 columns]"
            ]
          },
          "metadata": {
            "tags": []
          },
          "execution_count": 92
        }
      ]
    },
    {
      "cell_type": "markdown",
      "metadata": {
        "id": "eGZ5X9IRiOUP",
        "colab_type": "text"
      },
      "source": [
        "### combining Individual indexes {Open Price}--"
      ]
    },
    {
      "cell_type": "code",
      "metadata": {
        "id": "umTEpwVhiOUP",
        "colab_type": "code",
        "colab": {}
      },
      "source": [
        "stock_3=gspc_plots\n",
        "stock_3=stock_3.rename(columns={\"Open\": \"GSPC\"})\n",
        "stock_3['NIFTY']=nifty_plots['Open']\n",
        "stock_3['SHANGHAI COMPOSITE']=shanghai_composite_plots['Open']"
      ],
      "execution_count": 0,
      "outputs": []
    },
    {
      "cell_type": "code",
      "metadata": {
        "id": "nG1dUf8ziOUR",
        "colab_type": "code",
        "outputId": "b31b8589-8edc-4b4a-a4cc-8acfc3f7ca04",
        "colab": {}
      },
      "source": [
        "stock_3"
      ],
      "execution_count": 0,
      "outputs": [
        {
          "output_type": "execute_result",
          "data": {
            "text/html": [
              "<div>\n",
              "<style scoped>\n",
              "    .dataframe tbody tr th:only-of-type {\n",
              "        vertical-align: middle;\n",
              "    }\n",
              "\n",
              "    .dataframe tbody tr th {\n",
              "        vertical-align: top;\n",
              "    }\n",
              "\n",
              "    .dataframe thead th {\n",
              "        text-align: right;\n",
              "    }\n",
              "</style>\n",
              "<table border=\"1\" class=\"dataframe\">\n",
              "  <thead>\n",
              "    <tr style=\"text-align: right;\">\n",
              "      <th></th>\n",
              "      <th>GSPC</th>\n",
              "      <th>NIFTY</th>\n",
              "      <th>SHANGHAI COMPOSITE</th>\n",
              "    </tr>\n",
              "    <tr>\n",
              "      <th>Date</th>\n",
              "      <th></th>\n",
              "      <th></th>\n",
              "      <th></th>\n",
              "    </tr>\n",
              "  </thead>\n",
              "  <tbody>\n",
              "    <tr>\n",
              "      <th>22-01-20</th>\n",
              "      <td>3330.020020</td>\n",
              "      <td>12218.349610</td>\n",
              "      <td>3038.487061</td>\n",
              "    </tr>\n",
              "    <tr>\n",
              "      <th>23-01-20</th>\n",
              "      <td>3315.770020</td>\n",
              "      <td>12123.750000</td>\n",
              "      <td>3037.951904</td>\n",
              "    </tr>\n",
              "    <tr>\n",
              "      <th>24-01-20</th>\n",
              "      <td>3333.100098</td>\n",
              "      <td>12174.549810</td>\n",
              "      <td>3037.951904</td>\n",
              "    </tr>\n",
              "    <tr>\n",
              "      <th>25-01-20</th>\n",
              "      <td>3333.100098</td>\n",
              "      <td>12174.549810</td>\n",
              "      <td>3037.951904</td>\n",
              "    </tr>\n",
              "    <tr>\n",
              "      <th>26-01-20</th>\n",
              "      <td>3333.100098</td>\n",
              "      <td>12174.549810</td>\n",
              "      <td>3037.951904</td>\n",
              "    </tr>\n",
              "    <tr>\n",
              "      <th>...</th>\n",
              "      <td>...</td>\n",
              "      <td>...</td>\n",
              "      <td>...</td>\n",
              "    </tr>\n",
              "    <tr>\n",
              "      <th>13-04-20</th>\n",
              "      <td>2782.459961</td>\n",
              "      <td>9103.950195</td>\n",
              "      <td>2784.597900</td>\n",
              "    </tr>\n",
              "    <tr>\n",
              "      <th>14-04-20</th>\n",
              "      <td>2805.100098</td>\n",
              "      <td>9103.950195</td>\n",
              "      <td>2794.801025</td>\n",
              "    </tr>\n",
              "    <tr>\n",
              "      <th>15-04-20</th>\n",
              "      <td>2795.639893</td>\n",
              "      <td>9196.400391</td>\n",
              "      <td>2826.662109</td>\n",
              "    </tr>\n",
              "    <tr>\n",
              "      <th>16-04-20</th>\n",
              "      <td>2799.340088</td>\n",
              "      <td>8851.250000</td>\n",
              "      <td>2798.429932</td>\n",
              "    </tr>\n",
              "    <tr>\n",
              "      <th>17-04-20</th>\n",
              "      <td>2799.340088</td>\n",
              "      <td>9323.450195</td>\n",
              "      <td>2798.429932</td>\n",
              "    </tr>\n",
              "  </tbody>\n",
              "</table>\n",
              "<p>87 rows × 3 columns</p>\n",
              "</div>"
            ],
            "text/plain": [
              "                 GSPC         NIFTY  SHANGHAI COMPOSITE\n",
              "Date                                                   \n",
              "22-01-20  3330.020020  12218.349610         3038.487061\n",
              "23-01-20  3315.770020  12123.750000         3037.951904\n",
              "24-01-20  3333.100098  12174.549810         3037.951904\n",
              "25-01-20  3333.100098  12174.549810         3037.951904\n",
              "26-01-20  3333.100098  12174.549810         3037.951904\n",
              "...               ...           ...                 ...\n",
              "13-04-20  2782.459961   9103.950195         2784.597900\n",
              "14-04-20  2805.100098   9103.950195         2794.801025\n",
              "15-04-20  2795.639893   9196.400391         2826.662109\n",
              "16-04-20  2799.340088   8851.250000         2798.429932\n",
              "17-04-20  2799.340088   9323.450195         2798.429932\n",
              "\n",
              "[87 rows x 3 columns]"
            ]
          },
          "metadata": {
            "tags": []
          },
          "execution_count": 94
        }
      ]
    },
    {
      "cell_type": "code",
      "metadata": {
        "id": "BqOKamaJiOUT",
        "colab_type": "code",
        "colab": {}
      },
      "source": [
        "stock_3=stock_3.reset_index(drop=False)"
      ],
      "execution_count": 0,
      "outputs": []
    },
    {
      "cell_type": "code",
      "metadata": {
        "id": "Z4KsTqWSiOUV",
        "colab_type": "code",
        "outputId": "0b81551f-0ed6-42fc-9453-c03dcae8ec2f",
        "colab": {}
      },
      "source": [
        "stock_3"
      ],
      "execution_count": 0,
      "outputs": [
        {
          "output_type": "execute_result",
          "data": {
            "text/html": [
              "<div>\n",
              "<style scoped>\n",
              "    .dataframe tbody tr th:only-of-type {\n",
              "        vertical-align: middle;\n",
              "    }\n",
              "\n",
              "    .dataframe tbody tr th {\n",
              "        vertical-align: top;\n",
              "    }\n",
              "\n",
              "    .dataframe thead th {\n",
              "        text-align: right;\n",
              "    }\n",
              "</style>\n",
              "<table border=\"1\" class=\"dataframe\">\n",
              "  <thead>\n",
              "    <tr style=\"text-align: right;\">\n",
              "      <th></th>\n",
              "      <th>Date</th>\n",
              "      <th>GSPC</th>\n",
              "      <th>NIFTY</th>\n",
              "      <th>SHANGHAI COMPOSITE</th>\n",
              "    </tr>\n",
              "  </thead>\n",
              "  <tbody>\n",
              "    <tr>\n",
              "      <th>0</th>\n",
              "      <td>22-01-20</td>\n",
              "      <td>3330.020020</td>\n",
              "      <td>12218.349610</td>\n",
              "      <td>3038.487061</td>\n",
              "    </tr>\n",
              "    <tr>\n",
              "      <th>1</th>\n",
              "      <td>23-01-20</td>\n",
              "      <td>3315.770020</td>\n",
              "      <td>12123.750000</td>\n",
              "      <td>3037.951904</td>\n",
              "    </tr>\n",
              "    <tr>\n",
              "      <th>2</th>\n",
              "      <td>24-01-20</td>\n",
              "      <td>3333.100098</td>\n",
              "      <td>12174.549810</td>\n",
              "      <td>3037.951904</td>\n",
              "    </tr>\n",
              "    <tr>\n",
              "      <th>3</th>\n",
              "      <td>25-01-20</td>\n",
              "      <td>3333.100098</td>\n",
              "      <td>12174.549810</td>\n",
              "      <td>3037.951904</td>\n",
              "    </tr>\n",
              "    <tr>\n",
              "      <th>4</th>\n",
              "      <td>26-01-20</td>\n",
              "      <td>3333.100098</td>\n",
              "      <td>12174.549810</td>\n",
              "      <td>3037.951904</td>\n",
              "    </tr>\n",
              "    <tr>\n",
              "      <th>...</th>\n",
              "      <td>...</td>\n",
              "      <td>...</td>\n",
              "      <td>...</td>\n",
              "      <td>...</td>\n",
              "    </tr>\n",
              "    <tr>\n",
              "      <th>82</th>\n",
              "      <td>13-04-20</td>\n",
              "      <td>2782.459961</td>\n",
              "      <td>9103.950195</td>\n",
              "      <td>2784.597900</td>\n",
              "    </tr>\n",
              "    <tr>\n",
              "      <th>83</th>\n",
              "      <td>14-04-20</td>\n",
              "      <td>2805.100098</td>\n",
              "      <td>9103.950195</td>\n",
              "      <td>2794.801025</td>\n",
              "    </tr>\n",
              "    <tr>\n",
              "      <th>84</th>\n",
              "      <td>15-04-20</td>\n",
              "      <td>2795.639893</td>\n",
              "      <td>9196.400391</td>\n",
              "      <td>2826.662109</td>\n",
              "    </tr>\n",
              "    <tr>\n",
              "      <th>85</th>\n",
              "      <td>16-04-20</td>\n",
              "      <td>2799.340088</td>\n",
              "      <td>8851.250000</td>\n",
              "      <td>2798.429932</td>\n",
              "    </tr>\n",
              "    <tr>\n",
              "      <th>86</th>\n",
              "      <td>17-04-20</td>\n",
              "      <td>2799.340088</td>\n",
              "      <td>9323.450195</td>\n",
              "      <td>2798.429932</td>\n",
              "    </tr>\n",
              "  </tbody>\n",
              "</table>\n",
              "<p>87 rows × 4 columns</p>\n",
              "</div>"
            ],
            "text/plain": [
              "        Date         GSPC         NIFTY  SHANGHAI COMPOSITE\n",
              "0   22-01-20  3330.020020  12218.349610         3038.487061\n",
              "1   23-01-20  3315.770020  12123.750000         3037.951904\n",
              "2   24-01-20  3333.100098  12174.549810         3037.951904\n",
              "3   25-01-20  3333.100098  12174.549810         3037.951904\n",
              "4   26-01-20  3333.100098  12174.549810         3037.951904\n",
              "..       ...          ...           ...                 ...\n",
              "82  13-04-20  2782.459961   9103.950195         2784.597900\n",
              "83  14-04-20  2805.100098   9103.950195         2794.801025\n",
              "84  15-04-20  2795.639893   9196.400391         2826.662109\n",
              "85  16-04-20  2799.340088   8851.250000         2798.429932\n",
              "86  17-04-20  2799.340088   9323.450195         2798.429932\n",
              "\n",
              "[87 rows x 4 columns]"
            ]
          },
          "metadata": {
            "tags": []
          },
          "execution_count": 96
        }
      ]
    },
    {
      "cell_type": "markdown",
      "metadata": {
        "id": "WIFrJTyxiOUX",
        "colab_type": "text"
      },
      "source": [
        "#### creating a copy of stock_3 for later predictions"
      ]
    },
    {
      "cell_type": "code",
      "metadata": {
        "id": "B1ZxrXTKiOUX",
        "colab_type": "code",
        "colab": {}
      },
      "source": [
        "demo_stock=stock_3"
      ],
      "execution_count": 0,
      "outputs": []
    },
    {
      "cell_type": "code",
      "metadata": {
        "id": "_LQv2BzeiOUb",
        "colab_type": "code",
        "colab": {}
      },
      "source": [
        "demo_stock=demo_stock.iloc[:,1:]"
      ],
      "execution_count": 0,
      "outputs": []
    },
    {
      "cell_type": "code",
      "metadata": {
        "id": "FFNagHmNiOUd",
        "colab_type": "code",
        "outputId": "c46d9d34-a647-408a-844d-2ba751cbdaa3",
        "colab": {}
      },
      "source": [
        "demo_stock"
      ],
      "execution_count": 0,
      "outputs": [
        {
          "output_type": "execute_result",
          "data": {
            "text/html": [
              "<div>\n",
              "<style scoped>\n",
              "    .dataframe tbody tr th:only-of-type {\n",
              "        vertical-align: middle;\n",
              "    }\n",
              "\n",
              "    .dataframe tbody tr th {\n",
              "        vertical-align: top;\n",
              "    }\n",
              "\n",
              "    .dataframe thead th {\n",
              "        text-align: right;\n",
              "    }\n",
              "</style>\n",
              "<table border=\"1\" class=\"dataframe\">\n",
              "  <thead>\n",
              "    <tr style=\"text-align: right;\">\n",
              "      <th></th>\n",
              "      <th>GSPC</th>\n",
              "      <th>NIFTY</th>\n",
              "      <th>SHANGHAI COMPOSITE</th>\n",
              "    </tr>\n",
              "  </thead>\n",
              "  <tbody>\n",
              "    <tr>\n",
              "      <th>0</th>\n",
              "      <td>3330.020020</td>\n",
              "      <td>12218.349610</td>\n",
              "      <td>3038.487061</td>\n",
              "    </tr>\n",
              "    <tr>\n",
              "      <th>1</th>\n",
              "      <td>3315.770020</td>\n",
              "      <td>12123.750000</td>\n",
              "      <td>3037.951904</td>\n",
              "    </tr>\n",
              "    <tr>\n",
              "      <th>2</th>\n",
              "      <td>3333.100098</td>\n",
              "      <td>12174.549810</td>\n",
              "      <td>3037.951904</td>\n",
              "    </tr>\n",
              "    <tr>\n",
              "      <th>3</th>\n",
              "      <td>3333.100098</td>\n",
              "      <td>12174.549810</td>\n",
              "      <td>3037.951904</td>\n",
              "    </tr>\n",
              "    <tr>\n",
              "      <th>4</th>\n",
              "      <td>3333.100098</td>\n",
              "      <td>12174.549810</td>\n",
              "      <td>3037.951904</td>\n",
              "    </tr>\n",
              "    <tr>\n",
              "      <th>...</th>\n",
              "      <td>...</td>\n",
              "      <td>...</td>\n",
              "      <td>...</td>\n",
              "    </tr>\n",
              "    <tr>\n",
              "      <th>82</th>\n",
              "      <td>2782.459961</td>\n",
              "      <td>9103.950195</td>\n",
              "      <td>2784.597900</td>\n",
              "    </tr>\n",
              "    <tr>\n",
              "      <th>83</th>\n",
              "      <td>2805.100098</td>\n",
              "      <td>9103.950195</td>\n",
              "      <td>2794.801025</td>\n",
              "    </tr>\n",
              "    <tr>\n",
              "      <th>84</th>\n",
              "      <td>2795.639893</td>\n",
              "      <td>9196.400391</td>\n",
              "      <td>2826.662109</td>\n",
              "    </tr>\n",
              "    <tr>\n",
              "      <th>85</th>\n",
              "      <td>2799.340088</td>\n",
              "      <td>8851.250000</td>\n",
              "      <td>2798.429932</td>\n",
              "    </tr>\n",
              "    <tr>\n",
              "      <th>86</th>\n",
              "      <td>2799.340088</td>\n",
              "      <td>9323.450195</td>\n",
              "      <td>2798.429932</td>\n",
              "    </tr>\n",
              "  </tbody>\n",
              "</table>\n",
              "<p>87 rows × 3 columns</p>\n",
              "</div>"
            ],
            "text/plain": [
              "           GSPC         NIFTY  SHANGHAI COMPOSITE\n",
              "0   3330.020020  12218.349610         3038.487061\n",
              "1   3315.770020  12123.750000         3037.951904\n",
              "2   3333.100098  12174.549810         3037.951904\n",
              "3   3333.100098  12174.549810         3037.951904\n",
              "4   3333.100098  12174.549810         3037.951904\n",
              "..          ...           ...                 ...\n",
              "82  2782.459961   9103.950195         2784.597900\n",
              "83  2805.100098   9103.950195         2794.801025\n",
              "84  2795.639893   9196.400391         2826.662109\n",
              "85  2799.340088   8851.250000         2798.429932\n",
              "86  2799.340088   9323.450195         2798.429932\n",
              "\n",
              "[87 rows x 3 columns]"
            ]
          },
          "metadata": {
            "tags": []
          },
          "execution_count": 99
        }
      ]
    },
    {
      "cell_type": "code",
      "metadata": {
        "id": "S_YHimHZiOUf",
        "colab_type": "code",
        "colab": {}
      },
      "source": [
        "from sklearn.preprocessing import StandardScaler\n",
        "scaler=StandardScaler()\n",
        "\n",
        "Normalized_stocks=scaler.fit_transform(demo_stock)\n",
        "Normalized_stocks=pd.DataFrame(Normalized_stocks)\n",
        "Normalized_stocks['Date']=stock_3['Date']"
      ],
      "execution_count": 0,
      "outputs": []
    },
    {
      "cell_type": "code",
      "metadata": {
        "id": "xs_eY6_tiOUh",
        "colab_type": "code",
        "outputId": "b300e388-7626-4552-906d-a55070941439",
        "colab": {}
      },
      "source": [
        "Normalized_stocks"
      ],
      "execution_count": 0,
      "outputs": [
        {
          "output_type": "execute_result",
          "data": {
            "text/html": [
              "<div>\n",
              "<style scoped>\n",
              "    .dataframe tbody tr th:only-of-type {\n",
              "        vertical-align: middle;\n",
              "    }\n",
              "\n",
              "    .dataframe tbody tr th {\n",
              "        vertical-align: top;\n",
              "    }\n",
              "\n",
              "    .dataframe thead th {\n",
              "        text-align: right;\n",
              "    }\n",
              "</style>\n",
              "<table border=\"1\" class=\"dataframe\">\n",
              "  <thead>\n",
              "    <tr style=\"text-align: right;\">\n",
              "      <th></th>\n",
              "      <th>0</th>\n",
              "      <th>1</th>\n",
              "      <th>2</th>\n",
              "      <th>Date</th>\n",
              "    </tr>\n",
              "  </thead>\n",
              "  <tbody>\n",
              "    <tr>\n",
              "      <th>0</th>\n",
              "      <td>1.078975</td>\n",
              "      <td>1.068317</td>\n",
              "      <td>1.414782</td>\n",
              "      <td>22-01-20</td>\n",
              "    </tr>\n",
              "    <tr>\n",
              "      <th>1</th>\n",
              "      <td>1.038911</td>\n",
              "      <td>1.009235</td>\n",
              "      <td>1.410076</td>\n",
              "      <td>23-01-20</td>\n",
              "    </tr>\n",
              "    <tr>\n",
              "      <th>2</th>\n",
              "      <td>1.087634</td>\n",
              "      <td>1.040962</td>\n",
              "      <td>1.410076</td>\n",
              "      <td>24-01-20</td>\n",
              "    </tr>\n",
              "    <tr>\n",
              "      <th>3</th>\n",
              "      <td>1.087634</td>\n",
              "      <td>1.040962</td>\n",
              "      <td>1.410076</td>\n",
              "      <td>25-01-20</td>\n",
              "    </tr>\n",
              "    <tr>\n",
              "      <th>4</th>\n",
              "      <td>1.087634</td>\n",
              "      <td>1.040962</td>\n",
              "      <td>1.410076</td>\n",
              "      <td>26-01-20</td>\n",
              "    </tr>\n",
              "    <tr>\n",
              "      <th>...</th>\n",
              "      <td>...</td>\n",
              "      <td>...</td>\n",
              "      <td>...</td>\n",
              "      <td>...</td>\n",
              "    </tr>\n",
              "    <tr>\n",
              "      <th>82</th>\n",
              "      <td>-0.460501</td>\n",
              "      <td>-0.876796</td>\n",
              "      <td>-0.817961</td>\n",
              "      <td>13-04-20</td>\n",
              "    </tr>\n",
              "    <tr>\n",
              "      <th>83</th>\n",
              "      <td>-0.396848</td>\n",
              "      <td>-0.876796</td>\n",
              "      <td>-0.728233</td>\n",
              "      <td>14-04-20</td>\n",
              "    </tr>\n",
              "    <tr>\n",
              "      <th>84</th>\n",
              "      <td>-0.423446</td>\n",
              "      <td>-0.819056</td>\n",
              "      <td>-0.448041</td>\n",
              "      <td>15-04-20</td>\n",
              "    </tr>\n",
              "    <tr>\n",
              "      <th>85</th>\n",
              "      <td>-0.413042</td>\n",
              "      <td>-1.034621</td>\n",
              "      <td>-0.696320</td>\n",
              "      <td>16-04-20</td>\n",
              "    </tr>\n",
              "    <tr>\n",
              "      <th>86</th>\n",
              "      <td>-0.413042</td>\n",
              "      <td>-0.739706</td>\n",
              "      <td>-0.696320</td>\n",
              "      <td>17-04-20</td>\n",
              "    </tr>\n",
              "  </tbody>\n",
              "</table>\n",
              "<p>87 rows × 4 columns</p>\n",
              "</div>"
            ],
            "text/plain": [
              "           0         1         2      Date\n",
              "0   1.078975  1.068317  1.414782  22-01-20\n",
              "1   1.038911  1.009235  1.410076  23-01-20\n",
              "2   1.087634  1.040962  1.410076  24-01-20\n",
              "3   1.087634  1.040962  1.410076  25-01-20\n",
              "4   1.087634  1.040962  1.410076  26-01-20\n",
              "..       ...       ...       ...       ...\n",
              "82 -0.460501 -0.876796 -0.817961  13-04-20\n",
              "83 -0.396848 -0.876796 -0.728233  14-04-20\n",
              "84 -0.423446 -0.819056 -0.448041  15-04-20\n",
              "85 -0.413042 -1.034621 -0.696320  16-04-20\n",
              "86 -0.413042 -0.739706 -0.696320  17-04-20\n",
              "\n",
              "[87 rows x 4 columns]"
            ]
          },
          "metadata": {
            "tags": []
          },
          "execution_count": 101
        }
      ]
    },
    {
      "cell_type": "code",
      "metadata": {
        "id": "GJuU-6E5iOUj",
        "colab_type": "code",
        "colab": {}
      },
      "source": [
        "Normalized_stocks=Normalized_stocks.rename(columns={0:\"GSPC\",1:'NIFTY',2:'SHANGHAI'})\n"
      ],
      "execution_count": 0,
      "outputs": []
    },
    {
      "cell_type": "code",
      "metadata": {
        "id": "toQQNpdMiOUl",
        "colab_type": "code",
        "outputId": "c854df37-5de2-4c1a-d992-58672267f02a",
        "colab": {}
      },
      "source": [
        "Normalized_stocks"
      ],
      "execution_count": 0,
      "outputs": [
        {
          "output_type": "execute_result",
          "data": {
            "text/html": [
              "<div>\n",
              "<style scoped>\n",
              "    .dataframe tbody tr th:only-of-type {\n",
              "        vertical-align: middle;\n",
              "    }\n",
              "\n",
              "    .dataframe tbody tr th {\n",
              "        vertical-align: top;\n",
              "    }\n",
              "\n",
              "    .dataframe thead th {\n",
              "        text-align: right;\n",
              "    }\n",
              "</style>\n",
              "<table border=\"1\" class=\"dataframe\">\n",
              "  <thead>\n",
              "    <tr style=\"text-align: right;\">\n",
              "      <th></th>\n",
              "      <th>GSPC</th>\n",
              "      <th>NIFTY</th>\n",
              "      <th>SHANGHAI</th>\n",
              "      <th>Date</th>\n",
              "    </tr>\n",
              "  </thead>\n",
              "  <tbody>\n",
              "    <tr>\n",
              "      <th>0</th>\n",
              "      <td>1.078975</td>\n",
              "      <td>1.068317</td>\n",
              "      <td>1.414782</td>\n",
              "      <td>22-01-20</td>\n",
              "    </tr>\n",
              "    <tr>\n",
              "      <th>1</th>\n",
              "      <td>1.038911</td>\n",
              "      <td>1.009235</td>\n",
              "      <td>1.410076</td>\n",
              "      <td>23-01-20</td>\n",
              "    </tr>\n",
              "    <tr>\n",
              "      <th>2</th>\n",
              "      <td>1.087634</td>\n",
              "      <td>1.040962</td>\n",
              "      <td>1.410076</td>\n",
              "      <td>24-01-20</td>\n",
              "    </tr>\n",
              "    <tr>\n",
              "      <th>3</th>\n",
              "      <td>1.087634</td>\n",
              "      <td>1.040962</td>\n",
              "      <td>1.410076</td>\n",
              "      <td>25-01-20</td>\n",
              "    </tr>\n",
              "    <tr>\n",
              "      <th>4</th>\n",
              "      <td>1.087634</td>\n",
              "      <td>1.040962</td>\n",
              "      <td>1.410076</td>\n",
              "      <td>26-01-20</td>\n",
              "    </tr>\n",
              "    <tr>\n",
              "      <th>...</th>\n",
              "      <td>...</td>\n",
              "      <td>...</td>\n",
              "      <td>...</td>\n",
              "      <td>...</td>\n",
              "    </tr>\n",
              "    <tr>\n",
              "      <th>82</th>\n",
              "      <td>-0.460501</td>\n",
              "      <td>-0.876796</td>\n",
              "      <td>-0.817961</td>\n",
              "      <td>13-04-20</td>\n",
              "    </tr>\n",
              "    <tr>\n",
              "      <th>83</th>\n",
              "      <td>-0.396848</td>\n",
              "      <td>-0.876796</td>\n",
              "      <td>-0.728233</td>\n",
              "      <td>14-04-20</td>\n",
              "    </tr>\n",
              "    <tr>\n",
              "      <th>84</th>\n",
              "      <td>-0.423446</td>\n",
              "      <td>-0.819056</td>\n",
              "      <td>-0.448041</td>\n",
              "      <td>15-04-20</td>\n",
              "    </tr>\n",
              "    <tr>\n",
              "      <th>85</th>\n",
              "      <td>-0.413042</td>\n",
              "      <td>-1.034621</td>\n",
              "      <td>-0.696320</td>\n",
              "      <td>16-04-20</td>\n",
              "    </tr>\n",
              "    <tr>\n",
              "      <th>86</th>\n",
              "      <td>-0.413042</td>\n",
              "      <td>-0.739706</td>\n",
              "      <td>-0.696320</td>\n",
              "      <td>17-04-20</td>\n",
              "    </tr>\n",
              "  </tbody>\n",
              "</table>\n",
              "<p>87 rows × 4 columns</p>\n",
              "</div>"
            ],
            "text/plain": [
              "        GSPC     NIFTY  SHANGHAI      Date\n",
              "0   1.078975  1.068317  1.414782  22-01-20\n",
              "1   1.038911  1.009235  1.410076  23-01-20\n",
              "2   1.087634  1.040962  1.410076  24-01-20\n",
              "3   1.087634  1.040962  1.410076  25-01-20\n",
              "4   1.087634  1.040962  1.410076  26-01-20\n",
              "..       ...       ...       ...       ...\n",
              "82 -0.460501 -0.876796 -0.817961  13-04-20\n",
              "83 -0.396848 -0.876796 -0.728233  14-04-20\n",
              "84 -0.423446 -0.819056 -0.448041  15-04-20\n",
              "85 -0.413042 -1.034621 -0.696320  16-04-20\n",
              "86 -0.413042 -0.739706 -0.696320  17-04-20\n",
              "\n",
              "[87 rows x 4 columns]"
            ]
          },
          "metadata": {
            "tags": []
          },
          "execution_count": 103
        }
      ]
    },
    {
      "cell_type": "code",
      "metadata": {
        "id": "7UcPLsAriOUm",
        "colab_type": "code",
        "colab": {}
      },
      "source": [
        "Normalized_stocks=Normalized_stocks.set_index('Date')"
      ],
      "execution_count": 0,
      "outputs": []
    },
    {
      "cell_type": "code",
      "metadata": {
        "id": "dSD4cQ18iOUo",
        "colab_type": "code",
        "outputId": "0889eb6e-bca7-4d84-f11d-a99e6e757306",
        "colab": {}
      },
      "source": [
        "Normalized_stocks"
      ],
      "execution_count": 0,
      "outputs": [
        {
          "output_type": "execute_result",
          "data": {
            "text/html": [
              "<div>\n",
              "<style scoped>\n",
              "    .dataframe tbody tr th:only-of-type {\n",
              "        vertical-align: middle;\n",
              "    }\n",
              "\n",
              "    .dataframe tbody tr th {\n",
              "        vertical-align: top;\n",
              "    }\n",
              "\n",
              "    .dataframe thead th {\n",
              "        text-align: right;\n",
              "    }\n",
              "</style>\n",
              "<table border=\"1\" class=\"dataframe\">\n",
              "  <thead>\n",
              "    <tr style=\"text-align: right;\">\n",
              "      <th></th>\n",
              "      <th>GSPC</th>\n",
              "      <th>NIFTY</th>\n",
              "      <th>SHANGHAI</th>\n",
              "    </tr>\n",
              "    <tr>\n",
              "      <th>Date</th>\n",
              "      <th></th>\n",
              "      <th></th>\n",
              "      <th></th>\n",
              "    </tr>\n",
              "  </thead>\n",
              "  <tbody>\n",
              "    <tr>\n",
              "      <th>22-01-20</th>\n",
              "      <td>1.078975</td>\n",
              "      <td>1.068317</td>\n",
              "      <td>1.414782</td>\n",
              "    </tr>\n",
              "    <tr>\n",
              "      <th>23-01-20</th>\n",
              "      <td>1.038911</td>\n",
              "      <td>1.009235</td>\n",
              "      <td>1.410076</td>\n",
              "    </tr>\n",
              "    <tr>\n",
              "      <th>24-01-20</th>\n",
              "      <td>1.087634</td>\n",
              "      <td>1.040962</td>\n",
              "      <td>1.410076</td>\n",
              "    </tr>\n",
              "    <tr>\n",
              "      <th>25-01-20</th>\n",
              "      <td>1.087634</td>\n",
              "      <td>1.040962</td>\n",
              "      <td>1.410076</td>\n",
              "    </tr>\n",
              "    <tr>\n",
              "      <th>26-01-20</th>\n",
              "      <td>1.087634</td>\n",
              "      <td>1.040962</td>\n",
              "      <td>1.410076</td>\n",
              "    </tr>\n",
              "    <tr>\n",
              "      <th>...</th>\n",
              "      <td>...</td>\n",
              "      <td>...</td>\n",
              "      <td>...</td>\n",
              "    </tr>\n",
              "    <tr>\n",
              "      <th>13-04-20</th>\n",
              "      <td>-0.460501</td>\n",
              "      <td>-0.876796</td>\n",
              "      <td>-0.817961</td>\n",
              "    </tr>\n",
              "    <tr>\n",
              "      <th>14-04-20</th>\n",
              "      <td>-0.396848</td>\n",
              "      <td>-0.876796</td>\n",
              "      <td>-0.728233</td>\n",
              "    </tr>\n",
              "    <tr>\n",
              "      <th>15-04-20</th>\n",
              "      <td>-0.423446</td>\n",
              "      <td>-0.819056</td>\n",
              "      <td>-0.448041</td>\n",
              "    </tr>\n",
              "    <tr>\n",
              "      <th>16-04-20</th>\n",
              "      <td>-0.413042</td>\n",
              "      <td>-1.034621</td>\n",
              "      <td>-0.696320</td>\n",
              "    </tr>\n",
              "    <tr>\n",
              "      <th>17-04-20</th>\n",
              "      <td>-0.413042</td>\n",
              "      <td>-0.739706</td>\n",
              "      <td>-0.696320</td>\n",
              "    </tr>\n",
              "  </tbody>\n",
              "</table>\n",
              "<p>87 rows × 3 columns</p>\n",
              "</div>"
            ],
            "text/plain": [
              "              GSPC     NIFTY  SHANGHAI\n",
              "Date                                  \n",
              "22-01-20  1.078975  1.068317  1.414782\n",
              "23-01-20  1.038911  1.009235  1.410076\n",
              "24-01-20  1.087634  1.040962  1.410076\n",
              "25-01-20  1.087634  1.040962  1.410076\n",
              "26-01-20  1.087634  1.040962  1.410076\n",
              "...            ...       ...       ...\n",
              "13-04-20 -0.460501 -0.876796 -0.817961\n",
              "14-04-20 -0.396848 -0.876796 -0.728233\n",
              "15-04-20 -0.423446 -0.819056 -0.448041\n",
              "16-04-20 -0.413042 -1.034621 -0.696320\n",
              "17-04-20 -0.413042 -0.739706 -0.696320\n",
              "\n",
              "[87 rows x 3 columns]"
            ]
          },
          "metadata": {
            "tags": []
          },
          "execution_count": 105
        }
      ]
    },
    {
      "cell_type": "markdown",
      "metadata": {
        "id": "Jymo6u72iOUt",
        "colab_type": "text"
      },
      "source": [
        "### COUNTRY WISE COMPARISON BETWEEN THE INDEXES DURING THE PERIOD OF OUTBREAK."
      ]
    },
    {
      "cell_type": "code",
      "metadata": {
        "id": "APAciKrNiOUt",
        "colab_type": "code",
        "outputId": "89f74f27-ba0e-4ee3-d372-b2c860351d74",
        "colab": {}
      },
      "source": [
        "plt.figure(figsize=(10,7))\n",
        "for i, col in enumerate(Normalized_stocks.columns):\n",
        "    Normalized_stocks[col].plot()\n",
        "plt.title('Price Evolution Comparison During COVID-19 outbreak')\n",
        "plt.xticks(rotation=70)\n",
        "plt.legend(Normalized_stocks.columns)"
      ],
      "execution_count": 0,
      "outputs": [
        {
          "output_type": "execute_result",
          "data": {
            "text/plain": [
              "<matplotlib.legend.Legend at 0x7f9ec5f1ada0>"
            ]
          },
          "metadata": {
            "tags": []
          },
          "execution_count": 106
        },
        {
          "output_type": "display_data",
          "data": {
            "image/png": "[encoded data removed]",
            "text/plain": [
              "<Figure size 720x504 with 1 Axes>"
            ]
          },
          "metadata": {
            "tags": []
          }
        }
      ]
    },
    {
      "cell_type": "markdown",
      "metadata": {
        "id": "356K4ZvliOUw",
        "colab_type": "text"
      },
      "source": [
        "#### * Biggest fluctuations can be seen in the china's index during the early feb.\n",
        "#### * All the 3 indexes are nearly close to each other after all the fluctuations since 17th April."
      ]
    },
    {
      "cell_type": "markdown",
      "metadata": {
        "id": "tEw_1YS4iOUx",
        "colab_type": "text"
      },
      "source": [
        "# Countrywise Number of cases and Index curve"
      ]
    },
    {
      "cell_type": "code",
      "metadata": {
        "id": "PZQkBOp0iOUx",
        "colab_type": "code",
        "outputId": "ebf2657c-8960-4a59-e8f9-ef0c28cce64a",
        "colab": {}
      },
      "source": [
        "countries_3_update.head()"
      ],
      "execution_count": 0,
      "outputs": [
        {
          "output_type": "execute_result",
          "data": {
            "text/html": [
              "<div>\n",
              "<style scoped>\n",
              "    .dataframe tbody tr th:only-of-type {\n",
              "        vertical-align: middle;\n",
              "    }\n",
              "\n",
              "    .dataframe tbody tr th {\n",
              "        vertical-align: top;\n",
              "    }\n",
              "\n",
              "    .dataframe thead th {\n",
              "        text-align: right;\n",
              "    }\n",
              "</style>\n",
              "<table border=\"1\" class=\"dataframe\">\n",
              "  <thead>\n",
              "    <tr style=\"text-align: right;\">\n",
              "      <th></th>\n",
              "      <th>Dates</th>\n",
              "      <th>India</th>\n",
              "      <th>China</th>\n",
              "      <th>US</th>\n",
              "    </tr>\n",
              "  </thead>\n",
              "  <tbody>\n",
              "    <tr>\n",
              "      <th>0</th>\n",
              "      <td>1/22/20</td>\n",
              "      <td>0</td>\n",
              "      <td>548</td>\n",
              "      <td>1</td>\n",
              "    </tr>\n",
              "    <tr>\n",
              "      <th>1</th>\n",
              "      <td>1/23/20</td>\n",
              "      <td>0</td>\n",
              "      <td>643</td>\n",
              "      <td>1</td>\n",
              "    </tr>\n",
              "    <tr>\n",
              "      <th>2</th>\n",
              "      <td>1/24/20</td>\n",
              "      <td>0</td>\n",
              "      <td>920</td>\n",
              "      <td>2</td>\n",
              "    </tr>\n",
              "    <tr>\n",
              "      <th>3</th>\n",
              "      <td>1/25/20</td>\n",
              "      <td>0</td>\n",
              "      <td>1406</td>\n",
              "      <td>2</td>\n",
              "    </tr>\n",
              "    <tr>\n",
              "      <th>4</th>\n",
              "      <td>1/26/20</td>\n",
              "      <td>0</td>\n",
              "      <td>2075</td>\n",
              "      <td>5</td>\n",
              "    </tr>\n",
              "  </tbody>\n",
              "</table>\n",
              "</div>"
            ],
            "text/plain": [
              "     Dates India  China US\n",
              "0  1/22/20     0    548  1\n",
              "1  1/23/20     0    643  1\n",
              "2  1/24/20     0    920  2\n",
              "3  1/25/20     0   1406  2\n",
              "4  1/26/20     0   2075  5"
            ]
          },
          "metadata": {
            "tags": []
          },
          "execution_count": 107
        }
      ]
    },
    {
      "cell_type": "code",
      "metadata": {
        "id": "aCMQslgtiOU2",
        "colab_type": "code",
        "outputId": "0993acfa-94b6-4c01-b0cb-fc4921969ada",
        "colab": {}
      },
      "source": [
        "Normalized_stocks.head()"
      ],
      "execution_count": 0,
      "outputs": [
        {
          "output_type": "execute_result",
          "data": {
            "text/html": [
              "<div>\n",
              "<style scoped>\n",
              "    .dataframe tbody tr th:only-of-type {\n",
              "        vertical-align: middle;\n",
              "    }\n",
              "\n",
              "    .dataframe tbody tr th {\n",
              "        vertical-align: top;\n",
              "    }\n",
              "\n",
              "    .dataframe thead th {\n",
              "        text-align: right;\n",
              "    }\n",
              "</style>\n",
              "<table border=\"1\" class=\"dataframe\">\n",
              "  <thead>\n",
              "    <tr style=\"text-align: right;\">\n",
              "      <th></th>\n",
              "      <th>GSPC</th>\n",
              "      <th>NIFTY</th>\n",
              "      <th>SHANGHAI</th>\n",
              "    </tr>\n",
              "    <tr>\n",
              "      <th>Date</th>\n",
              "      <th></th>\n",
              "      <th></th>\n",
              "      <th></th>\n",
              "    </tr>\n",
              "  </thead>\n",
              "  <tbody>\n",
              "    <tr>\n",
              "      <th>22-01-20</th>\n",
              "      <td>1.078975</td>\n",
              "      <td>1.068317</td>\n",
              "      <td>1.414782</td>\n",
              "    </tr>\n",
              "    <tr>\n",
              "      <th>23-01-20</th>\n",
              "      <td>1.038911</td>\n",
              "      <td>1.009235</td>\n",
              "      <td>1.410076</td>\n",
              "    </tr>\n",
              "    <tr>\n",
              "      <th>24-01-20</th>\n",
              "      <td>1.087634</td>\n",
              "      <td>1.040962</td>\n",
              "      <td>1.410076</td>\n",
              "    </tr>\n",
              "    <tr>\n",
              "      <th>25-01-20</th>\n",
              "      <td>1.087634</td>\n",
              "      <td>1.040962</td>\n",
              "      <td>1.410076</td>\n",
              "    </tr>\n",
              "    <tr>\n",
              "      <th>26-01-20</th>\n",
              "      <td>1.087634</td>\n",
              "      <td>1.040962</td>\n",
              "      <td>1.410076</td>\n",
              "    </tr>\n",
              "  </tbody>\n",
              "</table>\n",
              "</div>"
            ],
            "text/plain": [
              "              GSPC     NIFTY  SHANGHAI\n",
              "Date                                  \n",
              "22-01-20  1.078975  1.068317  1.414782\n",
              "23-01-20  1.038911  1.009235  1.410076\n",
              "24-01-20  1.087634  1.040962  1.410076\n",
              "25-01-20  1.087634  1.040962  1.410076\n",
              "26-01-20  1.087634  1.040962  1.410076"
            ]
          },
          "metadata": {
            "tags": []
          },
          "execution_count": 108
        }
      ]
    },
    {
      "cell_type": "markdown",
      "metadata": {
        "id": "_Zo57cnniOU4",
        "colab_type": "text"
      },
      "source": [
        "### China's index Vs confirmed CoronaVirus cases"
      ]
    },
    {
      "cell_type": "code",
      "metadata": {
        "id": "sHYd18L7iOU4",
        "colab_type": "code",
        "outputId": "1a6daee3-dab5-4d22-9c0c-785bf88974da",
        "colab": {}
      },
      "source": [
        "# plt.figure(figsize=(10,10))\n",
        "# plt.xticks(rotate=90) without axes \n",
        "\n",
        "#using axes object\n",
        "fig,ax=plt.subplots(figsize=(13,8))\n",
        "ax.plot(countries_3_update.Dates,demo_stock['SHANGHAI COMPOSITE'],marker='o',color=\"green\")\n",
        "ax.set_xlabel(\"Dates\")\n",
        "ax.set_ylabel(\"Shanghai composite\",color=\"green\")\n",
        "#rotating x axes ticks\n",
        "# fig.autofmt_xdate() #or use for loop if not date \n",
        "for tick in ax.get_xticklabels():\n",
        "    tick.set_rotation(90)\n",
        "\n",
        "#in order to get two y axes on same plot  we use twinx()\n",
        "\n",
        "ax2=ax.twinx()\n",
        "ax2.plot(countries_3_update.Dates,countries_3_update.China)\n"
      ],
      "execution_count": 0,
      "outputs": [
        {
          "output_type": "execute_result",
          "data": {
            "text/plain": [
              "[<matplotlib.lines.Line2D at 0x7f9ec4d857f0>]"
            ]
          },
          "metadata": {
            "tags": []
          },
          "execution_count": 109
        },
        {
          "output_type": "display_data",
          "data": {
            "image/png": "[encoded data removed]",
            "text/plain": [
              "<Figure size 936x576 with 2 Axes>"
            ]
          },
          "metadata": {
            "tags": []
          }
        }
      ]
    },
    {
      "cell_type": "markdown",
      "metadata": {
        "id": "JUZWUEVXiOU6",
        "colab_type": "text"
      },
      "source": [
        "#### * Index fell drastically by 10% when the outbreak began.\n",
        "#### * Now it is range bound at average levels."
      ]
    },
    {
      "cell_type": "markdown",
      "metadata": {
        "id": "Z2fWXbF_iOU6",
        "colab_type": "text"
      },
      "source": [
        "## India's index vs Confirmed coronavirus cases"
      ]
    },
    {
      "cell_type": "code",
      "metadata": {
        "id": "UJMSS3rRiOU7",
        "colab_type": "code",
        "outputId": "3c976623-f55f-4e92-9a30-7f98be4a949d",
        "colab": {}
      },
      "source": [
        "# plt.figure(figsize=(10,10))\n",
        "# plt.xticks(rotate=90) without axes \n",
        "\n",
        "#using axes object\n",
        "fig,ax=plt.subplots(figsize=(13,8))\n",
        "ax.plot(countries_3_update.Dates,demo_stock['NIFTY'],marker='o',color=\"green\")\n",
        "ax.set_xlabel(\"Dates\")\n",
        "ax.set_ylabel(\"Nifty\",color=\"green\")\n",
        "#rotating x axes ticks\n",
        "# fig.autofmt_xdate() #or use for loop if not date \n",
        "for tick in ax.get_xticklabels():\n",
        "    tick.set_rotation(90)\n",
        "\n",
        "#in order to get two y axes on same plot  we use twinx()\n",
        "\n",
        "ax2=ax.twinx()\n",
        "ax2.plot(countries_3_update.Dates,countries_3_update.India)"
      ],
      "execution_count": 0,
      "outputs": [
        {
          "output_type": "execute_result",
          "data": {
            "text/plain": [
              "[<matplotlib.lines.Line2D at 0x7f9ec4ddcd68>]"
            ]
          },
          "metadata": {
            "tags": []
          },
          "execution_count": 110
        },
        {
          "output_type": "display_data",
          "data": {
            "image/png": "[encoded data removed]",
            "text/plain": [
              "<Figure size 936x576 with 2 Axes>"
            ]
          },
          "metadata": {
            "tags": []
          }
        }
      ]
    },
    {
      "cell_type": "markdown",
      "metadata": {
        "id": "EnYW8bCGiOU_",
        "colab_type": "text"
      },
      "source": [
        "#### * 30% fall in the index can be seen during the period of outbreak till march.\n",
        "#### * Sudden rise in the local cases didn't worsen the performance."
      ]
    },
    {
      "cell_type": "markdown",
      "metadata": {
        "id": "ZXAko4HviOU_",
        "colab_type": "text"
      },
      "source": [
        "## US's index vs Confirmed coronavirus cases"
      ]
    },
    {
      "cell_type": "code",
      "metadata": {
        "id": "Lc-7N4_3iOU_",
        "colab_type": "code",
        "outputId": "3a9ca055-9bac-4ee4-fc1e-45133ade0d64",
        "colab": {}
      },
      "source": [
        "# plt.figure(figsize=(10,10))\n",
        "# plt.xticks(rotate=90) without axes \n",
        "\n",
        "#using axes object\n",
        "fig,ax=plt.subplots(figsize=(13,8))\n",
        "ax.plot(countries_3_update.Dates,demo_stock['GSPC'],marker='o',color=\"green\")\n",
        "ax.set_xlabel(\"Dates\")\n",
        "ax.set_ylabel(\"DOW JONES\",color=\"green\")\n",
        "#rotating x axes ticks\n",
        "# fig.autofmt_xdate() #or use for loop if not date \n",
        "for tick in ax.get_xticklabels():\n",
        "    tick.set_rotation(90)\n",
        "\n",
        "#in order to get two y axes on same plot  we use twinx()\n",
        "\n",
        "ax2=ax.twinx()\n",
        "ax2.plot(countries_3_update.Dates,countries_3_update.US)"
      ],
      "execution_count": 0,
      "outputs": [
        {
          "output_type": "execute_result",
          "data": {
            "text/plain": [
              "[<matplotlib.lines.Line2D at 0x7f9ec6b88ac8>]"
            ]
          },
          "metadata": {
            "tags": []
          },
          "execution_count": 111
        },
        {
          "output_type": "display_data",
          "data": {
            "image/png": "[encoded data removed]",
            "text/plain": [
              "<Figure size 936x576 with 2 Axes>"
            ]
          },
          "metadata": {
            "tags": []
          }
        }
      ]
    },
    {
      "cell_type": "markdown",
      "metadata": {
        "id": "U9kF-E9giOVB",
        "colab_type": "text"
      },
      "source": [
        "#### * Index fell by 30% initially.\n",
        "#### * Now it is range bound."
      ]
    },
    {
      "cell_type": "markdown",
      "metadata": {
        "id": "T6DN9LdyiOVB",
        "colab_type": "text"
      },
      "source": [
        "## Predicting Dow Jones During the period of outbreak"
      ]
    },
    {
      "cell_type": "code",
      "metadata": {
        "id": "KnefzmEViOVC",
        "colab_type": "code",
        "colab": {}
      },
      "source": [
        "gspc_plots_predict=gspc.iloc[257:,:].reset_index(drop=True)\n",
        "# gspc_plots=gspc_plots.set_index('Date')"
      ],
      "execution_count": 0,
      "outputs": []
    },
    {
      "cell_type": "code",
      "metadata": {
        "id": "JYIGOh8hiOVD",
        "colab_type": "code",
        "outputId": "a8f397cc-68cd-4d6f-90ef-1f5dc55b84d9",
        "colab": {}
      },
      "source": [
        "gspc_plots_predict"
      ],
      "execution_count": 0,
      "outputs": [
        {
          "output_type": "execute_result",
          "data": {
            "text/html": [
              "<div>\n",
              "<style scoped>\n",
              "    .dataframe tbody tr th:only-of-type {\n",
              "        vertical-align: middle;\n",
              "    }\n",
              "\n",
              "    .dataframe tbody tr th {\n",
              "        vertical-align: top;\n",
              "    }\n",
              "\n",
              "    .dataframe thead th {\n",
              "        text-align: right;\n",
              "    }\n",
              "</style>\n",
              "<table border=\"1\" class=\"dataframe\">\n",
              "  <thead>\n",
              "    <tr style=\"text-align: right;\">\n",
              "      <th></th>\n",
              "      <th>Date</th>\n",
              "      <th>Open</th>\n",
              "      <th>High</th>\n",
              "      <th>Low</th>\n",
              "      <th>Close</th>\n",
              "      <th>Adj Close</th>\n",
              "      <th>Volume</th>\n",
              "    </tr>\n",
              "  </thead>\n",
              "  <tbody>\n",
              "    <tr>\n",
              "      <th>0</th>\n",
              "      <td>22-01-20</td>\n",
              "      <td>3330.020020</td>\n",
              "      <td>3337.770020</td>\n",
              "      <td>3320.040039</td>\n",
              "      <td>3321.750000</td>\n",
              "      <td>3321.750000</td>\n",
              "      <td>3619850000</td>\n",
              "    </tr>\n",
              "    <tr>\n",
              "      <th>1</th>\n",
              "      <td>23-01-20</td>\n",
              "      <td>3315.770020</td>\n",
              "      <td>3326.879883</td>\n",
              "      <td>3301.870117</td>\n",
              "      <td>3325.540039</td>\n",
              "      <td>3325.540039</td>\n",
              "      <td>3764860000</td>\n",
              "    </tr>\n",
              "    <tr>\n",
              "      <th>2</th>\n",
              "      <td>24-01-20</td>\n",
              "      <td>3333.100098</td>\n",
              "      <td>3333.179932</td>\n",
              "      <td>3281.530029</td>\n",
              "      <td>3295.469971</td>\n",
              "      <td>3295.469971</td>\n",
              "      <td>3707130000</td>\n",
              "    </tr>\n",
              "    <tr>\n",
              "      <th>3</th>\n",
              "      <td>25-01-20</td>\n",
              "      <td>3333.100098</td>\n",
              "      <td>3333.179932</td>\n",
              "      <td>3281.530029</td>\n",
              "      <td>3295.469971</td>\n",
              "      <td>3295.469971</td>\n",
              "      <td>3707130000</td>\n",
              "    </tr>\n",
              "    <tr>\n",
              "      <th>4</th>\n",
              "      <td>26-01-20</td>\n",
              "      <td>3333.100098</td>\n",
              "      <td>3333.179932</td>\n",
              "      <td>3281.530029</td>\n",
              "      <td>3295.469971</td>\n",
              "      <td>3295.469971</td>\n",
              "      <td>3707130000</td>\n",
              "    </tr>\n",
              "    <tr>\n",
              "      <th>...</th>\n",
              "      <td>...</td>\n",
              "      <td>...</td>\n",
              "      <td>...</td>\n",
              "      <td>...</td>\n",
              "      <td>...</td>\n",
              "      <td>...</td>\n",
              "      <td>...</td>\n",
              "    </tr>\n",
              "    <tr>\n",
              "      <th>82</th>\n",
              "      <td>13-04-20</td>\n",
              "      <td>2782.459961</td>\n",
              "      <td>2782.459961</td>\n",
              "      <td>2721.169922</td>\n",
              "      <td>2761.629883</td>\n",
              "      <td>2761.629883</td>\n",
              "      <td>5274310000</td>\n",
              "    </tr>\n",
              "    <tr>\n",
              "      <th>83</th>\n",
              "      <td>14-04-20</td>\n",
              "      <td>2805.100098</td>\n",
              "      <td>2851.850098</td>\n",
              "      <td>2805.100098</td>\n",
              "      <td>2846.060059</td>\n",
              "      <td>2846.060059</td>\n",
              "      <td>5567400000</td>\n",
              "    </tr>\n",
              "    <tr>\n",
              "      <th>84</th>\n",
              "      <td>15-04-20</td>\n",
              "      <td>2795.639893</td>\n",
              "      <td>2801.879883</td>\n",
              "      <td>2761.540039</td>\n",
              "      <td>2783.360107</td>\n",
              "      <td>2783.360107</td>\n",
              "      <td>5203390000</td>\n",
              "    </tr>\n",
              "    <tr>\n",
              "      <th>85</th>\n",
              "      <td>16-04-20</td>\n",
              "      <td>2799.340088</td>\n",
              "      <td>2806.510010</td>\n",
              "      <td>2764.320068</td>\n",
              "      <td>2799.550049</td>\n",
              "      <td>2799.550049</td>\n",
              "      <td>5179990000</td>\n",
              "    </tr>\n",
              "    <tr>\n",
              "      <th>86</th>\n",
              "      <td>17-04-20</td>\n",
              "      <td>2799.340088</td>\n",
              "      <td>2806.510010</td>\n",
              "      <td>2764.320068</td>\n",
              "      <td>2799.550049</td>\n",
              "      <td>2799.550049</td>\n",
              "      <td>5179990000</td>\n",
              "    </tr>\n",
              "  </tbody>\n",
              "</table>\n",
              "<p>87 rows × 7 columns</p>\n",
              "</div>"
            ],
            "text/plain": [
              "        Date         Open         High          Low        Close    Adj Close  \\\n",
              "0   22-01-20  3330.020020  3337.770020  3320.040039  3321.750000  3321.750000   \n",
              "1   23-01-20  3315.770020  3326.879883  3301.870117  3325.540039  3325.540039   \n",
              "2   24-01-20  3333.100098  3333.179932  3281.530029  3295.469971  3295.469971   \n",
              "3   25-01-20  3333.100098  3333.179932  3281.530029  3295.469971  3295.469971   \n",
              "4   26-01-20  3333.100098  3333.179932  3281.530029  3295.469971  3295.469971   \n",
              "..       ...          ...          ...          ...          ...          ...   \n",
              "82  13-04-20  2782.459961  2782.459961  2721.169922  2761.629883  2761.629883   \n",
              "83  14-04-20  2805.100098  2851.850098  2805.100098  2846.060059  2846.060059   \n",
              "84  15-04-20  2795.639893  2801.879883  2761.540039  2783.360107  2783.360107   \n",
              "85  16-04-20  2799.340088  2806.510010  2764.320068  2799.550049  2799.550049   \n",
              "86  17-04-20  2799.340088  2806.510010  2764.320068  2799.550049  2799.550049   \n",
              "\n",
              "        Volume  \n",
              "0   3619850000  \n",
              "1   3764860000  \n",
              "2   3707130000  \n",
              "3   3707130000  \n",
              "4   3707130000  \n",
              "..         ...  \n",
              "82  5274310000  \n",
              "83  5567400000  \n",
              "84  5203390000  \n",
              "85  5179990000  \n",
              "86  5179990000  \n",
              "\n",
              "[87 rows x 7 columns]"
            ]
          },
          "metadata": {
            "tags": []
          },
          "execution_count": 113
        }
      ]
    },
    {
      "cell_type": "markdown",
      "metadata": {
        "id": "8hIy7krkiOVH",
        "colab_type": "text"
      },
      "source": [
        "### Checking data correlations"
      ]
    },
    {
      "cell_type": "code",
      "metadata": {
        "id": "Dmsq_diDiOVH",
        "colab_type": "code",
        "outputId": "7ccebd47-6875-4da0-ce6b-e5094afe7000",
        "colab": {}
      },
      "source": [
        "import seaborn as sns\n",
        "plt.figure(1 , figsize = (7, 6))\n",
        "cor = sns.heatmap(gspc_plots_predict.corr(), annot = True)"
      ],
      "execution_count": 0,
      "outputs": [
        {
          "output_type": "display_data",
          "data": {
            "image/png": "[encoded data removed]",
            "text/plain": [
              "<Figure size 504x432 with 2 Axes>"
            ]
          },
          "metadata": {
            "tags": []
          }
        }
      ]
    },
    {
      "cell_type": "markdown",
      "metadata": {
        "id": "ddjPJ6tbiOVJ",
        "colab_type": "text"
      },
      "source": [
        "#### we are using the pattern followed during the outbreak only. So predictions are made on the basis of current volatality in the market. "
      ]
    },
    {
      "cell_type": "code",
      "metadata": {
        "id": "AlPb3M4BiOVJ",
        "colab_type": "code",
        "colab": {}
      },
      "source": [
        "x = gspc_plots_predict.loc[:,'High':'Volume']\n",
        "y = gspc_plots_predict.loc[:,'Open']"
      ],
      "execution_count": 0,
      "outputs": []
    },
    {
      "cell_type": "code",
      "metadata": {
        "id": "kJZiWnzkiOVL",
        "colab_type": "code",
        "outputId": "19e698eb-bcb1-4f41-bebe-b2c830bd26dc",
        "colab": {}
      },
      "source": [
        "y"
      ],
      "execution_count": 0,
      "outputs": [
        {
          "output_type": "execute_result",
          "data": {
            "text/plain": [
              "0     3330.020020\n",
              "1     3315.770020\n",
              "2     3333.100098\n",
              "3     3333.100098\n",
              "4     3333.100098\n",
              "         ...     \n",
              "82    2782.459961\n",
              "83    2805.100098\n",
              "84    2795.639893\n",
              "85    2799.340088\n",
              "86    2799.340088\n",
              "Name: Open, Length: 87, dtype: float64"
            ]
          },
          "metadata": {
            "tags": []
          },
          "execution_count": 116
        }
      ]
    },
    {
      "cell_type": "code",
      "metadata": {
        "id": "PLEewUaEiOVN",
        "colab_type": "code",
        "colab": {}
      },
      "source": [
        "from sklearn.model_selection import train_test_split\n",
        "x_train,x_test,y_train,y_test = train_test_split(x,y,test_size = 0.1,random_state = 42)"
      ],
      "execution_count": 0,
      "outputs": []
    },
    {
      "cell_type": "code",
      "metadata": {
        "id": "Zj8drMm2iOVP",
        "colab_type": "code",
        "colab": {}
      },
      "source": [
        "from sklearn.linear_model import LinearRegression\n",
        "regressor = LinearRegression()"
      ],
      "execution_count": 0,
      "outputs": []
    },
    {
      "cell_type": "code",
      "metadata": {
        "id": "l--JS_gaiOVT",
        "colab_type": "code",
        "outputId": "5d4f22e6-0d3c-44e5-8068-29edac6fb01a",
        "colab": {}
      },
      "source": [
        "regressor.fit(x_train,y_train)"
      ],
      "execution_count": 0,
      "outputs": [
        {
          "output_type": "execute_result",
          "data": {
            "text/plain": [
              "LinearRegression(copy_X=True, fit_intercept=True, n_jobs=None, normalize=False)"
            ]
          },
          "metadata": {
            "tags": []
          },
          "execution_count": 119
        }
      ]
    },
    {
      "cell_type": "code",
      "metadata": {
        "id": "JaOtYN7eiOVV",
        "colab_type": "code",
        "colab": {}
      },
      "source": [
        "input_22_april=[[2815.10,2775.95,2799.31,2799.31,5049660000]]\n",
        "predict_next = regressor.predict(input_22_april)"
      ],
      "execution_count": 0,
      "outputs": []
    },
    {
      "cell_type": "code",
      "metadata": {
        "id": "SqFA3u3qiOVW",
        "colab_type": "code",
        "outputId": "69cef546-bd8c-4073-fe91-f26c2f295eb0",
        "colab": {}
      },
      "source": [
        "predict_next"
      ],
      "execution_count": 0,
      "outputs": [
        {
          "output_type": "execute_result",
          "data": {
            "text/plain": [
              "array([2791.51178081])"
            ]
          },
          "metadata": {
            "tags": []
          },
          "execution_count": 121
        }
      ]
    },
    {
      "cell_type": "markdown",
      "metadata": {
        "id": "YK-Jf1chiOVY",
        "colab_type": "text"
      },
      "source": [
        "### correct Open price is approximately similar to our prediction."
      ]
    }
  ]
}